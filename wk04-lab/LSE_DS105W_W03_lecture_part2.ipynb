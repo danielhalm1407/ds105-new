{
 "cells": [
  {
   "attachments": {},
   "cell_type": "markdown",
   "metadata": {},
   "source": [
    "LSE Data Science Institute | DS105W (2023/24) | Week 03\n",
    "\n",
    "# 🗓️ Week 03 – Data types, File formats, Git and markdown\n",
    "\n",
    "Theme: Behind the scenes\n",
    "\n",
    "**DATE:** 31 January 2024\n",
    "\n",
    "**AUTHOR:** [@jonjoncardoso](https://jonjoncardoso.github.io)\n",
    "\n",
    "------------------------------\n"
   ]
  },
  {
   "cell_type": "markdown",
   "metadata": {},
   "source": [
    "## ⚙️ Setup\n",
    "\n",
    "Let's start by importing the libraries we will use today:\n"
   ]
  },
  {
   "cell_type": "code",
   "execution_count": 5,
   "metadata": {},
   "outputs": [],
   "source": [
    "\n",
    "import pandas as pd"
   ]
  },
  {
   "cell_type": "markdown",
   "metadata": {},
   "source": [
    "💡 We can run **Terminal** comands inside Jupyter notebook!!!! All you need to do is to add a `!` before the command. The code will no longer be interpreted as Python code, but as a Terminal command.\n"
   ]
  },
  {
   "cell_type": "code",
   "execution_count": 1,
   "metadata": {},
   "outputs": [
    {
     "name": "stdout",
     "output_type": "stream",
     "text": [
      "Couldn't find program: 'bash'\n"
     ]
    }
   ],
   "source": [
    "%%bash\n",
    "!ls -lh"
   ]
  },
  {
   "cell_type": "code",
   "execution_count": 2,
   "metadata": {},
   "outputs": [
    {
     "name": "stdout",
     "output_type": "stream",
     "text": [
      "Couldn't find program: 'bash'\n"
     ]
    }
   ],
   "source": [
    "%%bash \n",
    "!cd data && ls -lh"
   ]
  },
  {
   "cell_type": "markdown",
   "metadata": {},
   "source": [
    "But be careful! Even if you `cd`, you will not change the directory of the notebook. The `pwd` will always remain the same:"
   ]
  },
  {
   "cell_type": "code",
   "execution_count": 6,
   "metadata": {},
   "outputs": [
    {
     "name": "stderr",
     "output_type": "stream",
     "text": [
      "'pwd' is not recognized as an internal or external command,\n",
      "operable program or batch file.\n"
     ]
    }
   ],
   "source": [
    "!pwd"
   ]
  },
  {
   "cell_type": "markdown",
   "metadata": {},
   "source": [
    "## 1. We need good datasets\n",
    "\n",
    "\n",
    "> 📒 A **dataset** is simply a collection of data.\n",
    "\n",
    "- But just having a collection of data is not enough...\n"
   ]
  },
  {
   "cell_type": "markdown",
   "metadata": {},
   "source": [
    "### We need <ins>organised</ins> datasets \n",
    "\n",
    "Otherwise, we won't be at our most productive in subsequent stages of the data science workflow. \n",
    "\n",
    "Soon, you will start collecting data. You will notice first-hand how messy data can be."
   ]
  },
  {
   "cell_type": "markdown",
   "metadata": {},
   "source": [
    "<svg width=\"960\" height=\"384\" viewBox=\"0.00 0.00 1104.31 425.00\" xmlns=\"http://www.w3.org/2000/svg\" xlink=\"http://www.w3.org/1999/xlink\" style=\"; max-width: none; max-height: none; display: block; margin: auto auto auto auto\">\n",
    "<g id=\"graph0\" class=\"graph\" transform=\"scale(1 1) rotate(0) translate(36 389)\"> <polygon fill=\"white\" stroke=\"transparent\" points=\"-36,36 -36,-389 1068.31,-389 1068.31,36 -36,36\"></polygon> <!-- start --> <g id=\"node1\" class=\"node\">\n",
    "<title>\n",
    "start\n",
    "</title>\n",
    "<polygon fill=\"#f2eaf6\" stroke=\"#f2eaf6\" points=\"73.98,-353 8.43,-353 8.43,-301 73.98,-301 73.98,-353\"></polygon> <text text-anchor=\"middle\" x=\"41.21\" y=\"-321\" font-family=\"Helvetica,Arial,sans-serif\" font-size=\"20.00\" fill=\"#8431a6\">Start</text> </g> <!-- gather --> <g id=\"node2\" class=\"node\">\n",
    "<title>\n",
    "gather\n",
    "</title>\n",
    "<text text-anchor=\"start\" x=\"14\" y=\"-232\" font-family=\"Helvetica,Arial,sans-serif\" font-size=\"20.00\" fill=\"#8431a6\">Gather</text> <text text-anchor=\"middle\" x=\"41.21\" y=\"-208\" font-family=\"Helvetica,Arial,sans-serif\" font-size=\"20.00\" fill=\"#8431a6\">data &nbsp;</text> </g> <!-- start&#45;&gt;gather --> <g id=\"edge8\" class=\"edge\">\n",
    "<title>\n",
    "start-&gt;gather\n",
    "</title>\n",
    "<path fill=\"none\" stroke=\"#8431a6\" stroke-width=\"4\" d=\"M41.21,-300.76C41.21,-292.69 41.21,-283.47 41.21,-274.35\"></path> <polygon fill=\"#8431a6\" stroke=\"#8431a6\" stroke-width=\"4\" points=\"44.71,-274.16 41.21,-264.16 37.71,-274.16 44.71,-274.16\"></polygon> </g> <!-- store --> <g id=\"node3\" class=\"node\">\n",
    "<title>\n",
    "store\n",
    "</title>\n",
    "<text text-anchor=\"start\" x=\"134.54\" y=\"-232\" font-family=\"Helvetica,Arial,sans-serif\" font-size=\"20.00\" fill=\"#8431a6\">Store it &nbsp;&nbsp;&nbsp;&nbsp;&nbsp;&nbsp;&nbsp;&nbsp;</text> <text text-anchor=\"middle\" x=\"186.21\" y=\"-208\" font-family=\"Helvetica,Arial,sans-serif\" font-size=\"20.00\" fill=\"#8431a6\">somewhere</text> </g> <!-- gather&#45;&gt;store --> <g id=\"edge1\" class=\"edge\">\n",
    "<title>\n",
    "gather-&gt;store\n",
    "</title>\n",
    "<path fill=\"none\" stroke=\"#8431a6\" stroke-width=\"4\" d=\"M82.76,-226C91.36,-226 100.68,-226 110.08,-226\"></path> <polygon fill=\"#8431a6\" stroke=\"#8431a6\" stroke-width=\"4\" points=\"110.29,-229.5 120.29,-226 110.29,-222.5 110.29,-229.5\"></polygon> <text text-anchor=\"middle\" x=\"101.48\" y=\"-233.2\" font-family=\"Helvetica,Arial,sans-serif\" font-size=\"14.00\"> &nbsp;&nbsp;&nbsp;&nbsp;&nbsp;</text> </g> <!-- clean --> <g id=\"node4\" class=\"node\">\n",
    "<title>\n",
    "clean\n",
    "</title>\n",
    "<text text-anchor=\"start\" x=\"304.6\" y=\"-232\" font-family=\"Helvetica,Arial,sans-serif\" font-size=\"20.00\" fill=\"#8431a6\">Clean &amp; &nbsp;&nbsp;&nbsp;&nbsp;&nbsp;&nbsp;&nbsp;</text> <text text-anchor=\"middle\" x=\"358.21\" y=\"-208\" font-family=\"Helvetica,Arial,sans-serif\" font-size=\"20.00\" fill=\"#8431a6\">pre-process</text> </g> <!-- store&#45;&gt;clean --> <g id=\"edge2\" class=\"edge\">\n",
    "<title>\n",
    "store-&gt;clean\n",
    "</title>\n",
    "<path fill=\"none\" stroke=\"#8431a6\" stroke-width=\"4\" d=\"M252.21,-226C261.4,-226 270.9,-226 280.28,-226\"></path> <polygon fill=\"#8431a6\" stroke=\"#8431a6\" stroke-width=\"4\" points=\"280.38,-229.5 290.38,-226 280.38,-222.5 280.38,-229.5\"></polygon> <text text-anchor=\"middle\" x=\"271.24\" y=\"-233.2\" font-family=\"Helvetica,Arial,sans-serif\" font-size=\"14.00\"> &nbsp;&nbsp;&nbsp;&nbsp;&nbsp;</text> </g> <!-- build --> <g id=\"node5\" class=\"node\">\n",
    "<title>\n",
    "build\n",
    "</title>\n",
    "<polygon fill=\"#8431a6\" stroke=\"transparent\" points=\"556.04,-264 464.38,-264 464.38,-188 556.04,-188 556.04,-264\"></polygon> <text text-anchor=\"start\" x=\"478.54\" y=\"-232\" font-family=\"Helvetica,Arial,sans-serif\" font-size=\"20.00\" fill=\"#fcfcfc\">Build a </text> <text text-anchor=\"middle\" x=\"510.21\" y=\"-208\" font-family=\"Helvetica,Arial,sans-serif\" font-size=\"20.00\" fill=\"#fcfcfc\">dataset</text> </g> <!-- clean&#45;&gt;build --> <g id=\"edge3\" class=\"edge\">\n",
    "<title>\n",
    "clean-&gt;build\n",
    "</title>\n",
    "<path fill=\"none\" stroke=\"#8431a6\" stroke-width=\"4\" d=\"M426.2,-226C435.62,-226 445.21,-226 454.37,-226\"></path> <polygon fill=\"#8431a6\" stroke=\"#8431a6\" stroke-width=\"4\" points=\"454.51,-229.5 464.51,-226 454.51,-222.5 454.51,-229.5\"></polygon> <text text-anchor=\"middle\" x=\"445.18\" y=\"-233.2\" font-family=\"Helvetica,Arial,sans-serif\" font-size=\"14.00\"> &nbsp;&nbsp;&nbsp;&nbsp;&nbsp;</text> </g> <!-- eda --> <g id=\"node6\" class=\"node\">\n",
    "<title>\n",
    "eda\n",
    "</title>\n",
    "<text text-anchor=\"start\" x=\"452.44\" y=\"-119\" font-family=\"Helvetica,Arial,sans-serif\" font-size=\"20.00\" fill=\"#8431a6\">Exploratory &nbsp;&nbsp;&nbsp;</text> <text text-anchor=\"middle\" x=\"510.21\" y=\"-95\" font-family=\"Helvetica,Arial,sans-serif\" font-size=\"20.00\" fill=\"#8431a6\">data analysis</text> </g> <!-- build&#45;&gt;eda --> <g id=\"edge4\" class=\"edge\">\n",
    "<title>\n",
    "build-&gt;eda\n",
    "</title>\n",
    "<path fill=\"none\" stroke=\"#8431a6\" stroke-width=\"4\" d=\"M510.21,-187.73C510.21,-179.31 510.21,-170.26 510.21,-161.48\"></path> <polygon fill=\"#8431a6\" stroke=\"#8431a6\" stroke-width=\"4\" points=\"513.71,-161.36 510.21,-151.36 506.71,-161.36 513.71,-161.36\"></polygon> </g> <!-- ml --> <g id=\"node7\" class=\"node\">\n",
    "<title>\n",
    "ml\n",
    "</title>\n",
    "<text text-anchor=\"start\" x=\"634.22\" y=\"-119\" font-family=\"Helvetica,Arial,sans-serif\" font-size=\"20.00\" fill=\"#8431a6\">Machine</text> <text text-anchor=\"middle\" x=\"669.21\" y=\"-95\" font-family=\"Helvetica,Arial,sans-serif\" font-size=\"20.00\" fill=\"#8431a6\">learning</text> </g> <!-- eda&#45;&gt;ml --> <g id=\"edge5\" class=\"edge\">\n",
    "<title>\n",
    "eda-&gt;ml\n",
    "</title>\n",
    "<path fill=\"none\" stroke=\"#8431a6\" stroke-width=\"4\" d=\"M581.8,-113C591.14,-113 600.63,-113 609.75,-113\"></path> <polygon fill=\"#8431a6\" stroke=\"#8431a6\" stroke-width=\"4\" points=\"609.85,-116.5 619.85,-113 609.85,-109.5 609.85,-116.5\"></polygon> <text text-anchor=\"middle\" x=\"601.1\" y=\"-120.2\" font-family=\"Helvetica,Arial,sans-serif\" font-size=\"14.00\"> &nbsp;&nbsp;&nbsp;&nbsp;&nbsp;</text> </g> <!-- insight --> <g id=\"node8\" class=\"node\">\n",
    "<title>\n",
    "insight\n",
    "</title>\n",
    "<text text-anchor=\"start\" x=\"770.49\" y=\"-119\" font-family=\"Helvetica,Arial,sans-serif\" font-size=\"20.00\" fill=\"#8431a6\">Obtain &nbsp;&nbsp;</text> <text text-anchor=\"middle\" x=\"805.21\" y=\"-95\" font-family=\"Helvetica,Arial,sans-serif\" font-size=\"20.00\" fill=\"#8431a6\">insights</text> </g> <!-- ml&#45;&gt;insight --> <g id=\"edge6\" class=\"edge\">\n",
    "<title>\n",
    "ml-&gt;insight\n",
    "</title>\n",
    "<path fill=\"none\" stroke=\"#8431a6\" stroke-width=\"4\" d=\"M718.31,-113C727.26,-113 736.69,-113 745.91,-113\"></path> <polygon fill=\"#8431a6\" stroke=\"#8431a6\" stroke-width=\"4\" points=\"746.18,-116.5 756.18,-113 746.18,-109.5 746.18,-116.5\"></polygon> <text text-anchor=\"middle\" x=\"737.34\" y=\"-120.2\" font-family=\"Helvetica,Arial,sans-serif\" font-size=\"14.00\"> &nbsp;&nbsp;&nbsp;&nbsp;&nbsp;</text> </g> <!-- communicate --> <g id=\"node9\" class=\"node\">\n",
    "<title>\n",
    "communicate\n",
    "</title>\n",
    "<text text-anchor=\"start\" x=\"906.11\" y=\"-119\" font-family=\"Helvetica,Arial,sans-serif\" font-size=\"20.00\" fill=\"#8431a6\">Communicate</text> <text text-anchor=\"middle\" x=\"962.21\" y=\"-95\" font-family=\"Helvetica,Arial,sans-serif\" font-size=\"20.00\" fill=\"#8431a6\">results &nbsp;&nbsp;&nbsp;&nbsp;&nbsp;&nbsp;&nbsp;&nbsp;</text> </g> <!-- insight&#45;&gt;communicate --> <g id=\"edge7\" class=\"edge\">\n",
    "<title>\n",
    "insight-&gt;communicate\n",
    "</title>\n",
    "<path fill=\"none\" stroke=\"#8431a6\" stroke-width=\"4\" d=\"M854.02,-113C862.88,-113 872.33,-113 881.82,-113\"></path> <polygon fill=\"#8431a6\" stroke=\"#8431a6\" stroke-width=\"4\" points=\"882.1,-116.5 892.1,-113 882.1,-109.5 882.1,-116.5\"></polygon> <text text-anchor=\"middle\" x=\"873.02\" y=\"-120.2\" font-family=\"Helvetica,Arial,sans-serif\" font-size=\"14.00\"> &nbsp;&nbsp;&nbsp;&nbsp;&nbsp;</text> </g> <!-- end --> <g id=\"node10\" class=\"node\">\n",
    "<title>\n",
    "end\n",
    "</title>\n",
    "<polygon fill=\"#f2eaf6\" stroke=\"#f2eaf6\" points=\"989.21,-38 935.21,-38 935.21,0 989.21,0 989.21,-38\"></polygon> <text text-anchor=\"middle\" x=\"962.21\" y=\"-13\" font-family=\"Helvetica,Arial,sans-serif\" font-size=\"20.00\" fill=\"#8431a6\">End</text> </g> <!-- communicate&#45;&gt;end --> <g id=\"edge9\" class=\"edge\">\n",
    "<title>\n",
    "communicate-&gt;end\n",
    "</title>\n",
    "<path fill=\"none\" stroke=\"#8431a6\" stroke-width=\"4\" d=\"M962.21,-74.85C962.21,-65.94 962.21,-56.57 962.21,-48.15\"></path> <polygon fill=\"#8431a6\" stroke=\"#8431a6\" stroke-width=\"4\" points=\"965.71,-48.09 962.21,-38.09 958.71,-48.09 965.71,-48.09\"></polygon> </g> </g>\n",
    "</svg>"
   ]
  },
  {
   "cell_type": "markdown",
   "metadata": {},
   "source": [
    "🌐 Click [here](https://opendata.camden.gov.uk/Crime-and-Criminal-Justice/On-Street-Crime-In-Camden-Map/893b-tp33) to view the **Open Street Crime Map** data for Camden, London. We will use this resource as an example to explore different file formats."
   ]
  },
  {
   "cell_type": "markdown",
   "metadata": {},
   "source": [
    "## File format: CSV\n",
    "\n",
    "Let's start by exporting the crime data as a CSV file.\n",
    "\n",
    "Place the downloaded file in the `./data` folder of your project (create this folder if it doesn't exist yet)\n"
   ]
  },
  {
   "cell_type": "markdown",
   "metadata": {},
   "source": [
    "**We downloaded a CSV file. The [pandas documentation](https://pandas.pydata.org/docs/reference/api/pandas.read_csv.html#pandas-read-csv) suggests we can use the `read_csv()` function to read it:**"
   ]
  },
  {
   "cell_type": "code",
   "execution_count": 6,
   "metadata": {},
   "outputs": [
    {
     "name": "stderr",
     "output_type": "stream",
     "text": [
      "C:\\Users\\danie\\AppData\\Local\\Temp\\ipykernel_23696\\2327099233.py:1: DtypeWarning: Columns (7) have mixed types. Specify dtype option on import or set low_memory=False.\n",
      "  df_street_crime = pd.read_csv(\"https://opendata.camden.gov.uk/api/views/893b-tp33/rows.csv?accessType=DOWNLOAD\")\n"
     ]
    }
   ],
   "source": [
    "df_street_crime = pd.read_csv(\"https://opendata.camden.gov.uk/api/views/893b-tp33/rows.csv?accessType=DOWNLOAD\")"
   ]
  },
  {
   "cell_type": "markdown",
   "metadata": {},
   "source": [
    "🗣️ **CLASSROOM DISCUSSION:** What does the message above mean? Is it an error? How can I know?\n",
    "\n",
    "<details><summary>Click here to see a possible answer</summary>\n",
    "\n",
    "To understand the error above, we need to understand the concept of `dtype` (data type). When reading the file, the 🐼 pandas library tries to infer a lot of things about the data. \n",
    "\n",
    "Since the file ends with `.csv`, a **structured data format**, 🐼 pandas assumes a few things:\n",
    "\n",
    "1. this is a **C**omma-**S**eparated **V**alues file, which is a fancy way to say that the data is separated by commas (`,`).\n",
    "\n",
    "2. on top of the commas, the data is also separated by **new lines** (`\\n`)\n",
    "\n",
    "3. each line represents a **row** of data, an individual **observation**\n",
    "\n",
    "4. the very first row is special. It contains the **column names**. Each column name is separated by, again, a comma (`,`)\n",
    "\n",
    "5. _the data in each column is of the same **type**._\n",
    "\n",
    "💡 The message above is not an Error, but a Warning and it seems connected with Assumption 5. 🐼 pandas is trying to infer the data type of each column, it fails to do so but it still manages to read the file.\n",
    "\n",
    "</details>"
   ]
  },
  {
   "cell_type": "markdown",
   "metadata": {},
   "source": [
    "We can confirm that the file was read by checking out the first 5 rows of the data:"
   ]
  },
  {
   "cell_type": "code",
   "execution_count": 7,
   "metadata": {},
   "outputs": [
    {
     "data": {
      "text/html": [
       "<div>\n",
       "<style scoped>\n",
       "    .dataframe tbody tr th:only-of-type {\n",
       "        vertical-align: middle;\n",
       "    }\n",
       "\n",
       "    .dataframe tbody tr th {\n",
       "        vertical-align: top;\n",
       "    }\n",
       "\n",
       "    .dataframe thead th {\n",
       "        text-align: right;\n",
       "    }\n",
       "</style>\n",
       "<table border=\"1\" class=\"dataframe\">\n",
       "  <thead>\n",
       "    <tr style=\"text-align: right;\">\n",
       "      <th></th>\n",
       "      <th>Category</th>\n",
       "      <th>Street ID</th>\n",
       "      <th>Street Name</th>\n",
       "      <th>Context</th>\n",
       "      <th>Outcome Category</th>\n",
       "      <th>Outcome Date</th>\n",
       "      <th>Service</th>\n",
       "      <th>Location Subtype</th>\n",
       "      <th>ID</th>\n",
       "      <th>Persistent ID</th>\n",
       "      <th>Epoch</th>\n",
       "      <th>Ward Code</th>\n",
       "      <th>Ward Name</th>\n",
       "      <th>Easting</th>\n",
       "      <th>Northing</th>\n",
       "      <th>Longitude</th>\n",
       "      <th>Latitude</th>\n",
       "      <th>Spatial Accuracy</th>\n",
       "      <th>Last Uploaded</th>\n",
       "      <th>Location</th>\n",
       "    </tr>\n",
       "  </thead>\n",
       "  <tbody>\n",
       "    <tr>\n",
       "      <th>0</th>\n",
       "      <td>Other theft</td>\n",
       "      <td>1489515</td>\n",
       "      <td>Kings Cross (station)</td>\n",
       "      <td>NaN</td>\n",
       "      <td>Status update unavailable</td>\n",
       "      <td>01/08/2017</td>\n",
       "      <td>British Transport Police</td>\n",
       "      <td>Station</td>\n",
       "      <td>64777250</td>\n",
       "      <td>NaN</td>\n",
       "      <td>01/04/2017</td>\n",
       "      <td>E05000143</td>\n",
       "      <td>St Pancras and Somers Town</td>\n",
       "      <td>530277.37</td>\n",
       "      <td>183101.39</td>\n",
       "      <td>-0.123189</td>\n",
       "      <td>51.531800</td>\n",
       "      <td>This is only an approximation of where the cri...</td>\n",
       "      <td>11/07/2018</td>\n",
       "      <td>(51.5318, -0.123189)</td>\n",
       "    </tr>\n",
       "    <tr>\n",
       "      <th>1</th>\n",
       "      <td>Anti-social behaviour</td>\n",
       "      <td>960522</td>\n",
       "      <td>On or near Wellesley Place</td>\n",
       "      <td>NaN</td>\n",
       "      <td>NaN</td>\n",
       "      <td>NaN</td>\n",
       "      <td>Police Force</td>\n",
       "      <td>NaN</td>\n",
       "      <td>51520755</td>\n",
       "      <td>NaN</td>\n",
       "      <td>01/09/2016</td>\n",
       "      <td>E05000143</td>\n",
       "      <td>St Pancras and Somers Town</td>\n",
       "      <td>529707.23</td>\n",
       "      <td>182682.77</td>\n",
       "      <td>-0.131558</td>\n",
       "      <td>51.528169</td>\n",
       "      <td>This is only an approximation of where the cri...</td>\n",
       "      <td>11/07/2018</td>\n",
       "      <td>(51.528169, -0.131558)</td>\n",
       "    </tr>\n",
       "    <tr>\n",
       "      <th>2</th>\n",
       "      <td>Theft from the person</td>\n",
       "      <td>965233</td>\n",
       "      <td>On or near Avenue Road</td>\n",
       "      <td>NaN</td>\n",
       "      <td>Investigation complete; no suspect identified</td>\n",
       "      <td>01/08/2015</td>\n",
       "      <td>Police Force</td>\n",
       "      <td>NaN</td>\n",
       "      <td>42356413</td>\n",
       "      <td>915131bf174019fd2fcf5aa4af305f7b2b34a763d8fcb0...</td>\n",
       "      <td>01/07/2015</td>\n",
       "      <td>E05000144</td>\n",
       "      <td>Swiss Cottage</td>\n",
       "      <td>526716.88</td>\n",
       "      <td>184227.86</td>\n",
       "      <td>-0.174124</td>\n",
       "      <td>51.542741</td>\n",
       "      <td>This is only an approximation of where the cri...</td>\n",
       "      <td>05/05/2016</td>\n",
       "      <td>(51.542741, -0.174124)</td>\n",
       "    </tr>\n",
       "    <tr>\n",
       "      <th>3</th>\n",
       "      <td>Anti-social behaviour</td>\n",
       "      <td>960974</td>\n",
       "      <td>On or near Birkenhead Street</td>\n",
       "      <td>NaN</td>\n",
       "      <td>NaN</td>\n",
       "      <td>NaN</td>\n",
       "      <td>Police Force</td>\n",
       "      <td>NaN</td>\n",
       "      <td>59431385</td>\n",
       "      <td>NaN</td>\n",
       "      <td>01/08/2017</td>\n",
       "      <td>E05000141</td>\n",
       "      <td>King's Cross</td>\n",
       "      <td>530390.22</td>\n",
       "      <td>182860.71</td>\n",
       "      <td>-0.121652</td>\n",
       "      <td>51.529611</td>\n",
       "      <td>This is only an approximation of where the cri...</td>\n",
       "      <td>03/11/2017</td>\n",
       "      <td>(51.529611, -0.121652)</td>\n",
       "    </tr>\n",
       "    <tr>\n",
       "      <th>4</th>\n",
       "      <td>Drugs</td>\n",
       "      <td>972275</td>\n",
       "      <td>On or near Oakeshott Avenue</td>\n",
       "      <td>NaN</td>\n",
       "      <td>Offender given a drugs possession warning</td>\n",
       "      <td>01/06/2015</td>\n",
       "      <td>Police Force</td>\n",
       "      <td>NaN</td>\n",
       "      <td>41931981</td>\n",
       "      <td>bd5bef6ee7b3711e69ecfc40c1c256d45336f23aeda337...</td>\n",
       "      <td>01/06/2015</td>\n",
       "      <td>E05000137</td>\n",
       "      <td>Highgate</td>\n",
       "      <td>528335.87</td>\n",
       "      <td>186805.94</td>\n",
       "      <td>-0.149851</td>\n",
       "      <td>51.565544</td>\n",
       "      <td>This is only an approximation of where the cri...</td>\n",
       "      <td>21/08/2015</td>\n",
       "      <td>(51.565544, -0.149851)</td>\n",
       "    </tr>\n",
       "  </tbody>\n",
       "</table>\n",
       "</div>"
      ],
      "text/plain": [
       "                Category  Street ID                   Street Name  Context  \\\n",
       "0            Other theft    1489515         Kings Cross (station)      NaN   \n",
       "1  Anti-social behaviour     960522    On or near Wellesley Place      NaN   \n",
       "2  Theft from the person     965233        On or near Avenue Road      NaN   \n",
       "3  Anti-social behaviour     960974  On or near Birkenhead Street      NaN   \n",
       "4                  Drugs     972275   On or near Oakeshott Avenue      NaN   \n",
       "\n",
       "                                Outcome Category Outcome Date  \\\n",
       "0                      Status update unavailable   01/08/2017   \n",
       "1                                            NaN          NaN   \n",
       "2  Investigation complete; no suspect identified   01/08/2015   \n",
       "3                                            NaN          NaN   \n",
       "4      Offender given a drugs possession warning   01/06/2015   \n",
       "\n",
       "                    Service Location Subtype        ID  \\\n",
       "0  British Transport Police          Station  64777250   \n",
       "1              Police Force              NaN  51520755   \n",
       "2              Police Force              NaN  42356413   \n",
       "3              Police Force              NaN  59431385   \n",
       "4              Police Force              NaN  41931981   \n",
       "\n",
       "                                       Persistent ID       Epoch  Ward Code  \\\n",
       "0                                                NaN  01/04/2017  E05000143   \n",
       "1                                                NaN  01/09/2016  E05000143   \n",
       "2  915131bf174019fd2fcf5aa4af305f7b2b34a763d8fcb0...  01/07/2015  E05000144   \n",
       "3                                                NaN  01/08/2017  E05000141   \n",
       "4  bd5bef6ee7b3711e69ecfc40c1c256d45336f23aeda337...  01/06/2015  E05000137   \n",
       "\n",
       "                    Ward Name    Easting   Northing  Longitude   Latitude  \\\n",
       "0  St Pancras and Somers Town  530277.37  183101.39  -0.123189  51.531800   \n",
       "1  St Pancras and Somers Town  529707.23  182682.77  -0.131558  51.528169   \n",
       "2               Swiss Cottage  526716.88  184227.86  -0.174124  51.542741   \n",
       "3                King's Cross  530390.22  182860.71  -0.121652  51.529611   \n",
       "4                    Highgate  528335.87  186805.94  -0.149851  51.565544   \n",
       "\n",
       "                                    Spatial Accuracy Last Uploaded  \\\n",
       "0  This is only an approximation of where the cri...    11/07/2018   \n",
       "1  This is only an approximation of where the cri...    11/07/2018   \n",
       "2  This is only an approximation of where the cri...    05/05/2016   \n",
       "3  This is only an approximation of where the cri...    03/11/2017   \n",
       "4  This is only an approximation of where the cri...    21/08/2015   \n",
       "\n",
       "                 Location  \n",
       "0    (51.5318, -0.123189)  \n",
       "1  (51.528169, -0.131558)  \n",
       "2  (51.542741, -0.174124)  \n",
       "3  (51.529611, -0.121652)  \n",
       "4  (51.565544, -0.149851)  "
      ]
     },
     "execution_count": 7,
     "metadata": {},
     "output_type": "execute_result"
    }
   ],
   "source": [
    "df_street_crime.head()"
   ]
  },
  {
   "cell_type": "markdown",
   "metadata": {},
   "source": [
    "**How do I get a list of column names**"
   ]
  },
  {
   "cell_type": "code",
   "execution_count": 8,
   "metadata": {},
   "outputs": [
    {
     "data": {
      "text/plain": [
       "Index(['Category', 'Street ID', 'Street Name', 'Context', 'Outcome Category',\n",
       "       'Outcome Date', 'Service', 'Location Subtype', 'ID', 'Persistent ID',\n",
       "       'Epoch', 'Ward Code', 'Ward Name', 'Easting', 'Northing', 'Longitude',\n",
       "       'Latitude', 'Spatial Accuracy', 'Last Uploaded', 'Location'],\n",
       "      dtype='object')"
      ]
     },
     "execution_count": 8,
     "metadata": {},
     "output_type": "execute_result"
    }
   ],
   "source": [
    "df_street_crime.columns"
   ]
  },
  {
   "cell_type": "code",
   "execution_count": 10,
   "metadata": {},
   "outputs": [
    {
     "data": {
      "text/plain": [
       "['Category',\n",
       " 'Street ID',\n",
       " 'Street Name',\n",
       " 'Context',\n",
       " 'Outcome Category',\n",
       " 'Outcome Date',\n",
       " 'Service',\n",
       " 'Location Subtype',\n",
       " 'ID',\n",
       " 'Persistent ID',\n",
       " 'Epoch',\n",
       " 'Ward Code',\n",
       " 'Ward Name',\n",
       " 'Easting',\n",
       " 'Northing',\n",
       " 'Longitude',\n",
       " 'Latitude',\n",
       " 'Spatial Accuracy',\n",
       " 'Last Uploaded',\n",
       " 'Location']"
      ]
     },
     "execution_count": 10,
     "metadata": {},
     "output_type": "execute_result"
    }
   ],
   "source": [
    "df_street_crime.columns.to_list()"
   ]
  },
  {
   "cell_type": "markdown",
   "metadata": {},
   "source": [
    "Do you want to know how many columns are there? Use the function `len()`"
   ]
  },
  {
   "cell_type": "code",
   "execution_count": 9,
   "metadata": {},
   "outputs": [
    {
     "data": {
      "text/plain": [
       "20"
      ]
     },
     "execution_count": 9,
     "metadata": {},
     "output_type": "execute_result"
    }
   ],
   "source": [
    "len(df_street_crime.columns)"
   ]
  },
  {
   "cell_type": "markdown",
   "metadata": {},
   "source": [
    "**What if I just want to see a few columns?**\n",
    "\n"
   ]
  },
  {
   "cell_type": "code",
   "execution_count": 12,
   "metadata": {},
   "outputs": [
    {
     "data": {
      "text/html": [
       "<div>\n",
       "<style scoped>\n",
       "    .dataframe tbody tr th:only-of-type {\n",
       "        vertical-align: middle;\n",
       "    }\n",
       "\n",
       "    .dataframe tbody tr th {\n",
       "        vertical-align: top;\n",
       "    }\n",
       "\n",
       "    .dataframe thead th {\n",
       "        text-align: right;\n",
       "    }\n",
       "</style>\n",
       "<table border=\"1\" class=\"dataframe\">\n",
       "  <thead>\n",
       "    <tr style=\"text-align: right;\">\n",
       "      <th></th>\n",
       "      <th>Category</th>\n",
       "      <th>Street ID</th>\n",
       "      <th>Street Name</th>\n",
       "      <th>Outcome Category</th>\n",
       "      <th>Outcome Date</th>\n",
       "      <th>Location</th>\n",
       "    </tr>\n",
       "  </thead>\n",
       "  <tbody>\n",
       "    <tr>\n",
       "      <th>0</th>\n",
       "      <td>Other theft</td>\n",
       "      <td>1489515</td>\n",
       "      <td>Kings Cross (station)</td>\n",
       "      <td>Status update unavailable</td>\n",
       "      <td>01/08/2017</td>\n",
       "      <td>(51.5318, -0.123189)</td>\n",
       "    </tr>\n",
       "    <tr>\n",
       "      <th>1</th>\n",
       "      <td>Anti-social behaviour</td>\n",
       "      <td>960522</td>\n",
       "      <td>On or near Wellesley Place</td>\n",
       "      <td>NaN</td>\n",
       "      <td>NaN</td>\n",
       "      <td>(51.528169, -0.131558)</td>\n",
       "    </tr>\n",
       "    <tr>\n",
       "      <th>2</th>\n",
       "      <td>Theft from the person</td>\n",
       "      <td>965233</td>\n",
       "      <td>On or near Avenue Road</td>\n",
       "      <td>Investigation complete; no suspect identified</td>\n",
       "      <td>01/08/2015</td>\n",
       "      <td>(51.542741, -0.174124)</td>\n",
       "    </tr>\n",
       "    <tr>\n",
       "      <th>3</th>\n",
       "      <td>Anti-social behaviour</td>\n",
       "      <td>960974</td>\n",
       "      <td>On or near Birkenhead Street</td>\n",
       "      <td>NaN</td>\n",
       "      <td>NaN</td>\n",
       "      <td>(51.529611, -0.121652)</td>\n",
       "    </tr>\n",
       "    <tr>\n",
       "      <th>4</th>\n",
       "      <td>Drugs</td>\n",
       "      <td>972275</td>\n",
       "      <td>On or near Oakeshott Avenue</td>\n",
       "      <td>Offender given a drugs possession warning</td>\n",
       "      <td>01/06/2015</td>\n",
       "      <td>(51.565544, -0.149851)</td>\n",
       "    </tr>\n",
       "    <tr>\n",
       "      <th>5</th>\n",
       "      <td>Anti-social behaviour</td>\n",
       "      <td>965090</td>\n",
       "      <td>On or near Hawley Mews</td>\n",
       "      <td>NaN</td>\n",
       "      <td>NaN</td>\n",
       "      <td>(51.542507, -0.146589)</td>\n",
       "    </tr>\n",
       "    <tr>\n",
       "      <th>6</th>\n",
       "      <td>Violence and sexual offences</td>\n",
       "      <td>967816</td>\n",
       "      <td>On or near Maitland Park Villas</td>\n",
       "      <td>Under investigation</td>\n",
       "      <td>01/06/2017</td>\n",
       "      <td>(51.548264, -0.156365)</td>\n",
       "    </tr>\n",
       "    <tr>\n",
       "      <th>7</th>\n",
       "      <td>Vehicle crime</td>\n",
       "      <td>967555</td>\n",
       "      <td>On or near Ferncroft Avenue</td>\n",
       "      <td>Investigation complete; no suspect identified</td>\n",
       "      <td>01/02/2016</td>\n",
       "      <td>(51.558504, -0.191468)</td>\n",
       "    </tr>\n",
       "    <tr>\n",
       "      <th>8</th>\n",
       "      <td>Theft from the person</td>\n",
       "      <td>965140</td>\n",
       "      <td>On or near Nightclub</td>\n",
       "      <td>Under investigation</td>\n",
       "      <td>01/04/2018</td>\n",
       "      <td>(51.541352, -0.14629)</td>\n",
       "    </tr>\n",
       "    <tr>\n",
       "      <th>9</th>\n",
       "      <td>Other theft</td>\n",
       "      <td>965052</td>\n",
       "      <td>On or near Brocas Close</td>\n",
       "      <td>Investigation complete; no suspect identified</td>\n",
       "      <td>01/05/2016</td>\n",
       "      <td>(51.543954, -0.165408)</td>\n",
       "    </tr>\n",
       "  </tbody>\n",
       "</table>\n",
       "</div>"
      ],
      "text/plain": [
       "                       Category  Street ID                      Street Name  \\\n",
       "0                   Other theft    1489515            Kings Cross (station)   \n",
       "1         Anti-social behaviour     960522       On or near Wellesley Place   \n",
       "2         Theft from the person     965233           On or near Avenue Road   \n",
       "3         Anti-social behaviour     960974     On or near Birkenhead Street   \n",
       "4                         Drugs     972275      On or near Oakeshott Avenue   \n",
       "5         Anti-social behaviour     965090           On or near Hawley Mews   \n",
       "6  Violence and sexual offences     967816  On or near Maitland Park Villas   \n",
       "7                 Vehicle crime     967555      On or near Ferncroft Avenue   \n",
       "8         Theft from the person     965140             On or near Nightclub   \n",
       "9                   Other theft     965052          On or near Brocas Close   \n",
       "\n",
       "                                Outcome Category Outcome Date  \\\n",
       "0                      Status update unavailable   01/08/2017   \n",
       "1                                            NaN          NaN   \n",
       "2  Investigation complete; no suspect identified   01/08/2015   \n",
       "3                                            NaN          NaN   \n",
       "4      Offender given a drugs possession warning   01/06/2015   \n",
       "5                                            NaN          NaN   \n",
       "6                            Under investigation   01/06/2017   \n",
       "7  Investigation complete; no suspect identified   01/02/2016   \n",
       "8                            Under investigation   01/04/2018   \n",
       "9  Investigation complete; no suspect identified   01/05/2016   \n",
       "\n",
       "                 Location  \n",
       "0    (51.5318, -0.123189)  \n",
       "1  (51.528169, -0.131558)  \n",
       "2  (51.542741, -0.174124)  \n",
       "3  (51.529611, -0.121652)  \n",
       "4  (51.565544, -0.149851)  \n",
       "5  (51.542507, -0.146589)  \n",
       "6  (51.548264, -0.156365)  \n",
       "7  (51.558504, -0.191468)  \n",
       "8   (51.541352, -0.14629)  \n",
       "9  (51.543954, -0.165408)  "
      ]
     },
     "execution_count": 12,
     "metadata": {},
     "output_type": "execute_result"
    }
   ],
   "source": [
    "selected_columns = [\"Category\", \"Street ID\", \"Street Name\", \"Outcome Category\", \"Outcome Date\", \"Location\"]\n",
    "\n",
    "# Save to illustrate how CSV looks like in raw format\n",
    "df_street_crime[selected_columns].head(10)"
   ]
  },
  {
   "cell_type": "markdown",
   "metadata": {},
   "source": [
    "**Let's save this reduced dataset as a CSV file**"
   ]
  },
  {
   "cell_type": "code",
   "execution_count": 17,
   "metadata": {},
   "outputs": [],
   "source": [
    "df_street_crime[selected_columns].to_csv(\"./data/reduced_crime_data_index.csv\")"
   ]
  },
  {
   "cell_type": "code",
   "execution_count": 16,
   "metadata": {},
   "outputs": [],
   "source": [
    "df_street_crime[selected_columns].to_csv(\"./data/reduced_crime_data.csv\", index = False)"
   ]
  },
  {
   "cell_type": "markdown",
   "metadata": {},
   "source": [
    "What does the dataset looks like in its true form? (Not when read by Pandas)\n",
    "\n",
    "Let's use the `head` command to see the first 5 lines of the file:"
   ]
  },
  {
   "cell_type": "code",
   "execution_count": 15,
   "metadata": {},
   "outputs": [
    {
     "name": "stderr",
     "output_type": "stream",
     "text": [
      "'head' is not recognized as an internal or external command,\n",
      "operable program or batch file.\n"
     ]
    }
   ],
   "source": [
    "!head ./data/reduced_crime_data.csv"
   ]
  },
  {
   "cell_type": "markdown",
   "metadata": {},
   "source": [
    "## Data Types"
   ]
  },
  {
   "cell_type": "markdown",
   "metadata": {},
   "source": [
    "We can also get more info about what is stored in the `df_street_crime` variable by using the `info()` method:"
   ]
  },
  {
   "cell_type": "code",
   "execution_count": 19,
   "metadata": {},
   "outputs": [
    {
     "name": "stdout",
     "output_type": "stream",
     "text": [
      "<class 'pandas.core.frame.DataFrame'>\n",
      "RangeIndex: 409752 entries, 0 to 409751\n",
      "Data columns (total 20 columns):\n",
      " #   Column            Non-Null Count   Dtype  \n",
      "---  ------            --------------   -----  \n",
      " 0   Category          409752 non-null  object \n",
      " 1   Street ID         409752 non-null  int64  \n",
      " 2   Street Name       409752 non-null  object \n",
      " 3   Context           0 non-null       float64\n",
      " 4   Outcome Category  316285 non-null  object \n",
      " 5   Outcome Date      316285 non-null  object \n",
      " 6   Service           409752 non-null  object \n",
      " 7   Location Subtype  15697 non-null   object \n",
      " 8   ID                409752 non-null  int64  \n",
      " 9   Persistent ID     291898 non-null  object \n",
      " 10  Epoch             409752 non-null  object \n",
      " 11  Ward Code         409752 non-null  object \n",
      " 12  Ward Name         409752 non-null  object \n",
      " 13  Easting           409752 non-null  float64\n",
      " 14  Northing          409752 non-null  float64\n",
      " 15  Longitude         409752 non-null  float64\n",
      " 16  Latitude          409752 non-null  float64\n",
      " 17  Spatial Accuracy  409752 non-null  object \n",
      " 18  Last Uploaded     409752 non-null  object \n",
      " 19  Location          409752 non-null  object \n",
      "dtypes: float64(5), int64(2), object(13)\n",
      "memory usage: 62.5+ MB\n"
     ]
    },
    {
     "data": {
      "text/html": [
       "<div>\n",
       "<style scoped>\n",
       "    .dataframe tbody tr th:only-of-type {\n",
       "        vertical-align: middle;\n",
       "    }\n",
       "\n",
       "    .dataframe tbody tr th {\n",
       "        vertical-align: top;\n",
       "    }\n",
       "\n",
       "    .dataframe thead th {\n",
       "        text-align: right;\n",
       "    }\n",
       "</style>\n",
       "<table border=\"1\" class=\"dataframe\">\n",
       "  <thead>\n",
       "    <tr style=\"text-align: right;\">\n",
       "      <th></th>\n",
       "      <th>Street ID</th>\n",
       "      <th>Context</th>\n",
       "      <th>ID</th>\n",
       "      <th>Easting</th>\n",
       "      <th>Northing</th>\n",
       "      <th>Longitude</th>\n",
       "      <th>Latitude</th>\n",
       "    </tr>\n",
       "  </thead>\n",
       "  <tbody>\n",
       "    <tr>\n",
       "      <th>count</th>\n",
       "      <td>4.097520e+05</td>\n",
       "      <td>0.0</td>\n",
       "      <td>4.097520e+05</td>\n",
       "      <td>409752.000000</td>\n",
       "      <td>409752.000000</td>\n",
       "      <td>409752.000000</td>\n",
       "      <td>409752.000000</td>\n",
       "    </tr>\n",
       "    <tr>\n",
       "      <th>mean</th>\n",
       "      <td>1.125389e+06</td>\n",
       "      <td>NaN</td>\n",
       "      <td>7.718926e+07</td>\n",
       "      <td>528794.310783</td>\n",
       "      <td>183488.945185</td>\n",
       "      <td>-0.144427</td>\n",
       "      <td>51.535622</td>\n",
       "    </tr>\n",
       "    <tr>\n",
       "      <th>std</th>\n",
       "      <td>3.141758e+05</td>\n",
       "      <td>NaN</td>\n",
       "      <td>2.247643e+07</td>\n",
       "      <td>1646.471524</td>\n",
       "      <td>1407.168030</td>\n",
       "      <td>0.023390</td>\n",
       "      <td>0.012897</td>\n",
       "    </tr>\n",
       "    <tr>\n",
       "      <th>min</th>\n",
       "      <td>5.875900e+05</td>\n",
       "      <td>NaN</td>\n",
       "      <td>3.874200e+07</td>\n",
       "      <td>524016.330000</td>\n",
       "      <td>180979.780000</td>\n",
       "      <td>-0.212576</td>\n",
       "      <td>51.512785</td>\n",
       "    </tr>\n",
       "    <tr>\n",
       "      <th>25%</th>\n",
       "      <td>9.609240e+05</td>\n",
       "      <td>NaN</td>\n",
       "      <td>5.893932e+07</td>\n",
       "      <td>528111.860000</td>\n",
       "      <td>182282.710000</td>\n",
       "      <td>-0.153660</td>\n",
       "      <td>51.524452</td>\n",
       "    </tr>\n",
       "    <tr>\n",
       "      <th>50%</th>\n",
       "      <td>9.651520e+05</td>\n",
       "      <td>NaN</td>\n",
       "      <td>7.702738e+07</td>\n",
       "      <td>529210.660000</td>\n",
       "      <td>183614.720000</td>\n",
       "      <td>-0.138356</td>\n",
       "      <td>51.536861</td>\n",
       "    </tr>\n",
       "    <tr>\n",
       "      <th>75%</th>\n",
       "      <td>9.681450e+05</td>\n",
       "      <td>NaN</td>\n",
       "      <td>9.710521e+07</td>\n",
       "      <td>530029.200000</td>\n",
       "      <td>184598.870000</td>\n",
       "      <td>-0.127108</td>\n",
       "      <td>51.545929</td>\n",
       "    </tr>\n",
       "    <tr>\n",
       "      <th>max</th>\n",
       "      <td>2.346639e+06</td>\n",
       "      <td>NaN</td>\n",
       "      <td>1.150894e+08</td>\n",
       "      <td>531514.850000</td>\n",
       "      <td>187555.680000</td>\n",
       "      <td>-0.105902</td>\n",
       "      <td>51.572521</td>\n",
       "    </tr>\n",
       "  </tbody>\n",
       "</table>\n",
       "</div>"
      ],
      "text/plain": [
       "          Street ID  Context            ID        Easting       Northing  \\\n",
       "count  4.097520e+05      0.0  4.097520e+05  409752.000000  409752.000000   \n",
       "mean   1.125389e+06      NaN  7.718926e+07  528794.310783  183488.945185   \n",
       "std    3.141758e+05      NaN  2.247643e+07    1646.471524    1407.168030   \n",
       "min    5.875900e+05      NaN  3.874200e+07  524016.330000  180979.780000   \n",
       "25%    9.609240e+05      NaN  5.893932e+07  528111.860000  182282.710000   \n",
       "50%    9.651520e+05      NaN  7.702738e+07  529210.660000  183614.720000   \n",
       "75%    9.681450e+05      NaN  9.710521e+07  530029.200000  184598.870000   \n",
       "max    2.346639e+06      NaN  1.150894e+08  531514.850000  187555.680000   \n",
       "\n",
       "           Longitude       Latitude  \n",
       "count  409752.000000  409752.000000  \n",
       "mean       -0.144427      51.535622  \n",
       "std         0.023390       0.012897  \n",
       "min        -0.212576      51.512785  \n",
       "25%        -0.153660      51.524452  \n",
       "50%        -0.138356      51.536861  \n",
       "75%        -0.127108      51.545929  \n",
       "max        -0.105902      51.572521  "
      ]
     },
     "execution_count": 19,
     "metadata": {},
     "output_type": "execute_result"
    }
   ],
   "source": [
    "df_street_crime.info()\n",
    "df_street_crime.describe()"
   ]
  },
  {
   "cell_type": "markdown",
   "metadata": {},
   "source": [
    "🗣️ **CLASSROOM DISCUSSION:** What part of the message above is related to the types of data stored in each column? And what does it mean?\n",
    "\n",
    "<details><summary>Click here to read a possible answer</summary>\n",
    "\n",
    "The `Dtype` column shows the data type of each column.\n",
    "\n",
    "What is funny about the above is that pretty much all columns are of type `object`. This is 🐼 pandas way of saying \"I don't know what data type this column is, I will treat it as text\".\n",
    "\n",
    "</details>"
   ]
  },
  {
   "cell_type": "markdown",
   "metadata": {},
   "source": [
    "### Data Type: Integer\n",
    "\n",
    "An integer is a whole number (not a fraction) that can be positive, negative, or zero.\n",
    "\n",
    "At a lower level, at the computer's memory, an integer is represented by a **limited** sequence of bits (zeros and ones). I say limited because the number of bits used to represent an integer is fixed. See the `int64` notation under the 'Street ID' column? This means that the computer is using **64 individual bits** to represent each integer in that column.\n",
    "\n",
    "\n",
    "<details><summary>Click here to see how Integers work</summary>\n",
    "\n",
    "\n",
    "Suppose we only had 8 bits to represent an integer. The drawing below represents a single number, encoded in eight rectangular boxes. Each box represents a bit and they are colored in red if they have the number 1 and light grey if 0:\n",
    "\n",
    "<span style=\"background-color: #e5e5e5; display:inline-block; width:800px; padding:0; box-sizing: border-box;vertical-align:bottom;\">\n",
    "            <span style=\"float:left; font-size:3em;font-weight:bold;background-color: #C63C4A; width:100px; color:white; border: 1px gray solid; padding-top:1em;padding-bottom:1em; box-sizing: border-box;text-align:center;\">\n",
    "                1\n",
    "            </span>\n",
    "            <span style=\"float:left; font-size:3em;font-weight:bold;background-color: #C63C4A; width:100px; color:white; border: 1px gray solid; padding-top:1em;padding-bottom:1em; box-sizing: border-box;text-align:center;\">\n",
    "                1\n",
    "            </span>\n",
    "            <span style=\"float:left; font-size:3em;font-weight:bold;width:100px; color:#212121; border: 1px gray solid; padding-top:1em;padding-bottom:1em; box-sizing: border-box;text-align:center;\">\n",
    "                0\n",
    "            </span>\n",
    "            <span style=\"float:left; font-size:3em;font-weight:bold;width:100px; color:#212121; border: 1px gray solid; padding-top:1em;padding-bottom:1em; box-sizing: border-box;text-align:center;\">\n",
    "                0\n",
    "            </span>\n",
    "            <span style=\"float:left; font-size:3em;font-weight:bold;width:100px; color:#212121; border: 1px gray solid; padding-top:1em;padding-bottom:1em; box-sizing: border-box;text-align:center;\">\n",
    "                0\n",
    "            </span>\n",
    "            <span style=\"float:left; font-size:3em;font-weight:bold;width:100px; color:#212121; border: 1px gray solid; padding-top:1em;padding-bottom:1em; box-sizing: border-box;text-align:center;\">\n",
    "                0\n",
    "            </span>\n",
    "            <span style=\"float:left; font-size:3em;font-weight:bold;background-color: #C63C4A; width:100px; color:white; border: 1px gray solid; padding-top:1em;padding-bottom:1em; box-sizing: border-box;text-align:center;\">\n",
    "                1\n",
    "            </span>\n",
    "            <span style=\"float:left; font-size:3em;font-weight:bold;width:100px; color:#212121; border: 1px gray solid; padding-top:1em;padding-bottom:1em; box-sizing: border-box;text-align:center;\">\n",
    "                0\n",
    "            </span>\n",
    "</span>\n",
    "\n",
    "</details>"
   ]
  },
  {
   "cell_type": "code",
   "execution_count": 21,
   "metadata": {},
   "outputs": [
    {
     "name": "stdout",
     "output_type": "stream",
     "text": [
      "587590 2346639\n"
     ]
    }
   ],
   "source": [
    "# Let's check a single column: 'Street ID'\n",
    "print(df_street_crime[\"Street ID\"].min(), df_street_crime[\"Street ID\"].max())"
   ]
  },
  {
   "cell_type": "markdown",
   "metadata": {},
   "source": [
    "We can see that we need to use int32"
   ]
  },
  {
   "cell_type": "markdown",
   "metadata": {},
   "source": [
    "What are all the different integer sizes supported?\n",
    "\n",
    "- We would have to look at [numpy's documentation on Integer types](https://numpy.org/doc/stable/reference/arrays.scalars.html#integer-types). Pandas uses numpy under the hood to store data."
   ]
  },
  {
   "cell_type": "markdown",
   "metadata": {},
   "source": [
    "**What would be the most adequate integer type for the `Street ID` column?**\n",
    "\n",
    "<details><summary>Click here to read spoilers</summary>\n",
    "\n",
    "- Check the min and max of the column with the code:\n",
    "\n",
    "    ```python\n",
    "    df_street_crime['<column-name>'].min()\n",
    "    ```\n",
    "    \n",
    "    ```python\n",
    "    df_street_crime['<column-name>'].max()\n",
    "    ```\n",
    "\n",
    "- Learn how to convert a pandas column to a different data type using [.astype()](https://pandas.pydata.org/docs/reference/api/pandas.DataFrame.astype.html)\n",
    "\n",
    "</details>"
   ]
  },
  {
   "cell_type": "code",
   "execution_count": 25,
   "metadata": {},
   "outputs": [
    {
     "name": "stdout",
     "output_type": "stream",
     "text": [
      "<class 'pandas.core.frame.DataFrame'>\n",
      "RangeIndex: 409752 entries, 0 to 409751\n",
      "Data columns (total 20 columns):\n",
      " #   Column            Non-Null Count   Dtype  \n",
      "---  ------            --------------   -----  \n",
      " 0   Category          409752 non-null  object \n",
      " 1   Street ID         409752 non-null  int32  \n",
      " 2   Street Name       409752 non-null  object \n",
      " 3   Context           0 non-null       float64\n",
      " 4   Outcome Category  316285 non-null  object \n",
      " 5   Outcome Date      316285 non-null  object \n",
      " 6   Service           409752 non-null  object \n",
      " 7   Location Subtype  15697 non-null   object \n",
      " 8   ID                409752 non-null  int64  \n",
      " 9   Persistent ID     291898 non-null  object \n",
      " 10  Epoch             409752 non-null  object \n",
      " 11  Ward Code         409752 non-null  object \n",
      " 12  Ward Name         409752 non-null  object \n",
      " 13  Easting           409752 non-null  float64\n",
      " 14  Northing          409752 non-null  float64\n",
      " 15  Longitude         409752 non-null  float64\n",
      " 16  Latitude          409752 non-null  float64\n",
      " 17  Spatial Accuracy  409752 non-null  object \n",
      " 18  Last Uploaded     409752 non-null  object \n",
      " 19  Location          409752 non-null  object \n",
      "dtypes: float64(5), int32(1), int64(1), object(13)\n",
      "memory usage: 61.0+ MB\n"
     ]
    }
   ],
   "source": [
    "df_street_crime[\"Street ID\"] = df_street_crime[\"Street ID\"].astype(int)\n",
    "#type(df_street_crime[\"Street ID\"])\n",
    "df_street_crime.info()"
   ]
  },
  {
   "cell_type": "markdown",
   "metadata": {},
   "source": [
    "🗣️ **What do you think would happen if I tried to conver this column to `np.int8` instead??**"
   ]
  },
  {
   "cell_type": "markdown",
   "metadata": {},
   "source": [
    "### Data Type: [Floating Point types](https://numpy.org/doc/stable/reference/arrays.scalars.html#floating-point-types)\n",
    "\n",
    "💡 Tip: '[Why is my addition/multiplication not working??](https://stackoverflow.com/a/52931828/843365)'"
   ]
  },
  {
   "cell_type": "code",
   "execution_count": 26,
   "metadata": {},
   "outputs": [
    {
     "data": {
      "text/plain": [
       "0         530277.37\n",
       "1         529707.23\n",
       "2         526716.88\n",
       "3         530390.22\n",
       "4         528335.87\n",
       "            ...    \n",
       "409747    525306.26\n",
       "409748    529827.27\n",
       "409749    527538.27\n",
       "409750    529703.23\n",
       "409751    525872.24\n",
       "Name: Easting, Length: 409752, dtype: float64"
      ]
     },
     "execution_count": 26,
     "metadata": {},
     "output_type": "execute_result"
    }
   ],
   "source": [
    "df_street_crime['Easting']"
   ]
  },
  {
   "cell_type": "markdown",
   "metadata": {},
   "source": [
    "### Data Type: [Text/strings(object)](https://pandas.pydata.org/pandas-docs/stable/user_guide/text.html)\n",
    "\n",
    "Without getting into the specifics of how 🐼 pandas represents text, it is important that you learn about encodings!\n",
    "\n",
    "That is because, text is of course also represented as a sequence of bits. But how do we know which sequence of bits represents which character?"
   ]
  },
  {
   "cell_type": "markdown",
   "metadata": {},
   "source": [
    "##### ASCII table\n",
    "\n",
    "- The ASCII table is one of early standards\n",
    "- It encodes **characters** using 7-bits. Therefore, it can represent a total of 128 unique characters\n",
    "\n",
    "Here is a snippet of the ASCII table:\n",
    "\n",
    "<details style=\"margin-left:2em;font-size:0.75em;\"><summary> Click here to see Part I of the ASCII table</summary>\n",
    "\n",
    "|   Dec |   Binary | Char   | Description               |\n",
    "|------:|---------:|:-------|:--------------------------|\n",
    "|     0 |  0000000 | NUL    | Null                      |\n",
    "|     1 |  0000001 | SOH    | Start of Header           |\n",
    "|     2 |  0000010 | STX    | Start of Text             |\n",
    "|     3 |  0000011 | ETX    | End of Text               |\n",
    "|     4 |  0000100 | EOT    | End of Transmission       |\n",
    "|     5 |  0000101 | ENQ    | Enquiry                   |\n",
    "|     6 |  0000110 | ACK    | Acknowledge               |\n",
    "|     7 |  0000111 | BEL    | Bell                      |\n",
    "|     8 |  0001000 | BS     | Backspace                 |\n",
    "|     9 |  0001001 | HT     | Horizontal Tab            |\n",
    "|    10 |  0001010 | LF     | Line Feed                 |\n",
    "|    11 |  0001011 | VT     | Vertical Tab              |\n",
    "|    12 |  0001100 | FF     | Form Feed                 |\n",
    "|    13 |  0001101 | CR     | Carriage Return           |\n",
    "|    14 |  0001110 | SO     | Shift Out                 |\n",
    "|    15 |  0001111 | SI     | Shift In                  |\n",
    "|    16 |  0010000 | DLE    | Data Link Escape          |\n",
    "|    17 |  0010001 | DC1    | Device Control 1          |\n",
    "|    18 |  0010010 | DC2    | Device Control 2          |\n",
    "|    19 |  0010011 | DC3    | Device Control 3          |\n",
    "|    20 |  0010100 | DC4    | Device Control 4          |\n",
    "|    21 |  0010101 | NAK    | Negative Acknowledge      |\n",
    "|    22 |  0010110 | SYN    | Synchronize               |\n",
    "|    23 |  0010111 | ETB    | End of Transmission Block |\n",
    "|    24 |  0011000 | CAN    | Cancel                    |\n",
    "|    25 |  0011001 | EM     | End of Medium             |\n",
    "|    26 |  0011010 | SUB    | Substitute                |\n",
    "|    27 |  0011011 | ESC    | Escape                    |\n",
    "|    28 |  0011100 | FS     | File Separator            |\n",
    "|    29 |  0011101 | GS     | Group Separator           |\n",
    "|    30 |  0011110 | RS     | Record Separator          |\n",
    "|    31 |  0011111 | US     | Unit Separator            |\n",
    "\n",
    "\n",
    "</details>\n",
    "\n",
    "<br>\n",
    "\n",
    "<details style=\"margin-left:2em;font-size:0.75em;\"><summary> Click here to see Part II of the ASCII table</summary>\n",
    "\n",
    "|   Dec |   Binary | Char   | Description       |\n",
    "|------:|---------:|:-------|:------------------|\n",
    "|    32 |  0100000 | space  | Space             |\n",
    "|    33 |  0100001 | !      | exclamation mark  |\n",
    "|    34 |  0100010 | \"      | double quote      |\n",
    "|    35 |  0100011 | #      | number            |\n",
    "|    36 |  0100100 | $      | dollar            |\n",
    "|    37 |  0100101 | %      | percent           |\n",
    "|    38 |  0100110 | &      | ampersand         |\n",
    "|    39 |  0100111 | '      | single quote      |\n",
    "|    40 |  0101000 | (      | left parenthesis  |\n",
    "|    41 |  0101001 | )      | right parenthesis |\n",
    "|    42 |  0101010 | *      | asterisk          |\n",
    "|    43 |  0101011 | +      | plus              |\n",
    "|    44 |  0101100 | ,      | comma             |\n",
    "|    45 |  0101101 | -      | minus             |\n",
    "|    46 |  0101110 | .      | period            |\n",
    "|    47 |  0101111 | /      | slash             |\n",
    "|    48 |  0110000 | 0      | zero              |\n",
    "|    49 |  0110001 | 1      | one               |\n",
    "|    50 |  0110010 | 2      | two               |\n",
    "|    51 |  0110011 | 3      | three             |\n",
    "|    52 |  0110100 | 4      | four              |\n",
    "|    53 |  0110101 | 5      | five              |\n",
    "|    54 |  0110110 | 6      | six               |\n",
    "|    55 |  0110111 | 7      | seven             |\n",
    "|    56 |  0111000 | 8      | eight             |\n",
    "|    57 |  0111001 | 9      | nine              |\n",
    "|    58 |  0111010 | :      | colon             |\n",
    "|    59 |  0111011 | ;      | semicolon         |\n",
    "|    60 |  0111100 | <      | less than         |\n",
    "|    61 |  0111101 | =      | equality sign     |\n",
    "|    62 |  0111110 | >      | greater than      |\n",
    "|    63 |  0111111 | ?      | question mark     |\n",
    "\n",
    "</details>\n",
    "\n",
    "Click [here](https://www.ascii-code.com/) to see the full thing.\n"
   ]
  },
  {
   "cell_type": "markdown",
   "metadata": {},
   "source": [
    "##### Other encoding standards\n",
    "\n",
    "ASCII is not the only standard. There are other ways to encode text using binary.\n",
    "\n",
    "Below is a non-comprehensive list of other text (**encoding**):\n",
    "\n",
    "- Unicode\n",
    "- UTF-8 (Most common of all)\n",
    "- UTF-16\n",
    "- UTF-32\n",
    "- ISO-8859-1\n",
    "- Latin-1\n",
    "\n",
    "🔗 [Here](https://docs.python.org/3/library/codecs.html#standard-encodings) is the full list of encoding standards supported by Python by default.\n",
    "\n",
    "\n",
    "💡 You might have come across encoding mismatches before if you ever opened a file and the text looked like this:\n",
    "\n",
    "> \"NestlÃ© and MÃ¶tley CrÃ¼e\"\n",
    "\n",
    "Where it should have read \n",
    "\n",
    "> \"Nestlé and  Mötley Crüe\""
   ]
  },
  {
   "cell_type": "markdown",
   "metadata": {},
   "source": [
    "##### Emojis are text 😃 !\n",
    "\n",
    "See the complete list on the [Unicode website](https://unicode.org/emoji/charts/full-emoji-list.html)"
   ]
  },
  {
   "cell_type": "code",
   "execution_count": 27,
   "metadata": {},
   "outputs": [
    {
     "data": {
      "text/html": [
       "<div>\n",
       "<style scoped>\n",
       "    .dataframe tbody tr th:only-of-type {\n",
       "        vertical-align: middle;\n",
       "    }\n",
       "\n",
       "    .dataframe tbody tr th {\n",
       "        vertical-align: top;\n",
       "    }\n",
       "\n",
       "    .dataframe thead th {\n",
       "        text-align: right;\n",
       "    }\n",
       "</style>\n",
       "<table border=\"1\" class=\"dataframe\">\n",
       "  <thead>\n",
       "    <tr style=\"text-align: right;\">\n",
       "      <th></th>\n",
       "      <th>Category</th>\n",
       "      <th>Street ID</th>\n",
       "      <th>Street Name</th>\n",
       "      <th>Outcome Category</th>\n",
       "      <th>Outcome Date</th>\n",
       "      <th>Location</th>\n",
       "    </tr>\n",
       "  </thead>\n",
       "  <tbody>\n",
       "    <tr>\n",
       "      <th>0</th>\n",
       "      <td>Other theft</td>\n",
       "      <td>1489515</td>\n",
       "      <td>Kings Cross (station)</td>\n",
       "      <td>Status update unavailable</td>\n",
       "      <td>01/08/2017</td>\n",
       "      <td>(51.5318, -0.123189)</td>\n",
       "    </tr>\n",
       "    <tr>\n",
       "      <th>1</th>\n",
       "      <td>Anti-social behaviour</td>\n",
       "      <td>960522</td>\n",
       "      <td>On or near Wellesley Place</td>\n",
       "      <td>NaN</td>\n",
       "      <td>NaN</td>\n",
       "      <td>(51.528169, -0.131558)</td>\n",
       "    </tr>\n",
       "    <tr>\n",
       "      <th>2</th>\n",
       "      <td>Theft from the person</td>\n",
       "      <td>965233</td>\n",
       "      <td>On or near Avenue Road</td>\n",
       "      <td>Investigation complete; no suspect identified</td>\n",
       "      <td>01/08/2015</td>\n",
       "      <td>(51.542741, -0.174124)</td>\n",
       "    </tr>\n",
       "    <tr>\n",
       "      <th>3</th>\n",
       "      <td>Anti-social behaviour</td>\n",
       "      <td>960974</td>\n",
       "      <td>On or near Birkenhead Street</td>\n",
       "      <td>NaN</td>\n",
       "      <td>NaN</td>\n",
       "      <td>(51.529611, -0.121652)</td>\n",
       "    </tr>\n",
       "    <tr>\n",
       "      <th>4</th>\n",
       "      <td>Drugs</td>\n",
       "      <td>972275</td>\n",
       "      <td>On or near Oakeshott Avenue</td>\n",
       "      <td>Offender given a drugs possession warning</td>\n",
       "      <td>01/06/2015</td>\n",
       "      <td>(51.565544, -0.149851)</td>\n",
       "    </tr>\n",
       "    <tr>\n",
       "      <th>...</th>\n",
       "      <td>...</td>\n",
       "      <td>...</td>\n",
       "      <td>...</td>\n",
       "      <td>...</td>\n",
       "      <td>...</td>\n",
       "      <td>...</td>\n",
       "    </tr>\n",
       "    <tr>\n",
       "      <th>409747</th>\n",
       "      <td>Violence and sexual offences</td>\n",
       "      <td>1669139</td>\n",
       "      <td>On or near Parsifal Road</td>\n",
       "      <td>Investigation complete; no suspect identified</td>\n",
       "      <td>01/10/2023</td>\n",
       "      <td>(51.55402, -0.193983)</td>\n",
       "    </tr>\n",
       "    <tr>\n",
       "      <th>409748</th>\n",
       "      <td>Other theft</td>\n",
       "      <td>1678057</td>\n",
       "      <td>On or near Upper Woburn Place</td>\n",
       "      <td>Under investigation</td>\n",
       "      <td>01/10/2023</td>\n",
       "      <td>(51.526497, -0.129896)</td>\n",
       "    </tr>\n",
       "    <tr>\n",
       "      <th>409749</th>\n",
       "      <td>Anti-social behaviour</td>\n",
       "      <td>1673570</td>\n",
       "      <td>On or near Antrim Grove</td>\n",
       "      <td>NaN</td>\n",
       "      <td>NaN</td>\n",
       "      <td>(51.548487, -0.162009)</td>\n",
       "    </tr>\n",
       "    <tr>\n",
       "      <th>409750</th>\n",
       "      <td>Theft from the person</td>\n",
       "      <td>1677808</td>\n",
       "      <td>On or near Nightclub</td>\n",
       "      <td>Under investigation</td>\n",
       "      <td>01/10/2023</td>\n",
       "      <td>(51.5169, -0.132077)</td>\n",
       "    </tr>\n",
       "    <tr>\n",
       "      <th>409751</th>\n",
       "      <td>Anti-social behaviour</td>\n",
       "      <td>1670356</td>\n",
       "      <td>On or near Dresden Close</td>\n",
       "      <td>NaN</td>\n",
       "      <td>NaN</td>\n",
       "      <td>(51.54931, -0.186006)</td>\n",
       "    </tr>\n",
       "  </tbody>\n",
       "</table>\n",
       "<p>409752 rows × 6 columns</p>\n",
       "</div>"
      ],
      "text/plain": [
       "                            Category  Street ID  \\\n",
       "0                        Other theft    1489515   \n",
       "1              Anti-social behaviour     960522   \n",
       "2              Theft from the person     965233   \n",
       "3              Anti-social behaviour     960974   \n",
       "4                              Drugs     972275   \n",
       "...                              ...        ...   \n",
       "409747  Violence and sexual offences    1669139   \n",
       "409748                   Other theft    1678057   \n",
       "409749         Anti-social behaviour    1673570   \n",
       "409750         Theft from the person    1677808   \n",
       "409751         Anti-social behaviour    1670356   \n",
       "\n",
       "                          Street Name  \\\n",
       "0               Kings Cross (station)   \n",
       "1          On or near Wellesley Place   \n",
       "2              On or near Avenue Road   \n",
       "3        On or near Birkenhead Street   \n",
       "4         On or near Oakeshott Avenue   \n",
       "...                               ...   \n",
       "409747       On or near Parsifal Road   \n",
       "409748  On or near Upper Woburn Place   \n",
       "409749        On or near Antrim Grove   \n",
       "409750           On or near Nightclub   \n",
       "409751       On or near Dresden Close   \n",
       "\n",
       "                                     Outcome Category Outcome Date  \\\n",
       "0                           Status update unavailable   01/08/2017   \n",
       "1                                                 NaN          NaN   \n",
       "2       Investigation complete; no suspect identified   01/08/2015   \n",
       "3                                                 NaN          NaN   \n",
       "4           Offender given a drugs possession warning   01/06/2015   \n",
       "...                                               ...          ...   \n",
       "409747  Investigation complete; no suspect identified   01/10/2023   \n",
       "409748                            Under investigation   01/10/2023   \n",
       "409749                                            NaN          NaN   \n",
       "409750                            Under investigation   01/10/2023   \n",
       "409751                                            NaN          NaN   \n",
       "\n",
       "                      Location  \n",
       "0         (51.5318, -0.123189)  \n",
       "1       (51.528169, -0.131558)  \n",
       "2       (51.542741, -0.174124)  \n",
       "3       (51.529611, -0.121652)  \n",
       "4       (51.565544, -0.149851)  \n",
       "...                        ...  \n",
       "409747   (51.55402, -0.193983)  \n",
       "409748  (51.526497, -0.129896)  \n",
       "409749  (51.548487, -0.162009)  \n",
       "409750    (51.5169, -0.132077)  \n",
       "409751   (51.54931, -0.186006)  \n",
       "\n",
       "[409752 rows x 6 columns]"
      ]
     },
     "execution_count": 27,
     "metadata": {},
     "output_type": "execute_result"
    }
   ],
   "source": [
    "#As far as I know, this CSV file is free of non-standard characters, \n",
    "# so changing the encoding to something else should not change much.\n",
    "# After all, most standards are supersets of ASCII.\n",
    "pd.read_csv(\"./data/reduced_crime_data.csv\", encoding=\"ascii\", encoding_errors=\"strict\")"
   ]
  },
  {
   "cell_type": "markdown",
   "metadata": {},
   "source": [
    "### Data type: [Categorical](https://pandas.pydata.org/pandas-docs/stable/user_guide/categorical.html)\n",
    "\n",
    "<details><summary>Click here to read spoilers</summary>\n",
    "\n",
    "- How to show what is inside a column\n",
    "- How to show just the unique values of a column (`df['<column-name>']unique()`)\n",
    "- Count the number of unique values in a column (`df['<column-name>'].nunique()`)\n",
    "- Count the number of times each unique value appears in a column (`df['<column-name>'].value_counts()`)\n",
    "\n",
    "<details><summary>Hidden pro-tip</summary>\n",
    "\n",
    "Here is how you can create a plot showing the percentage of each unique value in a column:\n",
    "\n",
    "```python\n",
    "df_street_crime['Category'].value_counts(normalize=True).apply(lambda x: x*100).plot(kind='bar')\n",
    "```\n",
    "\n",
    "</details>\n",
    "\n",
    "</details>"
   ]
  },
  {
   "cell_type": "code",
   "execution_count": 45,
   "metadata": {},
   "outputs": [
    {
     "name": "stdout",
     "output_type": "stream",
     "text": [
      "(['Anti-social behaviour', 'Bicycle theft', 'Burglary', 'Criminal damage and arson', 'Drugs', 'Other crime', 'Other theft', 'Possession of weapons', 'Public order', 'Robbery', 'Shoplifting', 'Theft from the person', 'Vehicle crime', 'Violence and sexual offences'], ['Other theft', 'Anti-social behaviour', 'Theft from the person', 'Drugs', 'Violence and sexual offences', 'Vehicle crime', 'Possession of weapons', 'Burglary', 'Robbery', 'Public order', 'Shoplifting', 'Other crime', 'Criminal damage and arson', 'Bicycle theft'])\n"
     ]
    }
   ],
   "source": [
    "print((list(df_street_crime['Category'].unique().value_counts().index), list(df_street_crime['Category'].unique())))"
   ]
  },
  {
   "cell_type": "markdown",
   "metadata": {},
   "source": [
    "**Converting to a Categorical data type.**\n",
    "\n",
    "When data is clearly categorical (the hint for this one is in the name of the column), we can convert it to a Categorical data type. This might also make our life easier when we want to do some analysis on this column.\n",
    "\n",
    "Here are the reasons the 🐼 pandas documentation on [Categorical Data](https://pandas.pydata.org/pandas-docs/stable/user_guide/categorical.html) says you should use it:\n",
    "\n",
    "> The categorical data type is useful in the following cases:\n",
    ">\n",
    "> - A string variable consisting of only a few different values. Converting such a string variable to a categorical variable will save some memory, see here.\n",
    ">\n",
    "> - The lexical order of a variable is not the same as the logical order (“one”, “two”, “three”). By converting to a categorical and specifying an order on the categories, sorting and min/max will use the logical order instead of the lexical order, see here.\n",
    ">\n",
    "> - As a signal to other Python libraries that this column should be treated as a categorical variable (e.g. to use suitable statistical methods or plot types).\n",
    "\n"
   ]
  },
  {
   "cell_type": "code",
   "execution_count": 29,
   "metadata": {},
   "outputs": [],
   "source": [
    "df_street_crime['Category'] = pd.Categorical(df_street_crime['Category'])\n"
   ]
  },
  {
   "cell_type": "code",
   "execution_count": 46,
   "metadata": {},
   "outputs": [
    {
     "name": "stdout",
     "output_type": "stream",
     "text": [
      "<class 'pandas.core.frame.DataFrame'>\n",
      "RangeIndex: 409752 entries, 0 to 409751\n",
      "Data columns (total 20 columns):\n",
      " #   Column            Non-Null Count   Dtype   \n",
      "---  ------            --------------   -----   \n",
      " 0   Category          409752 non-null  category\n",
      " 1   Street ID         409752 non-null  int32   \n",
      " 2   Street Name       409752 non-null  object  \n",
      " 3   Context           0 non-null       float64 \n",
      " 4   Outcome Category  316285 non-null  object  \n",
      " 5   Outcome Date      316285 non-null  object  \n",
      " 6   Service           409752 non-null  object  \n",
      " 7   Location Subtype  15697 non-null   object  \n",
      " 8   ID                409752 non-null  int64   \n",
      " 9   Persistent ID     291898 non-null  object  \n",
      " 10  Epoch             409752 non-null  object  \n",
      " 11  Ward Code         409752 non-null  object  \n",
      " 12  Ward Name         409752 non-null  object  \n",
      " 13  Easting           409752 non-null  float64 \n",
      " 14  Northing          409752 non-null  float64 \n",
      " 15  Longitude         409752 non-null  float64 \n",
      " 16  Latitude          409752 non-null  float64 \n",
      " 17  Spatial Accuracy  409752 non-null  object  \n",
      " 18  Last Uploaded     409752 non-null  object  \n",
      " 19  Location          409752 non-null  object  \n",
      "dtypes: category(1), float64(5), int32(1), int64(1), object(12)\n",
      "memory usage: 58.2+ MB\n"
     ]
    }
   ],
   "source": [
    "df_street_crime.info()"
   ]
  },
  {
   "cell_type": "code",
   "execution_count": 48,
   "metadata": {},
   "outputs": [],
   "source": [
    "#Show that we can convert the `datetime` column to a `datetime` object:\n",
    "df = df_street_crime\n",
    "df[\"Outcome Date\"] = pd.to_datetime(df[\"Outcome Date\"])\n",
    "\n",
    "# Make `Outcome Category` a categorical column\n",
    "df[\"Outcome Category\"] = df[\"Outcome Category\"].astype(\"category\")"
   ]
  },
  {
   "cell_type": "code",
   "execution_count": 49,
   "metadata": {},
   "outputs": [
    {
     "data": {
      "text/plain": [
       "Index(['Action to be taken by another organisation', 'Awaiting court outcome',\n",
       "       'Court case unable to proceed', 'Court result unavailable',\n",
       "       'Defendant found not guilty', 'Defendant sent to Crown Court',\n",
       "       'Formal action is not in the public interest',\n",
       "       'Further investigation is not in the public interest',\n",
       "       'Investigation complete; no suspect identified', 'Local resolution',\n",
       "       'Offender deprived of property', 'Offender fined',\n",
       "       'Offender given a caution', 'Offender given a drugs possession warning',\n",
       "       'Offender given absolute discharge',\n",
       "       'Offender given community sentence',\n",
       "       'Offender given conditional discharge', 'Offender given penalty notice',\n",
       "       'Offender given suspended prison sentence',\n",
       "       'Offender ordered to pay compensation', 'Offender otherwise dealt with',\n",
       "       'Offender sent to prison', 'Status update unavailable',\n",
       "       'Suspect charged as part of another case',\n",
       "       'Unable to prosecute suspect', 'Under investigation'],\n",
       "      dtype='object')"
      ]
     },
     "execution_count": 49,
     "metadata": {},
     "output_type": "execute_result"
    }
   ],
   "source": [
    "df[\"Outcome Category\"].cat.categories"
   ]
  },
  {
   "cell_type": "code",
   "execution_count": 50,
   "metadata": {},
   "outputs": [
    {
     "data": {
      "text/plain": [
       "Category                  category\n",
       "Street ID                    int32\n",
       "Street Name                 object\n",
       "Context                    float64\n",
       "Outcome Category          category\n",
       "Outcome Date        datetime64[ns]\n",
       "Service                     object\n",
       "Location Subtype            object\n",
       "ID                           int64\n",
       "Persistent ID               object\n",
       "Epoch                       object\n",
       "Ward Code                   object\n",
       "Ward Name                   object\n",
       "Easting                    float64\n",
       "Northing                   float64\n",
       "Longitude                  float64\n",
       "Latitude                   float64\n",
       "Spatial Accuracy            object\n",
       "Last Uploaded               object\n",
       "Location                    object\n",
       "dtype: object"
      ]
     },
     "execution_count": 50,
     "metadata": {},
     "output_type": "execute_result"
    }
   ],
   "source": [
    "df.dtypes"
   ]
  },
  {
   "cell_type": "code",
   "execution_count": null,
   "metadata": {},
   "outputs": [],
   "source": [
    "df[\"Outcome Date\"].dt.day_name()"
   ]
  },
  {
   "cell_type": "code",
   "execution_count": null,
   "metadata": {},
   "outputs": [],
   "source": [
    "df_as_list = df.astype(str).values.tolist()\n",
    "\n",
    "with open(\"data/sample.txt\", \"w\") as f:\n",
    "    f.write(\"[\")\n",
    "    for item_list in df_as_list:\n",
    "        f.write(\"[\")\n",
    "        f.write(\"','\".join(item_list))\n",
    "        f.write(\"'],\\n\")\n",
    "    f.write(\"]\")"
   ]
  },
  {
   "attachments": {},
   "cell_type": "markdown",
   "metadata": {},
   "source": [
    "## File format: JSON\n",
    "\n",
    "Say we download the JSON version of the data. How should we read it as a Data Frame?"
   ]
  },
  {
   "cell_type": "code",
   "execution_count": null,
   "metadata": {},
   "outputs": [],
   "source": [
    "from pathlib import Path\n",
    "filepath = Path(\"./data/rows.json\")\n",
    "\n",
    "df = pd.read_json(filepath)"
   ]
  },
  {
   "cell_type": "markdown",
   "metadata": {},
   "source": [
    "The path is correct but pandas could not parse things correctly. \n",
    "\n",
    "We have to find a workaround:\n",
    "\n",
    "👉 read the JSON file as a Python dictionary using the `json` library instead"
   ]
  },
  {
   "cell_type": "code",
   "execution_count": null,
   "metadata": {},
   "outputs": [],
   "source": [
    "import json\n",
    "\n",
    "with open(\"data/rows.json\", \"r\") as read_file:\n",
    "    data = json.load(read_file)"
   ]
  },
  {
   "cell_type": "markdown",
   "metadata": {},
   "source": [
    "Check the data type of the variable `data`:"
   ]
  },
  {
   "cell_type": "code",
   "execution_count": null,
   "metadata": {},
   "outputs": [],
   "source": [
    "type(data)"
   ]
  },
  {
   "cell_type": "markdown",
   "metadata": {},
   "source": [
    "How many keys are there in the dictionary?"
   ]
  },
  {
   "cell_type": "code",
   "execution_count": null,
   "metadata": {},
   "outputs": [],
   "source": [
    "len(data)"
   ]
  },
  {
   "cell_type": "markdown",
   "metadata": {},
   "source": [
    "What are the keys?"
   ]
  },
  {
   "cell_type": "code",
   "execution_count": null,
   "metadata": {},
   "outputs": [],
   "source": [
    "data.keys()"
   ]
  },
  {
   "cell_type": "markdown",
   "metadata": {},
   "source": [
    "Conclusion: the data is the same but it is structured in a completely different way."
   ]
  },
  {
   "cell_type": "code",
   "execution_count": null,
   "metadata": {},
   "outputs": [],
   "source": [
    "# The actual data is in the `data` key\n",
    "len(data[\"data\"])"
   ]
  },
  {
   "cell_type": "code",
   "execution_count": null,
   "metadata": {},
   "outputs": [],
   "source": [
    "# Here is how we could convert it to a DataFrame\n",
    "pd.DataFrame(data[\"data\"]).head(12)"
   ]
  },
  {
   "cell_type": "markdown",
   "metadata": {},
   "source": [
    "Where did the column names go???\n",
    "\n",
    "<details><summary>Read spoilers here</summary>\n",
    "\n",
    "After much trial and error, I found out that the column names are stored in the `meta` key of the dictionary. But I have to go deeper:\n",
    "\n",
    "```python\n",
    "data[\"meta\"][\"view\"][\"columns\"]\n",
    "```\n",
    "\n",
    "</details>\n"
   ]
  },
  {
   "cell_type": "markdown",
   "metadata": {},
   "source": [
    "Is there a way to **normalise** this data?\n",
    "\n",
    "Normalise = flatten the data structure\n",
    "\n",
    "<details><summary>Read spoilers here</summary>\n",
    "\n",
    "```python\n",
    "df_columns = pd.io.json.json_normalize(data[\"meta\"][\"view\"][\"columns\"])\n",
    "df_columns.head(6)\n",
    "```\n",
    "\n",
    "</details>"
   ]
  },
  {
   "cell_type": "markdown",
   "metadata": {},
   "source": [
    "Putting it all together:\n",
    "\n",
    "<details><summary>See solution</summary>\n",
    "\n",
    "```python\n",
    "column_names = df_columns[\"name\"].tolist()\n",
    "\n",
    "df_crime = pd.DataFrame(data[\"data\"], columns=column_names)\n",
    "\n",
    "selected_columns = [\"Category\", \"Street ID\", \"Street Name\", \"Outcome Category\", \"Outcome Date\", \"Location\"]\n",
    "\n",
    "print(df_crime[selected_columns].head().to_markdown(index=False))\n",
    "\n",
    "```"
   ]
  },
  {
   "cell_type": "code",
   "execution_count": null,
   "metadata": {},
   "outputs": [],
   "source": [
    "column_names = df_columns[\"name\"].tolist()\n",
    "\n",
    "df_crime = pd.DataFrame(data[\"data\"], columns=column_names)\n",
    "\n",
    "selected_columns = [\"Category\", \"Street ID\", \"Street Name\", \"Outcome Category\", \"Outcome Date\", \"Location\"]\n",
    "\n",
    "print(df_crime[selected_columns].head().to_markdown(index=False))"
   ]
  },
  {
   "cell_type": "markdown",
   "metadata": {},
   "source": [
    "We are back to where we were with the CSV file!"
   ]
  },
  {
   "cell_type": "markdown",
   "metadata": {},
   "source": [
    "--------------\n",
    "\n",
    "Tips for what's next:\n",
    "\n",
    "- When solving your ✏️ [W04 Formative](https://moodle.lse.ac.uk/mod/assign/view.php?id=1210920), you will be asked to read a JSON file\n",
    "- Use the `json` library to read the file\n",
    "- Decide whether you want to navigate the data as a dictionary or convert it to a pandas DataFrame (your call)\n"
   ]
  }
 ],
 "metadata": {
  "kernelspec": {
   "display_name": "Python 3",
   "language": "python",
   "name": "python3"
  },
  "language_info": {
   "codemirror_mode": {
    "name": "ipython",
    "version": 3
   },
   "file_extension": ".py",
   "mimetype": "text/x-python",
   "name": "python",
   "nbconvert_exporter": "python",
   "pygments_lexer": "ipython3",
   "version": "3.11.5"
  },
  "orig_nbformat": 4,
  "vscode": {
   "interpreter": {
    "hash": "86a4f56bb4e17d4e79f8e80b0f18a6d84d252069e5d9eb74ea21d8503d143f4e"
   }
  }
 },
 "nbformat": 4,
 "nbformat_minor": 2
}
