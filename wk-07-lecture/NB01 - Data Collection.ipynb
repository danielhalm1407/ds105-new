{
 "cells": [
  {
   "cell_type": "markdown",
   "metadata": {},
   "source": [
    "LSE Data Science Institute | DS105W (2023/24) | Week 07\n",
    "\n",
    "# 🗓️ Week 07: Putting everything together\n",
    "\n",
    "Theme: Collecting Data\n",
    "\n",
    "**DATE:** 29 February 2024\n",
    "\n",
    "**AUTHOR:** Dr [Jon Cardoso-Silva](https://jonjoncardoso.github.io)\n",
    "\n",
    "-----\n",
    "\n",
    "\n",
    "\n",
    "**USEFUL LINKS:**\n",
    "\n",
    "- [UK general elections](https://en.wikipedia.org/wiki/List_of_United_Kingdom_general_elections)"
   ]
  },
  {
   "cell_type": "markdown",
   "metadata": {},
   "source": [
    "⚙️ Setup"
   ]
  },
  {
   "cell_type": "code",
   "execution_count": 2,
   "metadata": {},
   "outputs": [],
   "source": [
    "import io\n",
    "import requests\n",
    "\n",
    "import pandas as pd\n",
    "import numpy as np\n",
    "\n",
    "from scrapy.selector import Selector\n",
    "from tqdm.notebook import tqdm"
   ]
  },
  {
   "cell_type": "markdown",
   "metadata": {},
   "source": [
    "# Part 1: Pages about UK general elections"
   ]
  },
  {
   "cell_type": "code",
   "execution_count": 3,
   "metadata": {},
   "outputs": [
    {
     "data": {
      "text/plain": [
       "200"
      ]
     },
     "execution_count": 3,
     "metadata": {},
     "output_type": "execute_result"
    }
   ],
   "source": [
    "base_url = 'https://en.wikipedia.org/wiki/List_of_United_Kingdom_general_elections'\n",
    "\n",
    "# Get the page using requests and Scrapy\n",
    "response = requests.get(base_url)\n",
    "sel = Selector(text=response.text)\n",
    "\n",
    "response.status_code"
   ]
  },
  {
   "cell_type": "markdown",
   "metadata": {},
   "source": [
    "**Now I will get the list of pages:**"
   ]
  },
  {
   "cell_type": "code",
   "execution_count": 21,
   "metadata": {},
   "outputs": [],
   "source": [
    "## Convert the above to XPATH\n",
    "\n",
    "all_links = \\\n",
    "(\n",
    "    sel.xpath(\"(//td[contains(@class, 'navbox-list')])[1]\")\n",
    "       .css('div > ul > li ::attr(href)')\n",
    "       .extract()\n",
    ")"
   ]
  },
  {
   "cell_type": "code",
   "execution_count": 22,
   "metadata": {},
   "outputs": [
    {
     "data": {
      "text/plain": [
       "['/wiki/First_Parliament_of_the_United_Kingdom',\n",
       " '/wiki/1802_United_Kingdom_general_election',\n",
       " '/wiki/1806_United_Kingdom_general_election',\n",
       " '/wiki/1807_United_Kingdom_general_election',\n",
       " '/wiki/1812_United_Kingdom_general_election',\n",
       " '/wiki/1818_United_Kingdom_general_election',\n",
       " '/wiki/1820_United_Kingdom_general_election',\n",
       " '/wiki/1826_United_Kingdom_general_election',\n",
       " '/wiki/1830_United_Kingdom_general_election',\n",
       " '/wiki/1831_United_Kingdom_general_election',\n",
       " '/wiki/1832_United_Kingdom_general_election',\n",
       " '/wiki/1835_United_Kingdom_general_election',\n",
       " '/wiki/1837_United_Kingdom_general_election',\n",
       " '/wiki/1841_United_Kingdom_general_election',\n",
       " '/wiki/1847_United_Kingdom_general_election',\n",
       " '/wiki/1852_United_Kingdom_general_election',\n",
       " '/wiki/1857_United_Kingdom_general_election',\n",
       " '/wiki/1859_United_Kingdom_general_election',\n",
       " '/wiki/1865_United_Kingdom_general_election',\n",
       " '/wiki/1868_United_Kingdom_general_election',\n",
       " '/wiki/1874_United_Kingdom_general_election',\n",
       " '/wiki/1880_United_Kingdom_general_election',\n",
       " '/wiki/1885_United_Kingdom_general_election',\n",
       " '/wiki/1886_United_Kingdom_general_election',\n",
       " '/wiki/1892_United_Kingdom_general_election',\n",
       " '/wiki/1895_United_Kingdom_general_election',\n",
       " '/wiki/1900_United_Kingdom_general_election',\n",
       " '/wiki/1906_United_Kingdom_general_election',\n",
       " '/wiki/January_1910_United_Kingdom_general_election',\n",
       " '/wiki/December_1910_United_Kingdom_general_election',\n",
       " '/wiki/1918_United_Kingdom_general_election',\n",
       " '/wiki/1922_United_Kingdom_general_election',\n",
       " '/wiki/1923_United_Kingdom_general_election',\n",
       " '/wiki/1924_United_Kingdom_general_election',\n",
       " '/wiki/1929_United_Kingdom_general_election',\n",
       " '/wiki/1931_United_Kingdom_general_election',\n",
       " '/wiki/1935_United_Kingdom_general_election',\n",
       " '/wiki/1945_United_Kingdom_general_election',\n",
       " '/wiki/1950_United_Kingdom_general_election',\n",
       " '/wiki/1951_United_Kingdom_general_election',\n",
       " '/wiki/1955_United_Kingdom_general_election',\n",
       " '/wiki/1959_United_Kingdom_general_election',\n",
       " '/wiki/1964_United_Kingdom_general_election',\n",
       " '/wiki/1966_United_Kingdom_general_election',\n",
       " '/wiki/1970_United_Kingdom_general_election',\n",
       " '/wiki/February_1974_United_Kingdom_general_election',\n",
       " '/wiki/October_1974_United_Kingdom_general_election',\n",
       " '/wiki/1979_United_Kingdom_general_election',\n",
       " '/wiki/1983_United_Kingdom_general_election',\n",
       " '/wiki/1987_United_Kingdom_general_election',\n",
       " '/wiki/1992_United_Kingdom_general_election',\n",
       " '/wiki/1997_United_Kingdom_general_election',\n",
       " '/wiki/2001_United_Kingdom_general_election',\n",
       " '/wiki/2005_United_Kingdom_general_election',\n",
       " '/wiki/2010_United_Kingdom_general_election',\n",
       " '/wiki/2015_United_Kingdom_general_election',\n",
       " '/wiki/2017_United_Kingdom_general_election',\n",
       " '/wiki/2019_United_Kingdom_general_election',\n",
       " '/wiki/Next_United_Kingdom_general_election']"
      ]
     },
     "execution_count": 22,
     "metadata": {},
     "output_type": "execute_result"
    }
   ],
   "source": [
    "all_links"
   ]
  },
  {
   "cell_type": "markdown",
   "metadata": {},
   "source": [
    "## Intermediate step to get the page with breakdown of results"
   ]
  },
  {
   "cell_type": "code",
   "execution_count": 25,
   "metadata": {},
   "outputs": [
    {
     "data": {
      "text/plain": [
       "'/wiki/Results_of_the_2019_United_Kingdom_general_election'"
      ]
     },
     "execution_count": 25,
     "metadata": {},
     "output_type": "execute_result"
    }
   ],
   "source": [
    "prefix = 'https://en.wikipedia.org'\n",
    "current_page = '/wiki/2019_United_Kingdom_general_election'\n",
    "\n",
    "# Get the page using requests and Scrapy\n",
    "response = requests.get(prefix + current_page)\n",
    "\n",
    "# Select the <a> that contains the text 'Results of the ' in its title\n",
    "results_link = \\\n",
    "(\n",
    "    Selector(text=response.text)\n",
    "        .xpath(\"//a[contains(@title, 'Results of the 2019')]\")\n",
    "        .css('::attr(href)')\n",
    "        .extract_first()\n",
    ")\n",
    "\n",
    "results_link"
   ]
  },
  {
   "cell_type": "code",
   "execution_count": 33,
   "metadata": {},
   "outputs": [
    {
     "name": "stderr",
     "output_type": "stream",
     "text": [
      "C:\\Users\\Jon\\AppData\\Local\\Temp\\ipykernel_12964\\2583135114.py:9: FutureWarning: Passing literal html to 'read_html' is deprecated and will be removed in a future version. To read from a literal string, wrap it in a 'StringIO' object.\n",
      "  df = pd.read_html(sel.xpath('(//table[contains(@class, \"wikitable\")])[1]').extract_first())[0]\n"
     ]
    }
   ],
   "source": [
    "current_page = results_link\n",
    "\n",
    "# Get the page using requests and Scrapy\n",
    "response = requests.get(prefix + current_page)\n",
    "sel = Selector(text=response.text)\n",
    "\n",
    "# Convert the CSS selector above to XPATH\n",
    "\n",
    "df = pd.read_html(sel.xpath('(//table[contains(@class, \"wikitable\")])[1]').extract_first())[0]"
   ]
  },
  {
   "cell_type": "markdown",
   "metadata": {},
   "source": [
    "**Filter out the lines I don't care about:**"
   ]
  },
  {
   "cell_type": "code",
   "execution_count": null,
   "metadata": {},
   "outputs": [],
   "source": [
    "valid_rows = df['Constituency'] != 'Total for all constituencies'\n",
    "valid_rows = np.array(valid_rows.values).flatten()\n",
    "\n",
    "df[valid_rows]"
   ]
  },
  {
   "cell_type": "markdown",
   "metadata": {},
   "source": [
    "**Without pd.read_html**"
   ]
  },
  {
   "cell_type": "code",
   "execution_count": 47,
   "metadata": {},
   "outputs": [],
   "source": [
    "columns = sel.xpath('(//table[contains(@class, \"wikitable\")])[1]').xpath('./tbody/tr[th and not(contains(@class, \"sortbottom\"))]').extract()"
   ]
  },
  {
   "cell_type": "code",
   "execution_count": 48,
   "metadata": {},
   "outputs": [],
   "source": [
    "rows = sel.xpath('(//table[contains(@class, \"wikitable\")])[1]').xpath('./tbody/tr[not(th)]')"
   ]
  },
  {
   "cell_type": "code",
   "execution_count": 54,
   "metadata": {},
   "outputs": [
    {
     "data": {
      "text/plain": [
       "['\\n',\n",
       " '\\n',\n",
       " '\\n',\n",
       " '27,980\\n',\n",
       " '58.4%\\n',\n",
       " '16,698\\n',\n",
       " '66.0%\\n',\n",
       " '27,980\\n',\n",
       " '11,282\\n',\n",
       " '6,920\\n',\n",
       " '1,750\\n',\n",
       " '\\n',\n",
       " '\\n',\n",
       " '47,932\\n']"
      ]
     },
     "execution_count": 54,
     "metadata": {},
     "output_type": "execute_result"
    }
   ],
   "source": [
    "rows[0].xpath('./td/text()').extract()"
   ]
  }
 ],
 "metadata": {
  "kernelspec": {
   "display_name": "base",
   "language": "python",
   "name": "python3"
  },
  "language_info": {
   "codemirror_mode": {
    "name": "ipython",
    "version": 3
   },
   "file_extension": ".py",
   "mimetype": "text/x-python",
   "name": "python",
   "nbconvert_exporter": "python",
   "pygments_lexer": "ipython3",
   "version": "3.10.13"
  }
 },
 "nbformat": 4,
 "nbformat_minor": 2
}
