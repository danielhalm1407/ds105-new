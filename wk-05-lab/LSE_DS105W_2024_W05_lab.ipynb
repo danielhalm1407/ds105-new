{
 "cells": [
  {
   "attachments": {},
   "cell_type": "markdown",
   "metadata": {},
   "source": [
    "<font style='font-size:1.5em'>**👨🏻‍🏫 Week 05 lab – Web Scraping practice** </font>\n",
    "\n",
    "<font style='font-size:1.2em'>DS105W – Data for Data Science</font>\n",
    "\n",
    "**AUTHORS:**  Dr. [Jon Cardoso-Silva](https://jonjoncardoso.github.io)\n",
    "\n",
    "**DEPARTMENT:** [LSE Data Science Institute](https://lse.ac.uk/dsi)\n",
    "\n",
    "**OBJECTIVE**: Continue from where we left off in W04 lecture + a few more things\n",
    "\n",
    "\n"
   ]
  },
  {
   "cell_type": "markdown",
   "metadata": {},
   "source": [
    "---\n",
    "\n",
    "# Part 0: Export your chat logs (~ 3 min)\n",
    "\n",
    "As part of the <span style=\"font-weight:bold\"> ![](/figures/icons/GENIAL_favicon.png){width=1em} GEN<font color='#D55816'>IA</font>L</span> project, we ask that you fill out the following form as soon as you come to the lab:\n",
    "\n",
    "🎯 **ACTION POINTS**\n",
    "\n",
    "1. 🔗 [**CLICK HERE**](https://forms.office.com/e/689MersZzV) to export your chat log.\n",
    "\n",
    "    Thanks for being GENIAL! You are now one step closer to earning some prizes! 🎟️\n",
    "\n"
   ]
  },
  {
   "attachments": {},
   "cell_type": "markdown",
   "metadata": {},
   "source": [
    "\n",
    "\n",
    "# Part I: ⚙️ The setup\n",
    "\n",
    "You will need to install the requests and Scrapy packages in order to complete this lab. I will assume you have configured the virtual environment for this course as follows. \n",
    "\n",
    "\n",
    "\n",
    "Open the terminal (directly from within VS Code will be easier) and run each of the following commands:\n",
    "\n",
    "\n",
    "```bash\n",
    "pip install pandas requests scrapy\n",
    "```\n"
   ]
  },
  {
   "cell_type": "code",
   "execution_count": 46,
   "metadata": {},
   "outputs": [],
   "source": [
    "import requests               # This is how we access the web\n",
    "import pandas as pd           # This is how we work with data frames\n",
    "\n",
    "from pprint import pprint     # Print things in a pretty way\n",
    "from scrapy import Selector   # This is how we parse HTML\n",
    "import os # For saving files in new directories\n",
    "import re # Needed to substitute characters"
   ]
  },
  {
   "cell_type": "markdown",
   "metadata": {},
   "source": [
    "# Part I: An important recap (20 min)\n",
    "\n",
    "**🧑‍🏫 TEACHING MOMENT:** Your class teacher will recap the essentials of HTML as well as `requests` and `scrapy` with you.\n"
   ]
  },
  {
   "cell_type": "markdown",
   "metadata": {},
   "source": [
    "<details><summary style=\"display: list-item;cursor: pointer;\"><h2 style=\"display:inline;border-bottom: 1px solid #dee2e6;padding-bottom: .5rem;opacity: .9;margin-left:1rem;font-weight: 300;font-size:1.5rem;font-family: 'News Cycle','Arial Narrow Bold',sans-serif;line-height: 1.1;vertical-align:middle;\">1. HTML in brief</h2></summary>\n",
    "\n",
    "- You learned that **HTML files are structured into [tags](https://www.w3schools.com/TAGs/) (or elements)**. Each tag carries a specific meaning, allowing browsers to display the information accurately. \n",
    "\n",
    "    - For example, a `<p></p>` tells the browser, 'This is a paragraph,' \n",
    "    \n",
    "    - whereas a `<div></div>` tag tells the browser, 'this is a box of elements'.\n",
    "\n",
    "- HTML tags can have **attributes**.\n",
    "\n",
    "    - For example, whenever we add a link (`<a>`), we need to specify the location where this link is pointing to (`href`):\n",
    "\n",
    "        ```html\n",
    "        <a href=\"https://lse-dsi.github.io/DS105\">DS105 main page</a>\n",
    "        ```\n",
    "\n",
    "</details>"
   ]
  },
  {
   "cell_type": "markdown",
   "metadata": {},
   "source": [
    "<details><summary style=\"display: list-item;cursor: pointer;\"><h2 style=\"display:inline;border-bottom: 1px solid #dee2e6;padding-bottom: .5rem;opacity: .9;margin-left:1rem;font-weight: 300;font-size:1.5rem;font-family: 'News Cycle','Arial Narrow Bold',sans-serif;line-height: 1.1;vertical-align:middle;\">2. Styling (CSS) in brief</h2></summary>\n",
    "\n",
    "You also learned that one can apply **styles** to a tag using a language called CSS.\n",
    "\n",
    "- Styles can appear **inline**, as specified by the `style` attribute: \n",
    "\n",
    "    ```html\n",
    "    <p style=\"margin-bottom:10px;background-color:red;color:white\">Some text</p>\n",
    "    ```\n",
    "\n",
    "- But styles can also be specified separately via a `.css` file. In that file, one uses **CSS Selectors** to identify which tags should be styled and how. For example, if I want _all_ my `<p>` tags to have the same style, I'd write:\n",
    "\n",
    "    ```css\n",
    "    p {\n",
    "        margin-bottom:10px;\n",
    "        background-color:red;\n",
    "        color:white\n",
    "    }\n",
    "    ```\n",
    "\n",
    "    When I load this CSS file into my HTML, the styling above will apply to all `<p>`s.\n",
    "\n",
    "    For the above to work, I'd have to add the following to my HTML document:\n",
    "\n",
    "    ```html\n",
    "    <html>\n",
    "        <head>\n",
    "            <link rel=\"stylesheet\" type=\"text/css\" href=\"your_css_file.css\">\n",
    "        </head>\n",
    "\n",
    "        <body>\n",
    "            ...\n",
    "        </body>\n",
    "    </html>\n",
    "    ```\n",
    "\n",
    "</details>\n",
    "\n"
   ]
  },
  {
   "cell_type": "markdown",
   "metadata": {},
   "source": [
    "<details><summary style=\"display: list-item;cursor: pointer;\"><h2 style=\"display:inline;border-bottom: 1px solid #dee2e6;padding-bottom: .5rem;opacity: .9;margin-left:1rem;font-weight: 300;font-size:1.5rem;font-family: 'News Cycle','Arial Narrow Bold',sans-serif;line-height: 1.1;vertical-align:middle;\">3. The class attribute</h2></summary>\n",
    "\n",
    "A class can be applied to style multiple elements at once. \n",
    "\n",
    "```html\n",
    "<p class=\"coloured\"></p>\n",
    "```\n",
    "\n",
    "The way to specify the style of a class using **CSS selectors** is with a dot (`.`).  \n",
    "\n",
    "For example, the class above can be specified in my CSS file as:\n",
    "\n",
    "```css\n",
    "p.coloured{\n",
    "    ...<some-styling>...\n",
    "}\n",
    "```\n",
    "\n",
    "or simply:\n",
    "\n",
    "```css\n",
    ".coloured{\n",
    "    ...<some-styling>...\n",
    "}\n",
    "```\n",
    "\n",
    "\n",
    "</details>\n",
    "\n"
   ]
  },
  {
   "cell_type": "markdown",
   "metadata": {},
   "source": [
    "<details><summary style=\"display: list-item;cursor: pointer;\"><h2 style=\"display:inline;border-bottom: 1px solid #dee2e6;padding-bottom: .5rem;opacity: .9;margin-left:1rem;font-weight: 300;font-size:1.5rem;font-family: 'News Cycle','Arial Narrow Bold',sans-serif;line-height: 1.1;vertical-align:middle;\">4. The id attribute</h2></summary>\n",
    "\n",
    "An `id` is a unique identifier or an element. It should only appear once in a page. We specify ids with the 'hashtag' symbol (`#`).\n",
    "\n",
    "Therefore, if I have a \n",
    "\n",
    "```html\n",
    "<p id=\"uniquely-huge\">\n",
    "```\n",
    "\n",
    "I could specify the **CSS selector** as:\n",
    "\n",
    "```css\n",
    "p#uniquely-huge {\n",
    "    ...<some-styling>...\n",
    "}\n",
    "``` \n",
    "\n",
    "or simply:\n",
    "\n",
    "```css\n",
    "#uniquely-huge {\n",
    "    ...<some-styling>...\n",
    "}\n",
    "```\n",
    "\n",
    "(we don't even need to specify the tag)\n",
    "\n",
    "</details>\n",
    "\n"
   ]
  },
  {
   "attachments": {
    "Screenshot 2024-02-11 130802.png": {
     "image/png": "[encoded data removed]"
    }
   },
   "cell_type": "markdown",
   "metadata": {},
   "source": [
    "<details><summary style=\"display: list-item;cursor: pointer;\"><h2 style=\"display:inline;border-bottom: 1px solid #dee2e6;padding-bottom: .5rem;opacity: .9;margin-left:1rem;font-weight: 300;font-size:1.5rem;font-family: 'News Cycle','Arial Narrow Bold',sans-serif;line-height: 1.1;vertical-align:middle;\">5. A full example with classes and id</h2></summary>\n",
    "\n",
    "Take, for example, the following HTML document:\n",
    "\n",
    "```html\n",
    "<html>\n",
    "    <head>\n",
    "        <link rel=\"stylesheet\" type=\"text/css\" href=\"my_styles.css\">\n",
    "    </head>\n",
    "\n",
    "    <body>\n",
    "        <p>Some text</p>\n",
    "\n",
    "        <p class=\"coloured\">Some text with coloured background</p>\n",
    "\n",
    "        <p class=\"coloured\">Some text with coloured background</p>\n",
    "\n",
    "        <p id=\"uniquely-huge\" class=\"coloured\"></p>\n",
    "    </body>\n",
    "</html>\n",
    "```\n",
    "\n",
    "Suppose we also have a `my_styles.css` file as below:\n",
    "\n",
    "```css\n",
    "p {\n",
    "    margin-bottom:10px;\n",
    "}\n",
    "\n",
    "p.coloured {\n",
    "    background-color:red;\n",
    "    color:white\n",
    "}\n",
    "\n",
    "#uniquely-huge {\n",
    "    font-size: 2em;\n",
    "}\n",
    "```\n",
    "\n",
    "This will render as:\n",
    "\n",
    "![Screenshot 2024-02-11 130802.png](<attachment:Screenshot 2024-02-11 130802.png>){style=\"width:30%\"}\n",
    "\n",
    "</details>\n",
    "\n",
    "\n",
    "\n",
    "    \n",
    "\n"
   ]
  },
  {
   "cell_type": "markdown",
   "metadata": {},
   "source": [
    "<details><summary style=\"display: list-item;cursor: pointer;\"><h2 style=\"display:inline;border-bottom: 1px solid #dee2e6;padding-bottom: .5rem;opacity: .9;margin-left:1rem;font-weight: 300;font-size:1.5rem;font-family: 'News Cycle','Arial Narrow Bold',sans-serif;line-height: 1.1;vertical-align:middle;\">6. Using CSS selectors for web scraping</h2></summary>\n",
    "\n",
    "In brief, when collecting data from a public webpage, this is a skeleton what you need:\n",
    "\n",
    "```python\n",
    "response = requests.get('<some-url>')\n",
    "sel = Selector(response.text)\n",
    "sel.css('<your-css-selector>')\n",
    "```\n",
    "You can also refer to your W04 lecture notebook to remember the full syntax. The key for the rest of this lab is identifying what must be written in the `<your-css-selector>`. \n",
    "\n",
    "- You learned that you can include the names of specific tags directly. For example, `sel.css('h3').extract_all()` will return a list of all H3 in the entire page\n",
    "- You also learned that you can find the closest **container** (say, `div.card-box`) and then scrape the contents of this box later."
   ]
  },
  {
   "cell_type": "markdown",
   "metadata": {},
   "source": [
    "<details><summary style=\"display: list-item;cursor: pointer;\"><h2 style=\"display:inline;border-bottom: 1px solid #dee2e6;padding-bottom: .5rem;margin-left:1rem;font-weight: 300;font-size:1.5rem;font-family: 'News Cycle','Arial Narrow Bold',sans-serif;line-height: 1.1;vertical-align:middle;color:#c89020\">7. CSS selectors cheatsheet ⭐</h2></summary> \n",
    "\n",
    "<div style=\"margin-top:1.5em;width:80%;font-size:0.9em;\">\n",
    "\n",
    "| Selector              | Example                  | Use Case Scenario                                                                                                                              |\n",
    "|-----------------------|--------------------------|-----------------------------------------------------------------------------------------------------------------------------------------------|\n",
    "| *                     | *                        | This selector picks all elements within a page. It’s not that different from a page. Not much use for it but still good to know                |\n",
    "| .class                | .card-title              | The simplest CSS selector is targeting the class attribute. If only your target element is using it, then it might be sufficient.            |\n",
    "| .class1.class2        | .card-heading.card-title | There are elements with a class like class=“card-heading card-title”. When we see a space, it is because the element is using several classes. However, there’s no one fixed way of selecting the element. Try keeping the space, if that doesn’t work, then replace the space with a dot. |\n",
    "| #id                   | #card-description        | What if the class is used in too many elements or if the element doesn’t have a class? Picking the ID can be the next best thing. The only problem is that IDs are unique per element. So won’t cut to scrape several elements at once.                   |\n",
    "| element               | h4                       | To pick an element, all we need to add to our parser is the HTML tag name.                                                                  |\n",
    "| element.class         | h4.card-title            | This is the most common we’ll be using in our projects.                                                                                      |\n",
    "| parentElement > childElement | div > h4          | We can tell our scraper to extract an element inside another. In this example, we want it to find the h4 element whose parent element is a div.                                                             |\n",
    "| parentElement.class > childElement | div.card-body > h4 | We can combine the previous logic to specify a parent element and extract a specific CSS child element. This is super useful when the data we want doesn’t have any class or ID but is inside a parent element with a unique class/ID. |\n",
    "| [attribute]           | [href]                   | Another great way to target an element with no clear class to choose from. Your scraper will extract all elements containing the specific attribute. In this case, it will take all <a> tags which are the most common element to contain an href attribute. |\n",
    "| [attribute=value]     | [target=_blank]          | We can tell our scraper to extract only the elements with a specific value inside its attribute.                                              |\n",
    "| element[attribute=value] | a[rel=next]          | This is the selector we used to add a crawling feature to our Scrapy script: next_page = response.css(‘a[rel=next]’).attrib[‘href’] The target website was using the same class for all its pagination links so we had to come up with a different solution. |\n",
    "| [attribute~=value]    | [title~=rating]         | This selector will pick all the elements containing the word ‘rating’ inside its title attribute.                                             |\n",
    "\n",
    "</div>\n",
    "\n",
    "Source: [The Only CSS Selectors Cheat Sheet You Need for Web Scraping](https://www.scraperapi.com/blog/css-selectors-cheat-sheet/#CSS-Selectors-Cheat-Sheet)\n",
    "\n",
    "</details>"
   ]
  },
  {
   "cell_type": "markdown",
   "metadata": {},
   "source": [
    "💡 PRO-TIP: Did you notice that we're using a mix of markdown + HTML in this Jupyter notebook?"
   ]
  },
  {
   "cell_type": "markdown",
   "metadata": {},
   "source": [
    "# Part II: Time to put all of this into practice (60-70 min)\n",
    "\n",
    "Now go over the action points below in pairs:"
   ]
  },
  {
   "cell_type": "markdown",
   "metadata": {},
   "source": [
    "🎯 **ACTION POINTS**\n",
    "\n",
    "1. Go to the [Data Science Seminar series](https://socialdatascience.network/index.html#schedule) website and inspect the page (mouse right-click + Inspect) and find the way to the name of the first event on the page. \n"
   ]
  },
  {
   "cell_type": "markdown",
   "metadata": {},
   "source": [
    "2. Write down the **full** \"directions\" inside the HTML file to reach the event title. For example, maybe you will find that:\n",
    "\n",
    "    > _The first event title is inside a \\<html\\> ➡️ \\<div\\> ➡️ \\<div\\> ➡️ \\<h6\\> tag_.\n",
    "\n",
    "    Write it in the markdown cell below:"
   ]
  },
  {
   "cell_type": "markdown",
   "metadata": {},
   "source": [
    " > _The first event title is inside a \\<html\\> ➡️ \\<body\\> ➡️ \\<div\\> ➡️\\<div\\> ➡️\\<div\\> ➡️\\<div\\> ➡️\\<div\\> ➡️\\<a\\> ➡️ \\<img\\> tag_."
   ]
  },
  {
   "cell_type": "markdown",
   "metadata": {},
   "source": [
    "3. Write the required Python code to scrape the CSS selector you identified above. \n",
    "\n",
    "    - Don't use the notion of containers just yet - we will practice that later in the W05 lecture. \n",
    "    - For now, just write the full CSS selector you identified above\n"
   ]
  },
  {
   "cell_type": "code",
   "execution_count": 2,
   "metadata": {},
   "outputs": [
    {
     "data": {
      "text/plain": [
       "<Response [200]>"
      ]
     },
     "execution_count": 2,
     "metadata": {},
     "output_type": "execute_result"
    }
   ],
   "source": [
    "# This is the address of the website we want to scrape\n",
    "my_url = 'https://socialdatascience.network/index.html#schedule'\n",
    "\n",
    "# We set a GET request to the website\n",
    "response = requests.get(my_url)\n",
    "\n",
    "# What is the response code?\n",
    "response"
   ]
  },
  {
   "cell_type": "code",
   "execution_count": 4,
   "metadata": {},
   "outputs": [],
   "source": [
    "sel = Selector(text=response.text)"
   ]
  },
  {
   "cell_type": "code",
   "execution_count": 5,
   "metadata": {},
   "outputs": [
    {
     "data": {
      "text/plain": [
       "40"
      ]
     },
     "execution_count": 5,
     "metadata": {},
     "output_type": "execute_result"
    }
   ],
   "source": [
    "#print(response.status_code, response.url, response.text)\n",
    "\n",
    "titles = sel.css('h6.card-title::text').extract()\n",
    "len(titles)"
   ]
  },
  {
   "cell_type": "code",
   "execution_count": null,
   "metadata": {},
   "outputs": [],
   "source": []
  },
  {
   "cell_type": "code",
   "execution_count": 6,
   "metadata": {},
   "outputs": [
    {
     "data": {
      "text/plain": [
       "40"
      ]
     },
     "execution_count": 6,
     "metadata": {},
     "output_type": "execute_result"
    }
   ],
   "source": [
    "cards = sel.css('div.card')\n",
    "len(cards)"
   ]
  },
  {
   "cell_type": "code",
   "execution_count": 7,
   "metadata": {},
   "outputs": [],
   "source": [
    "cards = sel.css('div.card-body')\n",
    "titles = cards.css('h6.card-title ::text').extract()\n",
    "\n",
    "speakers_dates = []\n",
    "for card in cards:\n",
    "    title = card.css('h6.card-title ::text').extract_first()\n",
    "    speaker = card.css('div.card-body ::text').extract_first()\n",
    "    date = card.css('div.card-body ::text').extract()[1] if card.css('div.card-body ::text').extract() else None\n",
    "    speakers_dates.append((title, (speaker + date)))\n"
   ]
  },
  {
   "cell_type": "code",
   "execution_count": 8,
   "metadata": {},
   "outputs": [
    {
     "data": {
      "text/plain": [
       "40"
      ]
     },
     "execution_count": 8,
     "metadata": {},
     "output_type": "execute_result"
    }
   ],
   "source": [
    "len(speakers_dates)"
   ]
  },
  {
   "cell_type": "markdown",
   "metadata": {},
   "source": [
    "### Use Better Methods:"
   ]
  },
  {
   "cell_type": "code",
   "execution_count": null,
   "metadata": {},
   "outputs": [],
   "source": [
    "cards = sel.css('div.card-body')\n",
    "\n",
    "speaker_dates = cards.css('div.card-body p::text').extract()\n",
    "len(speaker_dates)"
   ]
  },
  {
   "cell_type": "code",
   "execution_count": null,
   "metadata": {},
   "outputs": [
    {
     "name": "stdout",
     "output_type": "stream",
     "text": [
      "                                            Speakers  \\\n",
      "0  Speaker: Prof. Tiago Ventura, Georgetown Unive...   \n",
      "1                Speaker: Dr. Divya Srivastava, LSE    \n",
      "2                  Speaker: Prof. Elisa Omodei, CEU    \n",
      "3  Speaker: Moritz Pfeifer & Vincent Philipp Marohl    \n",
      "4                       Speaker: Dr. Max Falkenberg    \n",
      "\n",
      "                                 Dates  \n",
      "0    Date: Wednesday, 07 February 2024  \n",
      "1    Date: Wednesday, 22 November 2023  \n",
      "2     Date: Wednesday, 18 October 2023  \n",
      "3   Date: Wednesday, 27 September 2023  \n",
      "4   Date: Wednesday, 13 September 2023  \n"
     ]
    }
   ],
   "source": [
    "speakers_dates = cards.css('.card-body p.card-text ::text').extract()\n",
    "#pprint(speakers_dates)\n",
    "#The below indexes the odd elements, i.e. does every other element but starting from 0\n",
    "speakers = speakers_dates[::2]\n",
    "#The below indexes the even elements, i.e. does every other element but starting from 1\n",
    "dates = speakers_dates[1::2]\n",
    "pprint(pd.DataFrame({'Speakers': speakers, 'Dates':dates}).head())"
   ]
  },
  {
   "cell_type": "code",
   "execution_count": 40,
   "metadata": {},
   "outputs": [
    {
     "name": "stdout",
     "output_type": "stream",
     "text": [
      "36\n",
      "                                               Title:  \\\n",
      "0   Digital Politics and Foreign Interventions: A ...   \n",
      "1   Misinformation exposure beyond traditional fee...   \n",
      "2   Promoting the systematic use of real-world dat...   \n",
      "3   Data science for the Sustainable Development G...   \n",
      "4   CentralBankRoBERTa: A Fine-Tuned Large Languag...   \n",
      "5   The Evolution of the Climate Discourse on Twit...   \n",
      "6   The Handbook of Computational Social Science f...   \n",
      "7   Artificial Intelligence, Algorithmic Recommend...   \n",
      "8   Exploring A New Model of Industry/Academic Col...   \n",
      "9   Using Multimodal Neural Networks to Better Und...   \n",
      "10  Models, mathematics, and data science: how to ...   \n",
      "11         CIVICA Conference on European Polarisation   \n",
      "12              New Faces of Bias in Online Platforms   \n",
      "13  Introducing the Online Harms Observatory: AI p...   \n",
      "14  Using Open Source Data Streams and Surveys to ...   \n",
      "15  Does Epistemic Vice Explain Corporate Misconduct?   \n",
      "16  Becoming a data scientist: what it means to pu...   \n",
      "17            The Making of a French Migration Crisis   \n",
      "18  A New Approach to Visualizing Spatial Exposure...   \n",
      "19  Modeling Sustainable Development from the Bott...   \n",
      "20  Internet Communities and the French Presidenti...   \n",
      "21  The Science of Success: Quantifying Outcomes i...   \n",
      "22  Embedding Regression: Models for Context-Speci...   \n",
      "23  Information and Irregular Migration: Evidence ...   \n",
      "24       Adjusting for Confounding with Text Matching   \n",
      "25                             What is Data Feminist?   \n",
      "26              The Principles of Collective Learning   \n",
      "27  More Than Words: How Political Rhetoric Shapes...   \n",
      "28  Serendipity or Confinement? Deconstructing Alg...   \n",
      "29  Framing a Protest: Determinants and Effects of...   \n",
      "30             Understanding Beautiful Places with AI   \n",
      "31         Incentives and Covid-19 Vaccination Uptake   \n",
      "32                    The Art of Quantitative Editing   \n",
      "33                    Breaking the Social Media Prism   \n",
      "34  Using Public Video Cameras to Detect Racial Di...   \n",
      "35       How to Detect Fake News Before It Is Written   \n",
      "\n",
      "                                              Speaker  \\\n",
      "0   Speaker: Ashrakat Elshehawy, Stanford's King C...   \n",
      "1   Speaker: Prof. Tiago Ventura, Georgetown Unive...   \n",
      "2                 Speaker: Dr. Divya Srivastava, LSE    \n",
      "3                   Speaker: Prof. Elisa Omodei, CEU    \n",
      "4   Speaker: Moritz Pfeifer & Vincent Philipp Marohl    \n",
      "5                        Speaker: Dr. Max Falkenberg    \n",
      "6                      Speaker: Dr. Eleonora Bertoni    \n",
      "7                   Speaker: Prof. Giacomo Calzolari    \n",
      "8                       Speaker: Prof. Pablo Barberá    \n",
      "9               Speaker: Prof. Bryce Jensen Dietrich    \n",
      "10                       Speaker: Dr. Erica Thompson    \n",
      "11                                    Full day event    \n",
      "12                       Speaker: Prof. Aniko Hannak    \n",
      "13                            Speaker: Pica Johnsson    \n",
      "14                         Speaker: Prof. Lisa Singh    \n",
      "15                          Speaker: Dr. Marco Meyer    \n",
      "16                      Speaker: Prof. Anne Beaulieu    \n",
      "17  Speaker: Dr. Michelle Reddy & Dr. Hélène Thiol...   \n",
      "18                  Speaker: Prof. Stephanie Lackner    \n",
      "19                     Speaker: Dr. Omar A. Guerrero    \n",
      "20                  Speaker: Prof. David Chavalarias    \n",
      "21                    Speaker: Prof. Laszlo Barabasi    \n",
      "22                    Speaker: Prof. Arthur Spirling    \n",
      "23                     Speaker: Dr. Alexandra Scacco    \n",
      "24                   Speaker: Prof. Margaret Roberts    \n",
      "25                       Speaker: Prof. Lauren Klein    \n",
      "26                   Speaker: Prof. Cesar A. Hidalgo    \n",
      "27                  Speaker: Prof. Christopher Lucas    \n",
      "28                       Speaker: Prof. Camille Roth    \n",
      "29                   Speaker: Prof. Michelle Torrest    \n",
      "30                  Speaker: Prof. Macartan Humphreys   \n",
      "31                         Speaker: Dr. Laura Bronner   \n",
      "32                        Speaker: Dr. Melissa Sands    \n",
      "33                         Speaker: Dr. Preslav Nakov   \n",
      "34                         Speaker: John Burn-Murdoch   \n",
      "35                              Speaker: Roman Rivera   \n",
      "\n",
      "                                   Date  \n",
      "0     Date: Wednesday, 21 February 2024  \n",
      "1     Date: Wednesday, 07 February 2024  \n",
      "2     Date: Wednesday, 22 November 2023  \n",
      "3      Date: Wednesday, 18 October 2023  \n",
      "4    Date: Wednesday, 27 September 2023  \n",
      "5    Date: Wednesday, 13 September 2023  \n",
      "6          Date: Wednesday, 31 May 2023  \n",
      "7          Date: Wednesday, 03 May 2023  \n",
      "8        Date: Wednesday, 19 April 2023  \n",
      "9        Date: Wednesday, 22 March 2023  \n",
      "10       Date: Wednesday, 08 March 2023  \n",
      "11    Date: Wednesday, 15 February 2023  \n",
      "12    Date: Wednesday, 08 February 2023  \n",
      "13     Date: Wednesday, 11 January 2023  \n",
      "14    Date: Wednesday, 02 November 2022  \n",
      "15     Date: Wednesday, 19 October 2022  \n",
      "16   Date: Wednesday, 14 September 2022  \n",
      "17        Date: Wednesday, 15 June 2022  \n",
      "18        Date: Wednesday, 01 June 2022  \n",
      "19         Date: Wednesday, 04 May 2022  \n",
      "20       Date: Wednesday, 20 April 2022  \n",
      "21       Date: Wednesday, 09 March 2022  \n",
      "22    Date: Wednesday, 23 February 2022  \n",
      "23    Date: Wednesday, 09 February 2022  \n",
      "24     Date: Wednesday, 26 January 2022  \n",
      "25     Date: Wednesday, 12 January 2022  \n",
      "26     Date: Wednesday, 1 December 2021  \n",
      "27     Date: Wednesday, 3 November 2021  \n",
      "28     Date: Wednesday, 20 October 2021  \n",
      "29     Date: Wednesday, 06 October 2021  \n",
      "30   Date: Wednesday, 08 September 2021  \n",
      "31        Date: Wednesday, 02 June 2021  \n",
      "32         Date: Wednesday, 05 May 2021  \n",
      "33       Date: Wednesday, 21 April 2021  \n",
      "34       Date: Wednesday, 24 March 2021  \n",
      "35       Date: Wednesday, 17 March 2021  \n"
     ]
    }
   ],
   "source": [
    "speakers_xpath = \"//p[@class='card-text']/text()[1]\"\n",
    "speakers = sel.xpath(speakers_xpath).extract() if sel.xpath(speakers_xpath).extract() else None\n",
    "print(len(speakers))\n",
    "\n",
    "dates_xpath = \"//p[@class='card-text']/text()[2]\"\n",
    "dates = sel.xpath(dates_xpath).extract() if sel.xpath(dates_xpath).extract() else None\n",
    "\n",
    "titles = cards.css('h6.card-title ::text').extract()[:36]\n",
    "#titles_xpath = \"//h6[@class='card-title']/text()\"\n",
    "#titles = sel.xpath(titles_xpath).extract()\n",
    "\n",
    "df_boxes = pd.DataFrame({'Title:': titles, 'Speaker': speakers, 'Date':dates})\n",
    "pprint(df_boxes)"
   ]
  },
  {
   "cell_type": "markdown",
   "metadata": {},
   "source": [
    "#### The best way"
   ]
  },
  {
   "cell_type": "code",
   "execution_count": 81,
   "metadata": {},
   "outputs": [
    {
     "name": "stdout",
     "output_type": "stream",
     "text": [
      "                                                Title  \\\n",
      "0   Digital Politics and Foreign Interventions: A ...   \n",
      "1   Misinformation exposure beyond traditional fee...   \n",
      "2   Promoting the systematic use of real-world dat...   \n",
      "3   Data science for the Sustainable Development G...   \n",
      "4   CentralBankRoBERTa: A Fine-Tuned Large Languag...   \n",
      "5   The Evolution of the Climate Discourse on Twit...   \n",
      "6   The Handbook of Computational Social Science f...   \n",
      "7   Artificial Intelligence, Algorithmic Recommend...   \n",
      "8   Exploring A New Model of Industry/Academic Col...   \n",
      "9   Using Multimodal Neural Networks to Better Und...   \n",
      "10  Models, mathematics, and data science: how to ...   \n",
      "11         CIVICA Conference on European Polarisation   \n",
      "12              New Faces of Bias in Online Platforms   \n",
      "13  Introducing the Online Harms Observatory: AI p...   \n",
      "14  Using Open Source Data Streams and Surveys to ...   \n",
      "15  Does Epistemic Vice Explain Corporate Misconduct?   \n",
      "16  Becoming a data scientist: what it means to pu...   \n",
      "17            The Making of a French Migration Crisis   \n",
      "18  A New Approach to Visualizing Spatial Exposure...   \n",
      "19  Modeling Sustainable Development from the Bott...   \n",
      "20  Internet Communities and the French Presidenti...   \n",
      "21  The Science of Success: Quantifying Outcomes i...   \n",
      "22  Embedding Regression: Models for Context-Speci...   \n",
      "23  Information and Irregular Migration: Evidence ...   \n",
      "24       Adjusting for Confounding with Text Matching   \n",
      "25                             What is Data Feminist?   \n",
      "26              The Principles of Collective Learning   \n",
      "27  More Than Words: How Political Rhetoric Shapes...   \n",
      "28  Serendipity or Confinement? Deconstructing Alg...   \n",
      "29  Framing a Protest: Determinants and Effects of...   \n",
      "30             Understanding Beautiful Places with AI   \n",
      "31         Incentives and Covid-19 Vaccination Uptake   \n",
      "32                    The Art of Quantitative Editing   \n",
      "33                    Breaking the Social Media Prism   \n",
      "34  Using Public Video Cameras to Detect Racial Di...   \n",
      "35       How to Detect Fake News Before It Is Written   \n",
      "36  Negotiating with AI: Fairness in the Labor Market   \n",
      "37         Tracking Covid-19 with the Financial Times   \n",
      "38  Police Diversity to Prevent Violence: Does It ...   \n",
      "39  Data Science in the Time of Covid and What Hap...   \n",
      "\n",
      "                                              Speaker  \\\n",
      "0   Ashrakat Elshehawy, Stanford's King Center on ...   \n",
      "1         Prof. Tiago Ventura, Georgetown University    \n",
      "2                          Dr. Divya Srivastava, LSE    \n",
      "3                            Prof. Elisa Omodei, CEU    \n",
      "4            Moritz Pfeifer & Vincent Philipp Marohl    \n",
      "5                                 Dr. Max Falkenberg    \n",
      "6                               Dr. Eleonora Bertoni    \n",
      "7                            Prof. Giacomo Calzolari    \n",
      "8                                Prof. Pablo Barberá    \n",
      "9                        Prof. Bryce Jensen Dietrich    \n",
      "10                                Dr. Erica Thompson    \n",
      "11                                    Full day event    \n",
      "12                                Prof. Aniko Hannak    \n",
      "13                                     Pica Johnsson    \n",
      "14                                  Prof. Lisa Singh    \n",
      "15                                   Dr. Marco Meyer    \n",
      "16                               Prof. Anne Beaulieu    \n",
      "17          Dr. Michelle Reddy & Dr. Hélène Thiollet    \n",
      "18                           Prof. Stephanie Lackner    \n",
      "19                              Dr. Omar A. Guerrero    \n",
      "20                           Prof. David Chavalarias    \n",
      "21                             Prof. Laszlo Barabasi    \n",
      "22                             Prof. Arthur Spirling    \n",
      "23                              Dr. Alexandra Scacco    \n",
      "24                            Prof. Margaret Roberts    \n",
      "25                                Prof. Lauren Klein    \n",
      "26                            Prof. Cesar A. Hidalgo    \n",
      "27                           Prof. Christopher Lucas    \n",
      "28                                Prof. Camille Roth    \n",
      "29                            Prof. Michelle Torrest    \n",
      "30                                   Prof. Suzy Moat    \n",
      "31                           Prof. Macartan Humphreys   \n",
      "32                                  Dr. Laura Bronner   \n",
      "33                                         Chris Bail   \n",
      "34                                 Dr. Melissa Sands    \n",
      "35                                  Dr. Preslav Nakov   \n",
      "36                               Prof. Christo Wilson   \n",
      "37                                  John Burn-Murdoch   \n",
      "38                                       Roman Rivera   \n",
      "39                                       Launch Event   \n",
      "\n",
      "                             Date  \n",
      "0     Wednesday, 21 February 2024  \n",
      "1     Wednesday, 07 February 2024  \n",
      "2     Wednesday, 22 November 2023  \n",
      "3      Wednesday, 18 October 2023  \n",
      "4    Wednesday, 27 September 2023  \n",
      "5    Wednesday, 13 September 2023  \n",
      "6          Wednesday, 31 May 2023  \n",
      "7          Wednesday, 03 May 2023  \n",
      "8        Wednesday, 19 April 2023  \n",
      "9        Wednesday, 22 March 2023  \n",
      "10       Wednesday, 08 March 2023  \n",
      "11    Wednesday, 15 February 2023  \n",
      "12    Wednesday, 08 February 2023  \n",
      "13     Wednesday, 11 January 2023  \n",
      "14    Wednesday, 02 November 2022  \n",
      "15     Wednesday, 19 October 2022  \n",
      "16   Wednesday, 14 September 2022  \n",
      "17        Wednesday, 15 June 2022  \n",
      "18        Wednesday, 01 June 2022  \n",
      "19         Wednesday, 04 May 2022  \n",
      "20       Wednesday, 20 April 2022  \n",
      "21       Wednesday, 09 March 2022  \n",
      "22    Wednesday, 23 February 2022  \n",
      "23    Wednesday, 09 February 2022  \n",
      "24     Wednesday, 26 January 2022  \n",
      "25     Wednesday, 12 January 2022  \n",
      "26     Wednesday, 1 December 2021  \n",
      "27     Wednesday, 3 November 2021  \n",
      "28     Wednesday, 20 October 2021  \n",
      "29     Wednesday, 06 October 2021  \n",
      "30  Wednesday, 22 September, 2021  \n",
      "31   Wednesday, 08 September 2021  \n",
      "32        Wednesday, 02 June 2021  \n",
      "33        Wednesday, 19 May, 2021  \n",
      "34         Wednesday, 05 May 2021  \n",
      "35       Wednesday, 21 April 2021  \n",
      "36      Wednesday, 07 April, 2021  \n",
      "37       Wednesday, 24 March 2021  \n",
      "38       Wednesday, 17 March 2021  \n",
      "39   Wednesday, 24 February, 2021  \n"
     ]
    }
   ],
   "source": [
    "#Using the CSS Selectors:\n",
    "info = sel.css(\"div.card-body > p ::text\").extract()\n",
    "\n",
    "## Use the list-slicing method to separate the speakers and dates\n",
    "speakers = info[::2]\n",
    "dates = info[1::2]\n",
    "titles = cards.css('h6.card-title ::text').extract()\n",
    "\n",
    "#Using the XPath:\n",
    "speakers_xpath = \"//div[@class='card-body']/p/text()[1]\"\n",
    "speakers = sel.xpath(speakers_xpath).extract()\n",
    "\n",
    "dates_xpath = \"//div[@class='card-body']/p/text()[2]\"\n",
    "dates = sel.xpath(dates_xpath).extract()\n",
    "\n",
    "titles_xpath = \"//h6[@class='card-title']/text()\"\n",
    "titles = sel.xpath(titles_xpath).extract()\n",
    "\n",
    "# Remove \"Speaker: \" from speaker names and \"Date: \" from dates\n",
    "speakers = [speaker.replace(\"Speaker: \", \"\") for speaker in speakers]\n",
    "\n",
    "# Define regex pattern to match \"Date: \" followed by optional whitespace\n",
    "dates = [date.replace(\"Date: \", \"\") for date in dates]\n",
    "\n",
    "df_boxes = pd.DataFrame({'Title': titles, 'Speaker': speakers, 'Date': dates})\n",
    "print(df_boxes)"
   ]
  },
  {
   "cell_type": "markdown",
   "metadata": {},
   "source": [
    "### Save the data to CSV"
   ]
  },
  {
   "cell_type": "code",
   "execution_count": 82,
   "metadata": {},
   "outputs": [],
   "source": [
    "# Define the path to the data directory\n",
    "data_dir = \"./data\"\n",
    "\n",
    "# Create the data directory if it doesn't exist\n",
    "os.makedirs(data_dir, exist_ok=True)\n",
    "csv_file = os.path.join(data_dir, 'df_boxes.csv')\n",
    "\n",
    "# Save the DataFrame as a CSV file\n",
    "df_boxes.to_csv(csv_file, index_label='index')"
   ]
  },
  {
   "cell_type": "markdown",
   "metadata": {},
   "source": [
    "## Below is an alternate way to do the same"
   ]
  },
  {
   "cell_type": "code",
   "execution_count": null,
   "metadata": {},
   "outputs": [
    {
     "data": {
      "text/plain": [
       "{'Misinformation exposure beyond traditional feeds: Evidence from a WhatsApp deactivation experiment in Brazil': {'Speaker': 'Prof. Tiago Ventura, Georgetown University ',\n",
       "  'Date': ' Wednesday, 07 February 2024'},\n",
       " 'Promoting the systematic use of real-world data and real-world evidence for digital health technologies across Europe: A consensus framework': {'Speaker': 'Dr. Divya Srivastava, LSE ',\n",
       "  'Date': ' Wednesday, 22 November 2023'},\n",
       " 'Data science for the Sustainable Development Goals: the case of food security': {'Speaker': 'Prof. Elisa Omodei, CEU ',\n",
       "  'Date': ' Wednesday, 18 October 2023'},\n",
       " 'CentralBankRoBERTa: A Fine-Tuned Large Language Model for Central Bank Communications': {'Speaker': 'Moritz Pfeifer & Vincent Philipp Marohl ',\n",
       "  'Date': ' Wednesday, 27 September 2023'},\n",
       " 'The Evolution of the Climate Discourse on Twitter: Polarization, Hypocrisy, and the Musk Takeover': {'Speaker': 'Dr. Max Falkenberg ',\n",
       "  'Date': ' Wednesday, 13 September 2023'},\n",
       " 'The Handbook of Computational Social Science for Policy': {'Speaker': 'Dr. Eleonora Bertoni ',\n",
       "  'Date': ' Wednesday, 31 May 2023'},\n",
       " 'Artificial Intelligence, Algorithmic Recommendations and Competition': {'Speaker': 'Prof. Giacomo Calzolari ',\n",
       "  'Date': ' Wednesday, 03 May 2023'},\n",
       " 'Exploring A New Model of Industry/Academic Collaboration: the U.S. 2020 Facebook and Instagram Election Study': {'Speaker': 'Prof. Pablo Barberá ',\n",
       "  'Date': ' Wednesday, 19 April 2023'},\n",
       " 'Using Multimodal Neural Networks to Better Understand How Voters Process Audiovisual Information': {'Speaker': 'Prof. Bryce Jensen Dietrich ',\n",
       "  'Date': ' Wednesday, 22 March 2023'},\n",
       " \"Models, mathematics, and data science: how to make sure we're answering the right questions\": {'Speaker': 'Dr. Erica Thompson ',\n",
       "  'Date': ' Wednesday, 08 March 2023'},\n",
       " 'CIVICA Conference on European Polarisation': {'Speaker': 'Full day event ',\n",
       "  'Date': ' Wednesday, 15 February 2023'},\n",
       " 'New Faces of Bias in Online Platforms': {'Speaker': 'Prof. Aniko Hannak ',\n",
       "  'Date': ' Wednesday, 08 February 2023'},\n",
       " 'Introducing the Online Harms Observatory: AI powered mapping of online abuse in real-time': {'Speaker': 'Pica Johnsson ',\n",
       "  'Date': ' Wednesday, 11 January 2023'},\n",
       " 'Using Open Source Data Streams and Surveys to Improve Our Understanding of Elections': {'Speaker': 'Prof. Lisa Singh ',\n",
       "  'Date': ' Wednesday, 02 November 2022'},\n",
       " 'Does Epistemic Vice Explain Corporate Misconduct?': {'Speaker': 'Dr. Marco Meyer ',\n",
       "  'Date': ' Wednesday, 19 October 2022'},\n",
       " 'Becoming a data scientist: what it means to put data to work': {'Speaker': 'Prof. Anne Beaulieu ',\n",
       "  'Date': ' Wednesday, 14 September 2022'},\n",
       " 'The Making of a French Migration Crisis': {'Speaker': 'Dr. Michelle Reddy & Dr. Hélène Thiollet ',\n",
       "  'Date': ' Wednesday, 15 June 2022'},\n",
       " 'A New Approach to Visualizing Spatial Exposure Data for Comparing Earthquakes': {'Speaker': 'Prof. Stephanie Lackner ',\n",
       "  'Date': ' Wednesday, 01 June 2022'},\n",
       " 'Modeling Sustainable Development from the Bottom Up': {'Speaker': 'Dr. Omar A. Guerrero ',\n",
       "  'Date': ' Wednesday, 04 May 2022'},\n",
       " 'Internet Communities and the French Presidential Election': {'Speaker': 'Prof. David Chavalarias ',\n",
       "  'Date': ' Wednesday, 20 April 2022'},\n",
       " 'The Science of Success: Quantifying Outcomes in Social System': {'Speaker': 'Prof. Laszlo Barabasi ',\n",
       "  'Date': ' Wednesday, 09 March 2022'},\n",
       " 'Embedding Regression: Models for Context-Specific Description and Inference': {'Speaker': 'Prof. Arthur Spirling ',\n",
       "  'Date': 'Wednesday, 23 February 2022'},\n",
       " 'Information and Irregular Migration: Evidence from a Field Experiment in Nigeria': {'Speaker': 'Dr. Alexandra Scacco ',\n",
       "  'Date': ' Wednesday, 09 February 2022'},\n",
       " 'Adjusting for Confounding with Text Matching': {'Speaker': 'Prof. Margaret Roberts ',\n",
       "  'Date': 'Wednesday, 26 January 2022'},\n",
       " 'What is Data Feminist?': {'Speaker': 'Prof. Lauren Klein ',\n",
       "  'Date': 'Wednesday, 12 January 2022'},\n",
       " 'The Principles of Collective Learning': {'Speaker': 'Prof. Cesar A. Hidalgo ',\n",
       "  'Date': ' Wednesday, 1 December 2021'},\n",
       " \"More Than Words: How Political Rhetoric Shapes Voters' Affect and Evluation\": {'Speaker': 'Prof. Christopher Lucas ',\n",
       "  'Date': ' Wednesday, 3 November 2021'},\n",
       " 'Serendipity or Confinement? Deconstructing Algorithmic Recommendation': {'Speaker': 'Prof. Camille Roth ',\n",
       "  'Date': 'Wednesday, 20 October 2021'},\n",
       " 'Framing a Protest: Determinants and Effects of Visual Frames': {'Speaker': 'Prof. Michelle Torrest ',\n",
       "  'Date': 'Wednesday, 06 October 2021'},\n",
       " 'Understanding Beautiful Places with AI': {'Speaker': None, 'Date': None},\n",
       " 'Incentives and Covid-19 Vaccination Uptake': {'Speaker': 'Prof. Macartan Humphreys',\n",
       "  'Date': 'Wednesday, 08 September 2021'},\n",
       " 'The Art of Quantitative Editing': {'Speaker': 'Dr. Laura Bronner',\n",
       "  'Date': 'Wednesday, 02 June 2021'},\n",
       " 'Breaking the Social Media Prism': {'Speaker': None, 'Date': None},\n",
       " 'Using Public Video Cameras to Detect Racial Distancing on City Streets': {'Speaker': 'Dr. Melissa Sands ',\n",
       "  'Date': 'Wednesday, 05 May 2021'},\n",
       " 'How to Detect Fake News Before It Is Written': {'Speaker': 'Dr. Preslav Nakov',\n",
       "  'Date': 'Wednesday, 21 April 2021'},\n",
       " 'Negotiating with AI: Fairness in the Labor Market': {'Speaker': None,\n",
       "  'Date': None},\n",
       " 'Tracking Covid-19 with the Financial Times': {'Speaker': 'John Burn-Murdoch',\n",
       "  'Date': 'Wednesday, 24 March 2021'},\n",
       " 'Police Diversity to Prevent Violence: Does It Work?': {'Speaker': 'Roman Rivera',\n",
       "  'Date': 'Wednesday, 17 March 2021'},\n",
       " 'Data Science in the Time of Covid and What Happens After': {'Speaker': None,\n",
       "  'Date': None}}"
      ]
     },
     "execution_count": 74,
     "metadata": {},
     "output_type": "execute_result"
    }
   ],
   "source": [
    "# Delete this line and replace it with your code\n",
    "all_titles = []\n",
    "cards_dict = {}\n",
    "for i , card in enumerate(cards):\n",
    "    # Get the card text\n",
    "    card_text = card.css('.card-body p.card-text').get()\n",
    "    card_description = card.css('.card-body p.card-text ::text').extract()\n",
    "    speaker_text = card_description[0].replace('Speaker: ', '') if card_description else None\n",
    "    date_text = card_description[1].replace('Date: ', '') if card_description else None\n",
    "    #date_text = card.css('.card-body p.card-text br+::text')\n",
    "    #print(\"Card Text:\", card_text)  # Add debug statement\n",
    "    title_text = card.css('.card-body h6.card-title::text').get()\n",
    "    box_dict = {\n",
    "                #\"event_location\": title,\n",
    "                #'Description' : card_description,\n",
    "                'Speaker': speaker_text,\n",
    "                \"Date\": date_text,\n",
    "            }\n",
    "    # Append the date to the list\n",
    "    cards_dict[title_text] = box_dict\n",
    "    #print(type(card_description[0] if card_description else None)) \n",
    "\n",
    "cards_dict\n",
    "\n"
   ]
  },
  {
   "cell_type": "code",
   "execution_count": null,
   "metadata": {},
   "outputs": [],
   "source": [
    "df_cards = pd.DataFrame.from_dict(cards_dict, orient='index')"
   ]
  },
  {
   "cell_type": "code",
   "execution_count": null,
   "metadata": {},
   "outputs": [
    {
     "data": {
      "text/html": [
       "<div>\n",
       "<style scoped>\n",
       "    .dataframe tbody tr th:only-of-type {\n",
       "        vertical-align: middle;\n",
       "    }\n",
       "\n",
       "    .dataframe tbody tr th {\n",
       "        vertical-align: top;\n",
       "    }\n",
       "\n",
       "    .dataframe thead th {\n",
       "        text-align: right;\n",
       "    }\n",
       "</style>\n",
       "<table border=\"1\" class=\"dataframe\">\n",
       "  <thead>\n",
       "    <tr style=\"text-align: right;\">\n",
       "      <th></th>\n",
       "      <th>Speaker</th>\n",
       "      <th>Date</th>\n",
       "    </tr>\n",
       "  </thead>\n",
       "  <tbody>\n",
       "    <tr>\n",
       "      <th>Misinformation exposure beyond traditional feeds: Evidence from a WhatsApp deactivation experiment in Brazil</th>\n",
       "      <td>Prof. Tiago Ventura, Georgetown University</td>\n",
       "      <td>Wednesday, 07 February 2024</td>\n",
       "    </tr>\n",
       "    <tr>\n",
       "      <th>Promoting the systematic use of real-world data and real-world evidence for digital health technologies across Europe: A consensus framework</th>\n",
       "      <td>Dr. Divya Srivastava, LSE</td>\n",
       "      <td>Wednesday, 22 November 2023</td>\n",
       "    </tr>\n",
       "    <tr>\n",
       "      <th>Data science for the Sustainable Development Goals: the case of food security</th>\n",
       "      <td>Prof. Elisa Omodei, CEU</td>\n",
       "      <td>Wednesday, 18 October 2023</td>\n",
       "    </tr>\n",
       "    <tr>\n",
       "      <th>CentralBankRoBERTa: A Fine-Tuned Large Language Model for Central Bank Communications</th>\n",
       "      <td>Moritz Pfeifer &amp; Vincent Philipp Marohl</td>\n",
       "      <td>Wednesday, 27 September 2023</td>\n",
       "    </tr>\n",
       "    <tr>\n",
       "      <th>The Evolution of the Climate Discourse on Twitter: Polarization, Hypocrisy, and the Musk Takeover</th>\n",
       "      <td>Dr. Max Falkenberg</td>\n",
       "      <td>Wednesday, 13 September 2023</td>\n",
       "    </tr>\n",
       "  </tbody>\n",
       "</table>\n",
       "</div>"
      ],
      "text/plain": [
       "                                                                                        Speaker  \\\n",
       "Misinformation exposure beyond traditional feed...  Prof. Tiago Ventura, Georgetown University    \n",
       "Promoting the systematic use of real-world data...                   Dr. Divya Srivastava, LSE    \n",
       "Data science for the Sustainable Development Go...                     Prof. Elisa Omodei, CEU    \n",
       "CentralBankRoBERTa: A Fine-Tuned Large Language...     Moritz Pfeifer & Vincent Philipp Marohl    \n",
       "The Evolution of the Climate Discourse on Twitt...                          Dr. Max Falkenberg    \n",
       "\n",
       "                                                                             Date  \n",
       "Misinformation exposure beyond traditional feed...    Wednesday, 07 February 2024  \n",
       "Promoting the systematic use of real-world data...    Wednesday, 22 November 2023  \n",
       "Data science for the Sustainable Development Go...     Wednesday, 18 October 2023  \n",
       "CentralBankRoBERTa: A Fine-Tuned Large Language...   Wednesday, 27 September 2023  \n",
       "The Evolution of the Climate Discourse on Twitt...   Wednesday, 13 September 2023  "
      ]
     },
     "execution_count": 90,
     "metadata": {},
     "output_type": "execute_result"
    }
   ],
   "source": [
    "df_cards.head()"
   ]
  },
  {
   "cell_type": "markdown",
   "metadata": {},
   "source": [
    "4. **Let's simplify.** Let's capture the title of the **first event** again, but instead of writing the entire full absolute path, like above, identify a more direct way to capture it. \n",
    "\n",
    "    - Note: Either use scrapy's `.extract_first()` or use `extract()` and later filter the list using regular  Python"
   ]
  },
  {
   "cell_type": "code",
   "execution_count": null,
   "metadata": {},
   "outputs": [],
   "source": [
    "# Delete this line and replace it with your code"
   ]
  },
  {
   "cell_type": "markdown",
   "metadata": {},
   "source": [
    "5. **Collect all the titles**. OK, now let's practice getting all event titles from the entire page. Save the titles into a list.\n",
    "\n",
    "    **NOTE:** Again, collect all the information from the webpage at once. Don't use the notion of containers just yet. We will practice it in the W05 lecture."
   ]
  },
  {
   "cell_type": "code",
   "execution_count": null,
   "metadata": {},
   "outputs": [],
   "source": [
    "# Delete this line and replace it with your code"
   ]
  },
  {
   "cell_type": "markdown",
   "metadata": {},
   "source": [
    "6. Do the same with the dates of the events and speaker names and save them to separate lists. \n",
    "\n",
    "    **NOTE:** Again, collect all the information from the webpage at once. Don't use the notion of containers just yet. We will practice it in the W05 lecture.\n"
   ]
  },
  {
   "cell_type": "code",
   "execution_count": null,
   "metadata": {},
   "outputs": [],
   "source": [
    "# Delete this line and replace it with your code"
   ]
  },
  {
   "cell_type": "markdown",
   "metadata": {},
   "source": [
    "7. 🥇 **Challenge:** Combine all these lists you captured above into a single pandas data frame and save it to a CSV file. \n",
    "\n",
    "    Tip 1: Say you have lists called `dates`, `titles`, `speakers`, you can create a data frame (a table) like this:\n",
    "    \n",
    "    ```python\n",
    "    df = pd.DataFrame({'date': dates,\n",
    "                       'title': titles,\n",
    "                       'speakers': speakers})\n",
    "    ```    \n",
    "    \n",
    "    Tip 2: What if an event does not have a date or speaker name? Set that particular event's date or speaker to `None`"
   ]
  },
  {
   "cell_type": "code",
   "execution_count": null,
   "metadata": {},
   "outputs": [],
   "source": [
    "# Delete this line and replace it with your code"
   ]
  },
  {
   "cell_type": "markdown",
   "metadata": {},
   "source": [
    "8. Double-check that the CSV file was created correctly by opening it using pandas. Then convert the columns to appropriate data types."
   ]
  },
  {
   "cell_type": "code",
   "execution_count": null,
   "metadata": {},
   "outputs": [],
   "source": [
    "# Delete this line and replace it with your code"
   ]
  },
  {
   "cell_type": "markdown",
   "metadata": {},
   "source": [
    "----\n",
    "\n",
    "If there is some time left, use it to work on your 📝 [W06 Summative](https://lse-dsi.github.io/DS105/2023/winter-term/assessments/w06-summative.html)"
   ]
  }
 ],
 "metadata": {
  "kernelspec": {
   "display_name": "Python 3",
   "language": "python",
   "name": "python3"
  },
  "language_info": {
   "codemirror_mode": {
    "name": "ipython",
    "version": 3
   },
   "file_extension": ".py",
   "mimetype": "text/x-python",
   "name": "python",
   "nbconvert_exporter": "python",
   "pygments_lexer": "ipython3",
   "version": "3.11.5"
  },
  "orig_nbformat": 4,
  "vscode": {
   "interpreter": {
    "hash": "66a23b877595d3e158647673320c5aac91a1fe2874d6334c4fd4c069dffc5915"
   }
  }
 },
 "nbformat": 4,
 "nbformat_minor": 2
}
