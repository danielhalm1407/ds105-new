{
 "cells": [
  {
   "attachments": {},
   "cell_type": "markdown",
   "metadata": {},
   "source": [
    "<font style='font-size:1.5em'>**💻 Week 07 lab – Simple data cleaning with `pd.apply()`**</font>\n",
    "\n",
    "<font style='font-size:1.2em'>DS105W – Data for Data Science</font>\n",
    "\n",
    "**AUTHORS:**  Dr. [Jon Cardoso-Silva](https://jonjoncardoso.github.io) \n",
    "\n",
    "**DEPARTMENT:** [LSE Data Science Institute](https://lse.ac.uk/dsi)\n",
    "\n",
    "**LAST REVISION:** 23 February 2024\n"
   ]
  },
  {
   "attachments": {},
   "cell_type": "markdown",
   "metadata": {},
   "source": [
    "--- \n",
    "\n",
    "**⚙️ The setup**\n",
    "\n",
    "We will use the same libraries as we have been using in the previous weeks. \n"
   ]
  },
  {
   "cell_type": "markdown",
   "metadata": {},
   "source": [
    "Run the cell bellow to ensure you have the most up-to-date version of pandas"
   ]
  },
  {
   "cell_type": "code",
   "execution_count": 2,
   "metadata": {},
   "outputs": [
    {
     "name": "stdout",
     "output_type": "stream",
     "text": [
      "Requirement already satisfied: pandas in c:\\users\\danie\\anaconda3\\lib\\site-packages (2.2.1)\n",
      "Requirement already satisfied: numpy<2,>=1.23.2 in c:\\users\\danie\\anaconda3\\lib\\site-packages (from pandas) (1.24.3)\n",
      "Requirement already satisfied: python-dateutil>=2.8.2 in c:\\users\\danie\\anaconda3\\lib\\site-packages (from pandas) (2.8.2)\n",
      "Requirement already satisfied: pytz>=2020.1 in c:\\users\\danie\\anaconda3\\lib\\site-packages (from pandas) (2023.3.post1)\n",
      "Requirement already satisfied: tzdata>=2022.7 in c:\\users\\danie\\anaconda3\\lib\\site-packages (from pandas) (2023.3)\n",
      "Requirement already satisfied: six>=1.5 in c:\\users\\danie\\anaconda3\\lib\\site-packages (from python-dateutil>=2.8.2->pandas) (1.16.0)\n"
     ]
    }
   ],
   "source": [
    "!pip install --upgrade pandas"
   ]
  },
  {
   "cell_type": "code",
   "execution_count": 18,
   "metadata": {},
   "outputs": [],
   "source": [
    "import io                     # We need to deal with I/O\n",
    "import requests               # This is how we access the web\n",
    "import numpy as np            # This is how we work with arrays\n",
    "import pandas as pd           # This is how we work with data frames\n",
    "\n",
    "from pprint import pprint     # Print things in a pretty way\n",
    "from scrapy import Selector   # This is how we parse HTML\n",
    "from io import StringIO"
   ]
  },
  {
   "cell_type": "markdown",
   "metadata": {},
   "source": [
    "**📚 LEARNING OBJECTIVES:***\n",
    "\n",
    "- Discover the best way to search for Python help online\n",
    "- Finally understand why custom functions are helpful in pandas\n",
    "- Learn how to use `pd.apply()` to apply a function to each row of a DataFrame"
   ]
  },
  {
   "cell_type": "markdown",
   "metadata": {},
   "source": [
    "---\n",
    "\n",
    "# Part 0: Export your chat logs (~ 3 min)\n",
    "\n",
    "As part of the <span style=\"font-weight:bold\"> ![](/figures/icons/GENIAL_favicon.png){width=1em} GEN<font color='#D55816'>IA</font>L</span> project, we ask that you fill out the following form as soon as you come to the lab:\n",
    "\n",
    "🎯 **ACTION POINTS**\n",
    "\n",
    "1. 🔗 [**CLICK HERE**](https://forms.office.com/e/689MersZzV) to export your chat log.\n",
    "\n",
    "    Thanks for being GENIAL! 🎟️\n",
    "\n",
    "::: {style=\"width:70%;border: 1px solid #aaa; border-radius:1em; padding: 1em; margin-left:1.5em;\"}\n",
    "\n",
    "👉 **NOTE:** You MUST complete the [**initial form**](https://forms.office.com/e/UsYK256Byf).\n",
    "\n",
    "If you _really_ don't want to participate in GENIAL, just answer 'No' to the Terms & Conditions question - your e-mail address will be deleted from GENIAL's database the following week.\n",
    "\n",
    ":::\n",
    "\n",
    "## Join us this Tuesday for the GENIAL Open Lecture:\n",
    "\n",
    "<iframe src=\"https://www.lse.ac.uk/DSI/Events/2023-24/GENIAL-Open-Lecture\" style=\"border:0px #ffffff none;\" name=\"myiFrame\" scrolling=\"no\" frameborder=\"1\" marginheight=\"0px\" marginwidth=\"0px\" height=\"350px\" width=\"700px\" allowfullscreen></iframe>"
   ]
  },
  {
   "cell_type": "markdown",
   "metadata": {},
   "source": [
    "---\n",
    "\n",
    "# Part I: A pandas trick to scrape tables from the web (20 min)\n",
    "\n",
    "\n",
    "More than learning about a new function, this section is about thinking about a problem and discussing the different ways of researching and making sense of solutions.\n",
    "\n",
    "**As soon as you get to the class, you can jump straight into the tasks.**"
   ]
  },
  {
   "cell_type": "markdown",
   "metadata": {},
   "source": [
    "## Task 1: Reading an HTML table into a DataFrame"
   ]
  },
  {
   "cell_type": "markdown",
   "metadata": {},
   "source": [
    "🎯 **ACTION POINTS:**\n",
    "\n",
    "\n",
    "1. Access the Wikipedia entry for the [List of national capitals by population](https://en.wikipedia.org/wiki/List_of_national_capitals_by_population) and locate the main table on the page.\n",
    "\n",
    "2. We will learn how to use the `pd.read_html()` function from the `pandas` library to parse a table directly from HTML into a DataFrame. The code below shows an example of how to do that. All you have to do is replace the `<blank>` placeholder with the appropriate CSS selector for the table we identified in Step 1:"
   ]
  },
  {
   "cell_type": "markdown",
   "metadata": {},
   "source": [
    "We see that the correct selector is\n",
    "```html\n",
    "<table class=\"wikitable...\n",
    "```"
   ]
  },
  {
   "cell_type": "markdown",
   "metadata": {},
   "source": [
    "In python, variables are either objects, their methods or attributes"
   ]
  },
  {
   "cell_type": "markdown",
   "metadata": {},
   "source": [
    "Method:\n",
    "e.g.\n",
    "```python\n",
    "object.method()\n",
    "Selector(text)\n",
    "requests.get(base_url)\n",
    "```\n",
    "\n",
    "Attribute:\n",
    "e.g.\n",
    "```python\n",
    "object.attribute\n",
    "response.text\n",
    "```\n"
   ]
  },
  {
   "cell_type": "code",
   "execution_count": 27,
   "metadata": {},
   "outputs": [
    {
     "data": {
      "text/plain": [
       "pandas.core.frame.DataFrame"
      ]
     },
     "execution_count": 27,
     "metadata": {},
     "output_type": "execute_result"
    }
   ],
   "source": [
    "base_url = \"https://en.wikipedia.org/wiki/List_of_national_capitals_by_population\"\n",
    "\n",
    "response = requests.get(base_url)\n",
    "sel = Selector(text=response.text)\n",
    "\n",
    "# Identify the CSS selector for the '19-th century' table\n",
    "table_selector = 'table.wikitable'\n",
    "#better that <tbody>\n",
    "\n",
    "# Extract the HTML elements matching the CSS selector\n",
    "table = sel.css(table_selector).extract_first()\n",
    "\n",
    "#pd.read_html(table) returns a single list of multiple dataframes\n",
    "#type(pd.read_html(table))\n",
    "df = pd.read_html(table)[0]\n",
    "# in the above the read_html is the method and [0] is the index\n",
    "type(df)"
   ]
  },
  {
   "cell_type": "code",
   "execution_count": 21,
   "metadata": {},
   "outputs": [
    {
     "data": {
      "text/html": [
       "<div>\n",
       "<style scoped>\n",
       "    .dataframe tbody tr th:only-of-type {\n",
       "        vertical-align: middle;\n",
       "    }\n",
       "\n",
       "    .dataframe tbody tr th {\n",
       "        vertical-align: top;\n",
       "    }\n",
       "\n",
       "    .dataframe thead tr th {\n",
       "        text-align: left;\n",
       "    }\n",
       "</style>\n",
       "<table border=\"1\" class=\"dataframe\">\n",
       "  <thead>\n",
       "    <tr>\n",
       "      <th></th>\n",
       "      <th>Lists of capitals</th>\n",
       "    </tr>\n",
       "    <tr>\n",
       "      <th></th>\n",
       "      <th>Of countries</th>\n",
       "    </tr>\n",
       "  </thead>\n",
       "  <tbody>\n",
       "    <tr>\n",
       "      <th>0</th>\n",
       "      <td>In alphabetical order By latitude By populatio...</td>\n",
       "    </tr>\n",
       "    <tr>\n",
       "      <th>1</th>\n",
       "      <td>Of country subdivisions</td>\n",
       "    </tr>\n",
       "    <tr>\n",
       "      <th>2</th>\n",
       "      <td>Capitals outside the territories they serve Pu...</td>\n",
       "    </tr>\n",
       "    <tr>\n",
       "      <th>3</th>\n",
       "      <td>Cities portal</td>\n",
       "    </tr>\n",
       "    <tr>\n",
       "      <th>4</th>\n",
       "      <td>vte</td>\n",
       "    </tr>\n",
       "  </tbody>\n",
       "</table>\n",
       "</div>"
      ],
      "text/plain": [
       "                                   Lists of capitals\n",
       "                                        Of countries\n",
       "0  In alphabetical order By latitude By populatio...\n",
       "1                            Of country subdivisions\n",
       "2  Capitals outside the territories they serve Pu...\n",
       "3                                      Cities portal\n",
       "4                                                vte"
      ]
     },
     "metadata": {},
     "output_type": "display_data"
    },
    {
     "data": {
      "text/html": [
       "<div>\n",
       "<style scoped>\n",
       "    .dataframe tbody tr th:only-of-type {\n",
       "        vertical-align: middle;\n",
       "    }\n",
       "\n",
       "    .dataframe tbody tr th {\n",
       "        vertical-align: top;\n",
       "    }\n",
       "\n",
       "    .dataframe thead th {\n",
       "        text-align: right;\n",
       "    }\n",
       "</style>\n",
       "<table border=\"1\" class=\"dataframe\">\n",
       "  <thead>\n",
       "    <tr style=\"text-align: right;\">\n",
       "      <th></th>\n",
       "      <th>Country / dependency</th>\n",
       "      <th>Capital</th>\n",
       "      <th>Population</th>\n",
       "      <th>% of country</th>\n",
       "      <th>Source</th>\n",
       "    </tr>\n",
       "  </thead>\n",
       "  <tbody>\n",
       "    <tr>\n",
       "      <th>0</th>\n",
       "      <td>China *</td>\n",
       "      <td>Beijing</td>\n",
       "      <td>21542000</td>\n",
       "      <td>1.5%</td>\n",
       "      <td>[1] 2018</td>\n",
       "    </tr>\n",
       "    <tr>\n",
       "      <th>1</th>\n",
       "      <td>Japan *</td>\n",
       "      <td>Tokyo</td>\n",
       "      <td>14094034</td>\n",
       "      <td>11.3%</td>\n",
       "      <td>[2] 2023</td>\n",
       "    </tr>\n",
       "    <tr>\n",
       "      <th>2</th>\n",
       "      <td>Russia *</td>\n",
       "      <td>Moscow</td>\n",
       "      <td>13104177</td>\n",
       "      <td>9.0%</td>\n",
       "      <td>[3] 2023</td>\n",
       "    </tr>\n",
       "    <tr>\n",
       "      <th>3</th>\n",
       "      <td>DR Congo *</td>\n",
       "      <td>Kinshasa</td>\n",
       "      <td>12691000</td>\n",
       "      <td>13.2%</td>\n",
       "      <td>[4] 2017</td>\n",
       "    </tr>\n",
       "    <tr>\n",
       "      <th>4</th>\n",
       "      <td>Indonesia *</td>\n",
       "      <td>Jakarta</td>\n",
       "      <td>10562088</td>\n",
       "      <td>3.9%</td>\n",
       "      <td>[5] 2020</td>\n",
       "    </tr>\n",
       "    <tr>\n",
       "      <th>...</th>\n",
       "      <td>...</td>\n",
       "      <td>...</td>\n",
       "      <td>...</td>\n",
       "      <td>...</td>\n",
       "      <td>...</td>\n",
       "    </tr>\n",
       "    <tr>\n",
       "      <th>234</th>\n",
       "      <td>Norfolk Island (Australia)</td>\n",
       "      <td>Kingston</td>\n",
       "      <td>341</td>\n",
       "      <td>NaN</td>\n",
       "      <td>2015</td>\n",
       "    </tr>\n",
       "    <tr>\n",
       "      <th>235</th>\n",
       "      <td>Cocos (Keeling) Islands (Australia)</td>\n",
       "      <td>West Island</td>\n",
       "      <td>134</td>\n",
       "      <td>24.6%</td>\n",
       "      <td>2011</td>\n",
       "    </tr>\n",
       "    <tr>\n",
       "      <th>236</th>\n",
       "      <td>Pitcairn Islands (UK)</td>\n",
       "      <td>Adamstown</td>\n",
       "      <td>40</td>\n",
       "      <td>100.0%</td>\n",
       "      <td>2021</td>\n",
       "    </tr>\n",
       "    <tr>\n",
       "      <th>237</th>\n",
       "      <td>South Georgia and the South Sandwich Islands (UK)</td>\n",
       "      <td>King Edward Point</td>\n",
       "      <td>22</td>\n",
       "      <td>73.3%</td>\n",
       "      <td>2018</td>\n",
       "    </tr>\n",
       "    <tr>\n",
       "      <th>238</th>\n",
       "      <td>Palau</td>\n",
       "      <td>Ngerulmud</td>\n",
       "      <td>0</td>\n",
       "      <td>0.0%</td>\n",
       "      <td>2010</td>\n",
       "    </tr>\n",
       "  </tbody>\n",
       "</table>\n",
       "<p>239 rows × 5 columns</p>\n",
       "</div>"
      ],
      "text/plain": [
       "                                  Country / dependency            Capital  \\\n",
       "0                                              China *            Beijing   \n",
       "1                                              Japan *              Tokyo   \n",
       "2                                             Russia *             Moscow   \n",
       "3                                           DR Congo *           Kinshasa   \n",
       "4                                          Indonesia *            Jakarta   \n",
       "..                                                 ...                ...   \n",
       "234                         Norfolk Island (Australia)           Kingston   \n",
       "235                Cocos (Keeling) Islands (Australia)        West Island   \n",
       "236                              Pitcairn Islands (UK)          Adamstown   \n",
       "237  South Georgia and the South Sandwich Islands (UK)  King Edward Point   \n",
       "238                                              Palau          Ngerulmud   \n",
       "\n",
       "    Population % of country    Source  \n",
       "0     21542000         1.5%  [1] 2018  \n",
       "1     14094034        11.3%  [2] 2023  \n",
       "2     13104177         9.0%  [3] 2023  \n",
       "3     12691000        13.2%  [4] 2017  \n",
       "4     10562088         3.9%  [5] 2020  \n",
       "..         ...          ...       ...  \n",
       "234        341          NaN      2015  \n",
       "235        134        24.6%      2011  \n",
       "236         40       100.0%      2021  \n",
       "237         22        73.3%      2018  \n",
       "238          0         0.0%      2010  \n",
       "\n",
       "[239 rows x 5 columns]"
      ]
     },
     "metadata": {},
     "output_type": "display_data"
    },
    {
     "data": {
      "text/html": [
       "<div>\n",
       "<style scoped>\n",
       "    .dataframe tbody tr th:only-of-type {\n",
       "        vertical-align: middle;\n",
       "    }\n",
       "\n",
       "    .dataframe tbody tr th {\n",
       "        vertical-align: top;\n",
       "    }\n",
       "\n",
       "    .dataframe thead th {\n",
       "        text-align: right;\n",
       "    }\n",
       "</style>\n",
       "<table border=\"1\" class=\"dataframe\">\n",
       "  <thead>\n",
       "    <tr style=\"text-align: right;\">\n",
       "      <th></th>\n",
       "      <th>vteWorld's largest cities</th>\n",
       "      <th>vteWorld's largest cities.1</th>\n",
       "    </tr>\n",
       "  </thead>\n",
       "  <tbody>\n",
       "    <tr>\n",
       "      <th>0</th>\n",
       "      <td>City proper</td>\n",
       "      <td>Capitals Africa Americas North Latin Central S...</td>\n",
       "    </tr>\n",
       "    <tr>\n",
       "      <th>1</th>\n",
       "      <td>Metropolitan area</td>\n",
       "      <td>Americas (North South West Indies) Europe (Eur...</td>\n",
       "    </tr>\n",
       "    <tr>\n",
       "      <th>2</th>\n",
       "      <td>Urban area/agglomeration</td>\n",
       "      <td>Asia Africa Europe European Union Nordic North...</td>\n",
       "    </tr>\n",
       "    <tr>\n",
       "      <th>3</th>\n",
       "      <td>Historical</td>\n",
       "      <td>World Europe</td>\n",
       "    </tr>\n",
       "    <tr>\n",
       "      <th>4</th>\n",
       "      <td>Related articles</td>\n",
       "      <td>Arcology Ecumenopolis Global city Megacity Meg...</td>\n",
       "    </tr>\n",
       "    <tr>\n",
       "      <th>5</th>\n",
       "      <td>Cities portal • World portal</td>\n",
       "      <td>Cities portal • World portal</td>\n",
       "    </tr>\n",
       "  </tbody>\n",
       "</table>\n",
       "</div>"
      ],
      "text/plain": [
       "      vteWorld's largest cities  \\\n",
       "0                   City proper   \n",
       "1             Metropolitan area   \n",
       "2      Urban area/agglomeration   \n",
       "3                    Historical   \n",
       "4              Related articles   \n",
       "5  Cities portal • World portal   \n",
       "\n",
       "                         vteWorld's largest cities.1  \n",
       "0  Capitals Africa Americas North Latin Central S...  \n",
       "1  Americas (North South West Indies) Europe (Eur...  \n",
       "2  Asia Africa Europe European Union Nordic North...  \n",
       "3                                       World Europe  \n",
       "4  Arcology Ecumenopolis Global city Megacity Meg...  \n",
       "5                       Cities portal • World portal  "
      ]
     },
     "metadata": {},
     "output_type": "display_data"
    },
    {
     "data": {
      "text/html": [
       "<div>\n",
       "<style scoped>\n",
       "    .dataframe tbody tr th:only-of-type {\n",
       "        vertical-align: middle;\n",
       "    }\n",
       "\n",
       "    .dataframe tbody tr th {\n",
       "        vertical-align: top;\n",
       "    }\n",
       "\n",
       "    .dataframe thead th {\n",
       "        text-align: right;\n",
       "    }\n",
       "</style>\n",
       "<table border=\"1\" class=\"dataframe\">\n",
       "  <thead>\n",
       "    <tr style=\"text-align: right;\">\n",
       "      <th></th>\n",
       "      <th>vteLists of countries by population statistics</th>\n",
       "      <th>vteLists of countries by population statistics.1</th>\n",
       "    </tr>\n",
       "  </thead>\n",
       "  <tbody>\n",
       "    <tr>\n",
       "      <th>0</th>\n",
       "      <td>Global</td>\n",
       "      <td>Current population United Nations Demographics...</td>\n",
       "    </tr>\n",
       "    <tr>\n",
       "      <th>1</th>\n",
       "      <td>Continents/subregions</td>\n",
       "      <td>Africa Antarctica Asia Europe North America Ca...</td>\n",
       "    </tr>\n",
       "    <tr>\n",
       "      <th>2</th>\n",
       "      <td>Intercontinental</td>\n",
       "      <td>Americas Arab world Commonwealth of Nations Eu...</td>\n",
       "    </tr>\n",
       "    <tr>\n",
       "      <th>3</th>\n",
       "      <td>Cities/urban areas</td>\n",
       "      <td>World cities National capitals Megacities Mega...</td>\n",
       "    </tr>\n",
       "    <tr>\n",
       "      <th>4</th>\n",
       "      <td>Past and future</td>\n",
       "      <td>Past and future population World population es...</td>\n",
       "    </tr>\n",
       "    <tr>\n",
       "      <th>5</th>\n",
       "      <td>Population density</td>\n",
       "      <td>Current density Past and future population den...</td>\n",
       "    </tr>\n",
       "    <tr>\n",
       "      <th>6</th>\n",
       "      <td>Growth indicators</td>\n",
       "      <td>Population growth rate Natural increase Net re...</td>\n",
       "    </tr>\n",
       "    <tr>\n",
       "      <th>7</th>\n",
       "      <td>Life expectancy</td>\n",
       "      <td>world Africa Asia Europe North America Oceania...</td>\n",
       "    </tr>\n",
       "    <tr>\n",
       "      <th>8</th>\n",
       "      <td>Other demographics</td>\n",
       "      <td>Age at childbearing Age at first marriage Age ...</td>\n",
       "    </tr>\n",
       "    <tr>\n",
       "      <th>9</th>\n",
       "      <td>Health</td>\n",
       "      <td>Antidepressant consumption Antiviral medicatio...</td>\n",
       "    </tr>\n",
       "    <tr>\n",
       "      <th>10</th>\n",
       "      <td>Education and innovation</td>\n",
       "      <td>Bloomberg Innovation Index Education Index Int...</td>\n",
       "    </tr>\n",
       "    <tr>\n",
       "      <th>11</th>\n",
       "      <td>Economic</td>\n",
       "      <td>Access to financial services Development aid d...</td>\n",
       "    </tr>\n",
       "    <tr>\n",
       "      <th>12</th>\n",
       "      <td>List of international rankings Lists by country</td>\n",
       "      <td>List of international rankings Lists by country</td>\n",
       "    </tr>\n",
       "  </tbody>\n",
       "</table>\n",
       "</div>"
      ],
      "text/plain": [
       "     vteLists of countries by population statistics  \\\n",
       "0                                            Global   \n",
       "1                             Continents/subregions   \n",
       "2                                  Intercontinental   \n",
       "3                                Cities/urban areas   \n",
       "4                                   Past and future   \n",
       "5                                Population density   \n",
       "6                                 Growth indicators   \n",
       "7                                   Life expectancy   \n",
       "8                                Other demographics   \n",
       "9                                            Health   \n",
       "10                         Education and innovation   \n",
       "11                                         Economic   \n",
       "12  List of international rankings Lists by country   \n",
       "\n",
       "     vteLists of countries by population statistics.1  \n",
       "0   Current population United Nations Demographics...  \n",
       "1   Africa Antarctica Asia Europe North America Ca...  \n",
       "2   Americas Arab world Commonwealth of Nations Eu...  \n",
       "3   World cities National capitals Megacities Mega...  \n",
       "4   Past and future population World population es...  \n",
       "5   Current density Past and future population den...  \n",
       "6   Population growth rate Natural increase Net re...  \n",
       "7   world Africa Asia Europe North America Oceania...  \n",
       "8   Age at childbearing Age at first marriage Age ...  \n",
       "9   Antidepressant consumption Antiviral medicatio...  \n",
       "10  Bloomberg Innovation Index Education Index Int...  \n",
       "11  Access to financial services Development aid d...  \n",
       "12    List of international rankings Lists by country  "
      ]
     },
     "metadata": {},
     "output_type": "display_data"
    }
   ],
   "source": [
    "base_url = \"https://en.wikipedia.org/wiki/List_of_national_capitals_by_population\"\n",
    "\n",
    "\n",
    "# the below doesn't use our good selector\n",
    "for table in pd.read_html(base_url):\n",
    "    display(table)\n"
   ]
  },
  {
   "cell_type": "markdown",
   "metadata": {},
   "source": [
    "You should see something like:\n",
    "\n",
    "<div style=\"width:40%;font-size:0.75em\">\n",
    "\n",
    "```output\n",
    "[                                  Country / dependency            Capital  \\\n",
    " 0                                              China *            Beijing   \n",
    " 1                                              Japan *              Tokyo   \n",
    " 2                                             Russia *             Moscow   \n",
    " 3                                           DR Congo *           Kinshasa   \n",
    " 4                                          Indonesia *            Jakarta   \n",
    " ..                                                 ...                ...   \n",
    " 234                         Norfolk Island (Australia)           Kingston   \n",
    " 235                Cocos (Keeling) Islands (Australia)        West Island   \n",
    " 236                              Pitcairn Islands (UK)          Adamstown   \n",
    " 237  South Georgia and the South Sandwich Islands (UK)  King Edward Point   \n",
    " 238                                              Palau          Ngerulmud   \n",
    " \n",
    "     Population % of country    Source  \n",
    " 0     21542000         1.5%  [1] 2018  \n",
    " 1     14094034        11.3%  [2] 2023  \n",
    " 2     13104177         9.0%  [3] 2023  \n",
    " 3     12691000        13.2%  [4] 2017  \n",
    " 4     10562088         3.9%  [5] 2020  \n",
    " ..         ...          ...       ...  \n",
    " 234        341          NaN      2015  \n",
    " 235        134        24.6%      2011  \n",
    " 236         40       100.0%      2021  \n",
    " 237         22        73.3%      2018  \n",
    " 238          0         0.0%      2010  \n",
    " \n",
    " [239 rows x 5 columns]]\n",
    "```\n",
    "\n",
    "</div>"
   ]
  },
  {
   "cell_type": "markdown",
   "metadata": {},
   "source": [
    "2. How do you extract the data frame from the output above?"
   ]
  },
  {
   "cell_type": "code",
   "execution_count": 22,
   "metadata": {},
   "outputs": [
    {
     "data": {
      "text/html": [
       "<div>\n",
       "<style scoped>\n",
       "    .dataframe tbody tr th:only-of-type {\n",
       "        vertical-align: middle;\n",
       "    }\n",
       "\n",
       "    .dataframe tbody tr th {\n",
       "        vertical-align: top;\n",
       "    }\n",
       "\n",
       "    .dataframe thead th {\n",
       "        text-align: right;\n",
       "    }\n",
       "</style>\n",
       "<table border=\"1\" class=\"dataframe\">\n",
       "  <thead>\n",
       "    <tr style=\"text-align: right;\">\n",
       "      <th></th>\n",
       "      <th>Country / dependency</th>\n",
       "      <th>Capital</th>\n",
       "      <th>Population</th>\n",
       "      <th>% of country</th>\n",
       "      <th>Source</th>\n",
       "    </tr>\n",
       "  </thead>\n",
       "  <tbody>\n",
       "    <tr>\n",
       "      <th>0</th>\n",
       "      <td>China *</td>\n",
       "      <td>Beijing</td>\n",
       "      <td>21542000</td>\n",
       "      <td>1.5%</td>\n",
       "      <td>[1] 2018</td>\n",
       "    </tr>\n",
       "    <tr>\n",
       "      <th>1</th>\n",
       "      <td>Japan *</td>\n",
       "      <td>Tokyo</td>\n",
       "      <td>14094034</td>\n",
       "      <td>11.3%</td>\n",
       "      <td>[2] 2023</td>\n",
       "    </tr>\n",
       "    <tr>\n",
       "      <th>2</th>\n",
       "      <td>Russia *</td>\n",
       "      <td>Moscow</td>\n",
       "      <td>13104177</td>\n",
       "      <td>9.0%</td>\n",
       "      <td>[3] 2023</td>\n",
       "    </tr>\n",
       "    <tr>\n",
       "      <th>3</th>\n",
       "      <td>DR Congo *</td>\n",
       "      <td>Kinshasa</td>\n",
       "      <td>12691000</td>\n",
       "      <td>13.2%</td>\n",
       "      <td>[4] 2017</td>\n",
       "    </tr>\n",
       "    <tr>\n",
       "      <th>4</th>\n",
       "      <td>Indonesia *</td>\n",
       "      <td>Jakarta</td>\n",
       "      <td>10562088</td>\n",
       "      <td>3.9%</td>\n",
       "      <td>[5] 2020</td>\n",
       "    </tr>\n",
       "    <tr>\n",
       "      <th>...</th>\n",
       "      <td>...</td>\n",
       "      <td>...</td>\n",
       "      <td>...</td>\n",
       "      <td>...</td>\n",
       "      <td>...</td>\n",
       "    </tr>\n",
       "    <tr>\n",
       "      <th>234</th>\n",
       "      <td>Norfolk Island (Australia)</td>\n",
       "      <td>Kingston</td>\n",
       "      <td>341</td>\n",
       "      <td>NaN</td>\n",
       "      <td>2015</td>\n",
       "    </tr>\n",
       "    <tr>\n",
       "      <th>235</th>\n",
       "      <td>Cocos (Keeling) Islands (Australia)</td>\n",
       "      <td>West Island</td>\n",
       "      <td>134</td>\n",
       "      <td>24.6%</td>\n",
       "      <td>2011</td>\n",
       "    </tr>\n",
       "    <tr>\n",
       "      <th>236</th>\n",
       "      <td>Pitcairn Islands (UK)</td>\n",
       "      <td>Adamstown</td>\n",
       "      <td>40</td>\n",
       "      <td>100.0%</td>\n",
       "      <td>2021</td>\n",
       "    </tr>\n",
       "    <tr>\n",
       "      <th>237</th>\n",
       "      <td>South Georgia and the South Sandwich Islands (UK)</td>\n",
       "      <td>King Edward Point</td>\n",
       "      <td>22</td>\n",
       "      <td>73.3%</td>\n",
       "      <td>2018</td>\n",
       "    </tr>\n",
       "    <tr>\n",
       "      <th>238</th>\n",
       "      <td>Palau</td>\n",
       "      <td>Ngerulmud</td>\n",
       "      <td>0</td>\n",
       "      <td>0.0%</td>\n",
       "      <td>2010</td>\n",
       "    </tr>\n",
       "  </tbody>\n",
       "</table>\n",
       "<p>239 rows × 5 columns</p>\n",
       "</div>"
      ],
      "text/plain": [
       "                                  Country / dependency            Capital  \\\n",
       "0                                              China *            Beijing   \n",
       "1                                              Japan *              Tokyo   \n",
       "2                                             Russia *             Moscow   \n",
       "3                                           DR Congo *           Kinshasa   \n",
       "4                                          Indonesia *            Jakarta   \n",
       "..                                                 ...                ...   \n",
       "234                         Norfolk Island (Australia)           Kingston   \n",
       "235                Cocos (Keeling) Islands (Australia)        West Island   \n",
       "236                              Pitcairn Islands (UK)          Adamstown   \n",
       "237  South Georgia and the South Sandwich Islands (UK)  King Edward Point   \n",
       "238                                              Palau          Ngerulmud   \n",
       "\n",
       "    Population % of country    Source  \n",
       "0     21542000         1.5%  [1] 2018  \n",
       "1     14094034        11.3%  [2] 2023  \n",
       "2     13104177         9.0%  [3] 2023  \n",
       "3     12691000        13.2%  [4] 2017  \n",
       "4     10562088         3.9%  [5] 2020  \n",
       "..         ...          ...       ...  \n",
       "234        341          NaN      2015  \n",
       "235        134        24.6%      2011  \n",
       "236         40       100.0%      2021  \n",
       "237         22        73.3%      2018  \n",
       "238          0         0.0%      2010  \n",
       "\n",
       "[239 rows x 5 columns]"
      ]
     },
     "execution_count": 22,
     "metadata": {},
     "output_type": "execute_result"
    }
   ],
   "source": [
    "df"
   ]
  },
  {
   "cell_type": "markdown",
   "metadata": {},
   "source": [
    "## Task 2: Learning to read warnings + official documentation\n",
    "\n",
    "\n",
    "If you have pandas 2.1.0 or above installed, you probably saw the following warning when you ran the code above:\n",
    "\n",
    "<div style=\"width:50%;font-size:0.9em;\">\n",
    " \n",
    "```output\n",
    "FutureWarning: Passing literal html to 'read_html' is deprecated and will be removed in a future version. To read from a literal string, wrap it in a 'StringIO' object.\n",
    "  pd.read_html(table)\n",
    "```\n",
    "\n",
    "</div>\n",
    "\n",
    "\n",
    "🎯 **ACTION POINTS:**\n",
    "\n",
    "\n",
    "\n",
    "1. What is [StringIO](https://docs.python.org/3/library/io.html#io.StringIO) ? Answer in your own words using Markdown bullet points.\n"
   ]
  },
  {
   "cell_type": "markdown",
   "metadata": {},
   "source": [
    "It is a method from the io library that enables us to overcome the above error. It provides a text stream with an in-text buffer."
   ]
  },
  {
   "cell_type": "markdown",
   "metadata": {},
   "source": [
    "\\# Delete this line and write your answer here\n",
    "\n"
   ]
  },
  {
   "cell_type": "markdown",
   "metadata": {},
   "source": [
    "2. Rewrite the code above such that it no longer throws a warning. (You might need to do a bit of research on your own)"
   ]
  },
  {
   "cell_type": "markdown",
   "metadata": {},
   "source": [
    "#One way of doing it\n",
    "```python\n",
    "import warnings\n",
    "\n",
    "warnings.simplefilter(action = 'ignore', category = FutureWarning)\n",
    "df = pd.read_html(table)[0]\n",
    "```"
   ]
  },
  {
   "cell_type": "code",
   "execution_count": 26,
   "metadata": {},
   "outputs": [
    {
     "data": {
      "text/html": [
       "<div>\n",
       "<style scoped>\n",
       "    .dataframe tbody tr th:only-of-type {\n",
       "        vertical-align: middle;\n",
       "    }\n",
       "\n",
       "    .dataframe tbody tr th {\n",
       "        vertical-align: top;\n",
       "    }\n",
       "\n",
       "    .dataframe thead th {\n",
       "        text-align: right;\n",
       "    }\n",
       "</style>\n",
       "<table border=\"1\" class=\"dataframe\">\n",
       "  <thead>\n",
       "    <tr style=\"text-align: right;\">\n",
       "      <th></th>\n",
       "      <th>vteLists of countries by population statistics</th>\n",
       "      <th>vteLists of countries by population statistics.1</th>\n",
       "    </tr>\n",
       "  </thead>\n",
       "  <tbody>\n",
       "    <tr>\n",
       "      <th>0</th>\n",
       "      <td>Global</td>\n",
       "      <td>Current population United Nations Demographics...</td>\n",
       "    </tr>\n",
       "    <tr>\n",
       "      <th>1</th>\n",
       "      <td>Continents/subregions</td>\n",
       "      <td>Africa Antarctica Asia Europe North America Ca...</td>\n",
       "    </tr>\n",
       "    <tr>\n",
       "      <th>2</th>\n",
       "      <td>Intercontinental</td>\n",
       "      <td>Americas Arab world Commonwealth of Nations Eu...</td>\n",
       "    </tr>\n",
       "    <tr>\n",
       "      <th>3</th>\n",
       "      <td>Cities/urban areas</td>\n",
       "      <td>World cities National capitals Megacities Mega...</td>\n",
       "    </tr>\n",
       "    <tr>\n",
       "      <th>4</th>\n",
       "      <td>Past and future</td>\n",
       "      <td>Past and future population World population es...</td>\n",
       "    </tr>\n",
       "    <tr>\n",
       "      <th>5</th>\n",
       "      <td>Population density</td>\n",
       "      <td>Current density Past and future population den...</td>\n",
       "    </tr>\n",
       "    <tr>\n",
       "      <th>6</th>\n",
       "      <td>Growth indicators</td>\n",
       "      <td>Population growth rate Natural increase Net re...</td>\n",
       "    </tr>\n",
       "    <tr>\n",
       "      <th>7</th>\n",
       "      <td>Life expectancy</td>\n",
       "      <td>world Africa Asia Europe North America Oceania...</td>\n",
       "    </tr>\n",
       "    <tr>\n",
       "      <th>8</th>\n",
       "      <td>Other demographics</td>\n",
       "      <td>Age at childbearing Age at first marriage Age ...</td>\n",
       "    </tr>\n",
       "    <tr>\n",
       "      <th>9</th>\n",
       "      <td>Health</td>\n",
       "      <td>Antidepressant consumption Antiviral medicatio...</td>\n",
       "    </tr>\n",
       "    <tr>\n",
       "      <th>10</th>\n",
       "      <td>Education and innovation</td>\n",
       "      <td>Bloomberg Innovation Index Education Index Int...</td>\n",
       "    </tr>\n",
       "    <tr>\n",
       "      <th>11</th>\n",
       "      <td>Economic</td>\n",
       "      <td>Access to financial services Development aid d...</td>\n",
       "    </tr>\n",
       "    <tr>\n",
       "      <th>12</th>\n",
       "      <td>List of international rankings Lists by country</td>\n",
       "      <td>List of international rankings Lists by country</td>\n",
       "    </tr>\n",
       "  </tbody>\n",
       "</table>\n",
       "</div>"
      ],
      "text/plain": [
       "     vteLists of countries by population statistics  \\\n",
       "0                                            Global   \n",
       "1                             Continents/subregions   \n",
       "2                                  Intercontinental   \n",
       "3                                Cities/urban areas   \n",
       "4                                   Past and future   \n",
       "5                                Population density   \n",
       "6                                 Growth indicators   \n",
       "7                                   Life expectancy   \n",
       "8                                Other demographics   \n",
       "9                                            Health   \n",
       "10                         Education and innovation   \n",
       "11                                         Economic   \n",
       "12  List of international rankings Lists by country   \n",
       "\n",
       "     vteLists of countries by population statistics.1  \n",
       "0   Current population United Nations Demographics...  \n",
       "1   Africa Antarctica Asia Europe North America Ca...  \n",
       "2   Americas Arab world Commonwealth of Nations Eu...  \n",
       "3   World cities National capitals Megacities Mega...  \n",
       "4   Past and future population World population es...  \n",
       "5   Current density Past and future population den...  \n",
       "6   Population growth rate Natural increase Net re...  \n",
       "7   world Africa Asia Europe North America Oceania...  \n",
       "8   Age at childbearing Age at first marriage Age ...  \n",
       "9   Antidepressant consumption Antiviral medicatio...  \n",
       "10  Bloomberg Innovation Index Education Index Int...  \n",
       "11  Access to financial services Development aid d...  \n",
       "12    List of international rankings Lists by country  "
      ]
     },
     "execution_count": 26,
     "metadata": {},
     "output_type": "execute_result"
    }
   ],
   "source": [
    "table"
   ]
  },
  {
   "cell_type": "code",
   "execution_count": 28,
   "metadata": {},
   "outputs": [],
   "source": [
    "df = pd.read_html(StringIO(table))[0]"
   ]
  },
  {
   "cell_type": "markdown",
   "metadata": {},
   "source": [
    "\\# Delete this line and write your answer here"
   ]
  },
  {
   "cell_type": "markdown",
   "metadata": {},
   "source": [
    "4. 💭 **REFLECTION TIME:** Summarise your troubleshooting process below. Use Markdown bullet points to write your answer.\n",
    "\n",
    "   - **Finding the source of the problem:** how did you discover what was \"wrong\" with the code? For example, did you Google the warning message? Did you prompt a chatbot? Did you read the official documentation?\n",
    "\n",
    "   - **How did you assess the accuracy of your answer?** Or, in other words, how did you know that your solution was correct?\n",
    "\n",
    "   - **Why does your solution work?** In other words, explain why `pd.read_html` no longer like strings."
   ]
  },
  {
   "cell_type": "markdown",
   "metadata": {},
   "source": [
    "\\# Delete this line and write your answers here"
   ]
  },
  {
   "cell_type": "markdown",
   "metadata": {},
   "source": [
    "5. Let's rename columns to mirror the type of names that are most commonly used in Python:\n",
    "    \n",
    "    - `Country / dependency` -> `country_dependency` (lower case, underscore instead of space)\n",
    "\n",
    "    - `Capital` -> `capital`\n",
    "\n",
    "    - `Population` -> `population`\n",
    "\n",
    "    - `% of country` -> `country_percentage`\n",
    "    \n",
    "    - `Source` -> `source`"
   ]
  },
  {
   "cell_type": "code",
   "execution_count": 29,
   "metadata": {},
   "outputs": [
    {
     "data": {
      "text/plain": [
       "Index(['country_dependency', 'capital', 'population', 'country_percentage',\n",
       "       'source'],\n",
       "      dtype='object')"
      ]
     },
     "execution_count": 29,
     "metadata": {},
     "output_type": "execute_result"
    }
   ],
   "source": [
    "# If you already know precisely the order of the columns, you can rename them directly:\n",
    "df.columns = ['country_dependency', 'capital', 'population', 'country_percentage', 'source']\n",
    "#th above gives us access to the columns attribute of the dataframe object\n",
    "#UpperCamelCase for class names if using Spyder\n",
    "df.columns"
   ]
  },
  {
   "cell_type": "markdown",
   "metadata": {},
   "source": [
    "::: {style=\"font-size:0.9em;width:80%;margin-left:2em;\"}\n",
    "\n",
    "The other way, which is more robust in the long term, is using the rename method. Read about it in the documentation [here](https://pandas.pydata.org/pandas-docs/stable/reference/api/pandas.DataFrame.rename.html).\n",
    "\n",
    "You would have to write something like:\n",
    "\n",
    "```python\n",
    "df.rename(columns={'Country / dependency': 'country_dependency', \n",
    "                   'Capital': 'capital', \n",
    "                   'Population': 'population', \n",
    "                   '% of country': 'country_percentage', \n",
    "                   'Source': 'source'}, \n",
    "          inplace=True) # If you don't use inplace=True, you will have to assign the result to df\n",
    "```\n",
    "\n",
    ":::"
   ]
  },
  {
   "cell_type": "markdown",
   "metadata": {},
   "source": [
    "## 👨🏻‍🏫 TEACHING MOMENT\n",
    "\n",
    "Your teacher will mediate a classroom discussion of your responses to the tasks above. Then, they will show a solution to the problem and explain its reasoning.\n"
   ]
  },
  {
   "cell_type": "markdown",
   "metadata": {},
   "source": [
    "---\n",
    "\n",
    "# Part II: Is data cleaning a political act? (40 min)\n",
    "\n",
    "In the past, we showed you that you can convert an entire column of a DataFrame to a different data type. For example, the `population` column of our data frame is currently a string, but to calculate the average population of capitals, we would have to convert it to an integer first. \n",
    "\n",
    "However, if you try to convert the `population` column to an integer using the `astype()` method:\n",
    "\n",
    "```python\n",
    "df['population'].astype(np.int32)\n",
    "```\n",
    "\n",
    "We get a `ValueError` because the column contains non-numeric characters."
   ]
  },
  {
   "cell_type": "code",
   "execution_count": 30,
   "metadata": {},
   "outputs": [
    {
     "ename": "ValueError",
     "evalue": "invalid literal for int() with base 10: '217,732 3,000'",
     "output_type": "error",
     "traceback": [
      "\u001b[1;31m---------------------------------------------------------------------------\u001b[0m",
      "\u001b[1;31mValueError\u001b[0m                                Traceback (most recent call last)",
      "Cell \u001b[1;32mIn[30], line 1\u001b[0m\n\u001b[1;32m----> 1\u001b[0m df\u001b[38;5;241m.\u001b[39mpopulation\u001b[38;5;241m.\u001b[39mastype(np\u001b[38;5;241m.\u001b[39mint32)\n",
      "File \u001b[1;32mc:\\Users\\danie\\anaconda3\\Lib\\site-packages\\pandas\\core\\generic.py:6640\u001b[0m, in \u001b[0;36mNDFrame.astype\u001b[1;34m(self, dtype, copy, errors)\u001b[0m\n\u001b[0;32m   6634\u001b[0m     results \u001b[38;5;241m=\u001b[39m [\n\u001b[0;32m   6635\u001b[0m         ser\u001b[38;5;241m.\u001b[39mastype(dtype, copy\u001b[38;5;241m=\u001b[39mcopy, errors\u001b[38;5;241m=\u001b[39merrors) \u001b[38;5;28;01mfor\u001b[39;00m _, ser \u001b[38;5;129;01min\u001b[39;00m \u001b[38;5;28mself\u001b[39m\u001b[38;5;241m.\u001b[39mitems()\n\u001b[0;32m   6636\u001b[0m     ]\n\u001b[0;32m   6638\u001b[0m \u001b[38;5;28;01melse\u001b[39;00m:\n\u001b[0;32m   6639\u001b[0m     \u001b[38;5;66;03m# else, only a single dtype is given\u001b[39;00m\n\u001b[1;32m-> 6640\u001b[0m     new_data \u001b[38;5;241m=\u001b[39m \u001b[38;5;28mself\u001b[39m\u001b[38;5;241m.\u001b[39m_mgr\u001b[38;5;241m.\u001b[39mastype(dtype\u001b[38;5;241m=\u001b[39mdtype, copy\u001b[38;5;241m=\u001b[39mcopy, errors\u001b[38;5;241m=\u001b[39merrors)\n\u001b[0;32m   6641\u001b[0m     res \u001b[38;5;241m=\u001b[39m \u001b[38;5;28mself\u001b[39m\u001b[38;5;241m.\u001b[39m_constructor_from_mgr(new_data, axes\u001b[38;5;241m=\u001b[39mnew_data\u001b[38;5;241m.\u001b[39maxes)\n\u001b[0;32m   6642\u001b[0m     \u001b[38;5;28;01mreturn\u001b[39;00m res\u001b[38;5;241m.\u001b[39m__finalize__(\u001b[38;5;28mself\u001b[39m, method\u001b[38;5;241m=\u001b[39m\u001b[38;5;124m\"\u001b[39m\u001b[38;5;124mastype\u001b[39m\u001b[38;5;124m\"\u001b[39m)\n",
      "File \u001b[1;32mc:\\Users\\danie\\anaconda3\\Lib\\site-packages\\pandas\\core\\internals\\managers.py:430\u001b[0m, in \u001b[0;36mBaseBlockManager.astype\u001b[1;34m(self, dtype, copy, errors)\u001b[0m\n\u001b[0;32m    427\u001b[0m \u001b[38;5;28;01melif\u001b[39;00m using_copy_on_write():\n\u001b[0;32m    428\u001b[0m     copy \u001b[38;5;241m=\u001b[39m \u001b[38;5;28;01mFalse\u001b[39;00m\n\u001b[1;32m--> 430\u001b[0m \u001b[38;5;28;01mreturn\u001b[39;00m \u001b[38;5;28mself\u001b[39m\u001b[38;5;241m.\u001b[39mapply(\n\u001b[0;32m    431\u001b[0m     \u001b[38;5;124m\"\u001b[39m\u001b[38;5;124mastype\u001b[39m\u001b[38;5;124m\"\u001b[39m,\n\u001b[0;32m    432\u001b[0m     dtype\u001b[38;5;241m=\u001b[39mdtype,\n\u001b[0;32m    433\u001b[0m     copy\u001b[38;5;241m=\u001b[39mcopy,\n\u001b[0;32m    434\u001b[0m     errors\u001b[38;5;241m=\u001b[39merrors,\n\u001b[0;32m    435\u001b[0m     using_cow\u001b[38;5;241m=\u001b[39musing_copy_on_write(),\n\u001b[0;32m    436\u001b[0m )\n",
      "File \u001b[1;32mc:\\Users\\danie\\anaconda3\\Lib\\site-packages\\pandas\\core\\internals\\managers.py:363\u001b[0m, in \u001b[0;36mBaseBlockManager.apply\u001b[1;34m(self, f, align_keys, **kwargs)\u001b[0m\n\u001b[0;32m    361\u001b[0m         applied \u001b[38;5;241m=\u001b[39m b\u001b[38;5;241m.\u001b[39mapply(f, \u001b[38;5;241m*\u001b[39m\u001b[38;5;241m*\u001b[39mkwargs)\n\u001b[0;32m    362\u001b[0m     \u001b[38;5;28;01melse\u001b[39;00m:\n\u001b[1;32m--> 363\u001b[0m         applied \u001b[38;5;241m=\u001b[39m \u001b[38;5;28mgetattr\u001b[39m(b, f)(\u001b[38;5;241m*\u001b[39m\u001b[38;5;241m*\u001b[39mkwargs)\n\u001b[0;32m    364\u001b[0m     result_blocks \u001b[38;5;241m=\u001b[39m extend_blocks(applied, result_blocks)\n\u001b[0;32m    366\u001b[0m out \u001b[38;5;241m=\u001b[39m \u001b[38;5;28mtype\u001b[39m(\u001b[38;5;28mself\u001b[39m)\u001b[38;5;241m.\u001b[39mfrom_blocks(result_blocks, \u001b[38;5;28mself\u001b[39m\u001b[38;5;241m.\u001b[39maxes)\n",
      "File \u001b[1;32mc:\\Users\\danie\\anaconda3\\Lib\\site-packages\\pandas\\core\\internals\\blocks.py:758\u001b[0m, in \u001b[0;36mBlock.astype\u001b[1;34m(self, dtype, copy, errors, using_cow, squeeze)\u001b[0m\n\u001b[0;32m    755\u001b[0m         \u001b[38;5;28;01mraise\u001b[39;00m \u001b[38;5;167;01mValueError\u001b[39;00m(\u001b[38;5;124m\"\u001b[39m\u001b[38;5;124mCan not squeeze with more than one column.\u001b[39m\u001b[38;5;124m\"\u001b[39m)\n\u001b[0;32m    756\u001b[0m     values \u001b[38;5;241m=\u001b[39m values[\u001b[38;5;241m0\u001b[39m, :]  \u001b[38;5;66;03m# type: ignore[call-overload]\u001b[39;00m\n\u001b[1;32m--> 758\u001b[0m new_values \u001b[38;5;241m=\u001b[39m astype_array_safe(values, dtype, copy\u001b[38;5;241m=\u001b[39mcopy, errors\u001b[38;5;241m=\u001b[39merrors)\n\u001b[0;32m    760\u001b[0m new_values \u001b[38;5;241m=\u001b[39m maybe_coerce_values(new_values)\n\u001b[0;32m    762\u001b[0m refs \u001b[38;5;241m=\u001b[39m \u001b[38;5;28;01mNone\u001b[39;00m\n",
      "File \u001b[1;32mc:\\Users\\danie\\anaconda3\\Lib\\site-packages\\pandas\\core\\dtypes\\astype.py:237\u001b[0m, in \u001b[0;36mastype_array_safe\u001b[1;34m(values, dtype, copy, errors)\u001b[0m\n\u001b[0;32m    234\u001b[0m     dtype \u001b[38;5;241m=\u001b[39m dtype\u001b[38;5;241m.\u001b[39mnumpy_dtype\n\u001b[0;32m    236\u001b[0m \u001b[38;5;28;01mtry\u001b[39;00m:\n\u001b[1;32m--> 237\u001b[0m     new_values \u001b[38;5;241m=\u001b[39m astype_array(values, dtype, copy\u001b[38;5;241m=\u001b[39mcopy)\n\u001b[0;32m    238\u001b[0m \u001b[38;5;28;01mexcept\u001b[39;00m (\u001b[38;5;167;01mValueError\u001b[39;00m, \u001b[38;5;167;01mTypeError\u001b[39;00m):\n\u001b[0;32m    239\u001b[0m     \u001b[38;5;66;03m# e.g. _astype_nansafe can fail on object-dtype of strings\u001b[39;00m\n\u001b[0;32m    240\u001b[0m     \u001b[38;5;66;03m#  trying to convert to float\u001b[39;00m\n\u001b[0;32m    241\u001b[0m     \u001b[38;5;28;01mif\u001b[39;00m errors \u001b[38;5;241m==\u001b[39m \u001b[38;5;124m\"\u001b[39m\u001b[38;5;124mignore\u001b[39m\u001b[38;5;124m\"\u001b[39m:\n",
      "File \u001b[1;32mc:\\Users\\danie\\anaconda3\\Lib\\site-packages\\pandas\\core\\dtypes\\astype.py:182\u001b[0m, in \u001b[0;36mastype_array\u001b[1;34m(values, dtype, copy)\u001b[0m\n\u001b[0;32m    179\u001b[0m     values \u001b[38;5;241m=\u001b[39m values\u001b[38;5;241m.\u001b[39mastype(dtype, copy\u001b[38;5;241m=\u001b[39mcopy)\n\u001b[0;32m    181\u001b[0m \u001b[38;5;28;01melse\u001b[39;00m:\n\u001b[1;32m--> 182\u001b[0m     values \u001b[38;5;241m=\u001b[39m _astype_nansafe(values, dtype, copy\u001b[38;5;241m=\u001b[39mcopy)\n\u001b[0;32m    184\u001b[0m \u001b[38;5;66;03m# in pandas we don't store numpy str dtypes, so convert to object\u001b[39;00m\n\u001b[0;32m    185\u001b[0m \u001b[38;5;28;01mif\u001b[39;00m \u001b[38;5;28misinstance\u001b[39m(dtype, np\u001b[38;5;241m.\u001b[39mdtype) \u001b[38;5;129;01mand\u001b[39;00m \u001b[38;5;28missubclass\u001b[39m(values\u001b[38;5;241m.\u001b[39mdtype\u001b[38;5;241m.\u001b[39mtype, \u001b[38;5;28mstr\u001b[39m):\n",
      "File \u001b[1;32mc:\\Users\\danie\\anaconda3\\Lib\\site-packages\\pandas\\core\\dtypes\\astype.py:133\u001b[0m, in \u001b[0;36m_astype_nansafe\u001b[1;34m(arr, dtype, copy, skipna)\u001b[0m\n\u001b[0;32m    129\u001b[0m     \u001b[38;5;28;01mraise\u001b[39;00m \u001b[38;5;167;01mValueError\u001b[39;00m(msg)\n\u001b[0;32m    131\u001b[0m \u001b[38;5;28;01mif\u001b[39;00m copy \u001b[38;5;129;01mor\u001b[39;00m arr\u001b[38;5;241m.\u001b[39mdtype \u001b[38;5;241m==\u001b[39m \u001b[38;5;28mobject\u001b[39m \u001b[38;5;129;01mor\u001b[39;00m dtype \u001b[38;5;241m==\u001b[39m \u001b[38;5;28mobject\u001b[39m:\n\u001b[0;32m    132\u001b[0m     \u001b[38;5;66;03m# Explicit copy, or required since NumPy can't view from / to object.\u001b[39;00m\n\u001b[1;32m--> 133\u001b[0m     \u001b[38;5;28;01mreturn\u001b[39;00m arr\u001b[38;5;241m.\u001b[39mastype(dtype, copy\u001b[38;5;241m=\u001b[39m\u001b[38;5;28;01mTrue\u001b[39;00m)\n\u001b[0;32m    135\u001b[0m \u001b[38;5;28;01mreturn\u001b[39;00m arr\u001b[38;5;241m.\u001b[39mastype(dtype, copy\u001b[38;5;241m=\u001b[39mcopy)\n",
      "\u001b[1;31mValueError\u001b[0m: invalid literal for int() with base 10: '217,732 3,000'"
     ]
    }
   ],
   "source": [
    "df.population.astype(np.int32)"
   ]
  },
  {
   "cell_type": "code",
   "execution_count": 31,
   "metadata": {},
   "outputs": [
    {
     "name": "stdout",
     "output_type": "stream",
     "text": [
      "123123.123\n"
     ]
    },
    {
     "data": {
      "text/plain": [
       "123123"
      ]
     },
     "execution_count": 31,
     "metadata": {},
     "output_type": "execute_result"
    }
   ],
   "source": [
    "#no problem with parsing '_', but decimals are ignored with the int method\n",
    "print(float(123_123.123))\n",
    "int(123_123.123)"
   ]
  },
  {
   "cell_type": "markdown",
   "metadata": {},
   "source": [
    "Different methods of identifying the problem:\n",
    "```python\n",
    "str.is_numeric()\n",
    "str.is_alnum()\n",
    "str.is_alpha()\n",
    "str.isdigit()\n",
    "try:\n",
    "    ____\n",
    "except:\n",
    "    _____\n",
    "```\n"
   ]
  },
  {
   "cell_type": "markdown",
   "metadata": {},
   "source": [
    "👥 **WORK ON THESE IN PAIRS:**\n",
    "\n",
    "Let's start by practising some troubleshooting skills:\n",
    "\n",
    "1. **Identify the problem**: The error message tells you that the conversion from string to integer failed for a particular population value. What is the value that caused the error?"
   ]
  },
  {
   "cell_type": "markdown",
   "metadata": {},
   "source": [
    "The two capital cities in the SADR and in one other country. We got:\n",
    "\n",
    "ValueError: invalid literal for int() with base 10: '217,732 3,000'\n"
   ]
  },
  {
   "cell_type": "markdown",
   "metadata": {},
   "source": [
    "2. **Was that the only one?** How would you write code to detect **all** the non-numeric values in the `Population` column? Don't worry about fixing the data frame yet, just write the code to detect the non-numeric values.\n",
    "\n",
    "<details style=\"font-size:0.9em;width:40%;margin-left:2em;\"><summary>Click here to read a few Python tips</summary>\n",
    "\n",
    "You can loop through the values of a column in a for loop like this:\n",
    "\n",
    "```python\n",
    "for value in df['population']:\n",
    "    ...do something with value here...\n",
    "```\n",
    "\n",
    "\n",
    "</details>"
   ]
  },
  {
   "cell_type": "code",
   "execution_count": 32,
   "metadata": {},
   "outputs": [
    {
     "name": "stdout",
     "output_type": "stream",
     "text": [
      "217,732 3,000\n",
      "449 0\n"
     ]
    }
   ],
   "source": [
    "for value in df['population']:\n",
    "    if value.isnumeric() == False:\n",
    "        print(value)"
   ]
  },
  {
   "cell_type": "code",
   "execution_count": 33,
   "metadata": {},
   "outputs": [
    {
     "name": "stdout",
     "output_type": "stream",
     "text": [
      "217,732 3,000\n",
      "449 0\n"
     ]
    }
   ],
   "source": [
    "for value in df.population:\n",
    "    try:\n",
    "        float(value)\n",
    "    except ValueError:\n",
    "        print(value)"
   ]
  },
  {
   "cell_type": "markdown",
   "metadata": {},
   "source": [
    "```python\n",
    "str(df.population).str.is_numeric()\n",
    "```\n",
    "returns an error"
   ]
  },
  {
   "cell_type": "markdown",
   "metadata": {},
   "source": [
    "3. **Wrap your code in a function:** Use the reasoning behind the code you wrote in Step 2 and create a function called `is_invalid_number` that takes a string as input and returns `True` if the string is not a valid number and `False` otherwise.\n",
    "\n",
    "\n",
    "    <div style=\"width:60%;font-size:0.9em;\">\n",
    "    \n",
    "    💡 **Why bother?** As explained in W05 lecture, we want you to become proficient with custom functions. \n",
    "    \n",
    "    [They are great for doing data manipulation in pandas! More on that in Step 5 of this current action point.]{style=\"margin-left:1.5em;\"}\n",
    "    \n",
    "    [THANKS FOR SEEING THIS HIDDEN MARKDOWN PRO-TIP! Did you notice this weird syntax I'm using here? I have text wrapped within square brackets followed by some curly braces... This is a nice little hacky way to apply some inline CSS to the text when writing in Markdown :D ]{style=\"margin-left:1.5em;display:block;color:#ffffff\"}\n",
    "\n",
    "    </div>"
   ]
  },
  {
   "cell_type": "code",
   "execution_count": 34,
   "metadata": {},
   "outputs": [],
   "source": [
    "def is_invalid_number(value):\n",
    "    return not value.isnumeric()"
   ]
  },
  {
   "cell_type": "code",
   "execution_count": null,
   "metadata": {},
   "outputs": [],
   "source": [
    "#def is_invalid_number(value):\n",
    "    #return not value.isdigit()"
   ]
  },
  {
   "cell_type": "markdown",
   "metadata": {},
   "source": [
    "You can also use the \n",
    "```python \n",
    "any(bool)\n",
    "```\n",
    "function which returns \n",
    "```python \n",
    "True\n",
    "```\n",
    "if any of the bools are \n",
    "```python \n",
    "True\n",
    "```"
   ]
  },
  {
   "cell_type": "markdown",
   "metadata": {},
   "source": [
    "4. **Test your function:** Test your function with the following inputs:\n",
    " \n",
    "    - `'123'`\n",
    "\n",
    "    - `'abc'`\n",
    "\n",
    "    - `'123 784'`\n",
    "    \n",
    "    What do you expect the output to be for each of these inputs?"
   ]
  },
  {
   "cell_type": "code",
   "execution_count": 35,
   "metadata": {},
   "outputs": [
    {
     "name": "stdout",
     "output_type": "stream",
     "text": [
      "True\n",
      "False\n",
      "True\n"
     ]
    }
   ],
   "source": [
    "# Delete this line and write your answer here\n",
    "print(is_invalid_number('123_123123'))\n",
    "print(is_invalid_number('123'))\n",
    "print(is_invalid_number('abc'))"
   ]
  },
  {
   "cell_type": "markdown",
   "metadata": {},
   "source": [
    "::: {style=\"font-size:0.9em;width:40%;margin-left:2em;\"}\n",
    "\n",
    "**Note**: in real life, we wouldn't need to write a function just for this. There are built-in functions in Python that can do this for us. But we are doing this to practice writing custom functions.\n",
    "\n",
    "**Pro-tip**: See people fighting online for the 'proper' way to identify whether a string constitutes a number by visiting [this StackOverflow](https://stackoverflow.com/questions/354038/how-do-i-check-if-a-string-represents-a-number-float-or-int) discussion thread.\n",
    "\n",
    ":::"
   ]
  },
  {
   "cell_type": "markdown",
   "metadata": {},
   "source": [
    "5. **⭐️ Applying the function to the DataFrame:** This action point will hopefully clarify why we are doing all of this function stuff. \n",
    "\n",
    "    Pandas has a method called `apply()` that applies a function to each element of a DataFrame and returns a new column with the results.\n",
    "\n",
    "    If your function worked well, then the code below should work and return a new column full with `True` and `False` values."
   ]
  },
  {
   "cell_type": "code",
   "execution_count": 36,
   "metadata": {},
   "outputs": [
    {
     "data": {
      "text/plain": [
       "0      False\n",
       "1      False\n",
       "2      False\n",
       "3      False\n",
       "4      False\n",
       "       ...  \n",
       "234    False\n",
       "235    False\n",
       "236    False\n",
       "237    False\n",
       "238    False\n",
       "Name: population, Length: 239, dtype: bool"
      ]
     },
     "execution_count": 36,
     "metadata": {},
     "output_type": "execute_result"
    }
   ],
   "source": [
    "df['population'].apply(is_invalid_number)\n"
   ]
  },
  {
   "cell_type": "markdown",
   "metadata": {},
   "source": [
    "6. **Save this to a new column:** Save the results of the `apply()` method to a new column called `is_invalid_pop_number` in the DataFrame.\n",
    "\n",
    "    This can be achieved by running the following code:"
   ]
  },
  {
   "cell_type": "code",
   "execution_count": 37,
   "metadata": {},
   "outputs": [],
   "source": [
    "df['is_invalid_pop_number'] = df['population'].apply(is_invalid_number)"
   ]
  },
  {
   "cell_type": "markdown",
   "metadata": {},
   "source": [
    "7. **Filter the DataFrame:** Use the `is_invalid_pop_number` column to filter the DataFrame to only include rows where `is_invalid_pop_number` is `True`."
   ]
  },
  {
   "cell_type": "code",
   "execution_count": 38,
   "metadata": {},
   "outputs": [
    {
     "data": {
      "text/html": [
       "<div>\n",
       "<style scoped>\n",
       "    .dataframe tbody tr th:only-of-type {\n",
       "        vertical-align: middle;\n",
       "    }\n",
       "\n",
       "    .dataframe tbody tr th {\n",
       "        vertical-align: top;\n",
       "    }\n",
       "\n",
       "    .dataframe thead th {\n",
       "        text-align: right;\n",
       "    }\n",
       "</style>\n",
       "<table border=\"1\" class=\"dataframe\">\n",
       "  <thead>\n",
       "    <tr style=\"text-align: right;\">\n",
       "      <th></th>\n",
       "      <th>country_dependency</th>\n",
       "      <th>capital</th>\n",
       "      <th>population</th>\n",
       "      <th>country_percentage</th>\n",
       "      <th>source</th>\n",
       "      <th>is_invalid_pop_number</th>\n",
       "    </tr>\n",
       "  </thead>\n",
       "  <tbody>\n",
       "    <tr>\n",
       "      <th>152</th>\n",
       "      <td>Sahrawi Arab Democratic Republic</td>\n",
       "      <td>Laayoune (claimed) Tifariti (de facto)</td>\n",
       "      <td>217,732 3,000</td>\n",
       "      <td>—</td>\n",
       "      <td>2014</td>\n",
       "      <td>True</td>\n",
       "    </tr>\n",
       "    <tr>\n",
       "      <th>233</th>\n",
       "      <td>Montserrat (UK)</td>\n",
       "      <td>Brades (de facto) Plymouth (de jure)</td>\n",
       "      <td>449 0</td>\n",
       "      <td>NaN</td>\n",
       "      <td>2011</td>\n",
       "      <td>True</td>\n",
       "    </tr>\n",
       "  </tbody>\n",
       "</table>\n",
       "</div>"
      ],
      "text/plain": [
       "                   country_dependency                                 capital  \\\n",
       "152  Sahrawi Arab Democratic Republic  Laayoune (claimed) Tifariti (de facto)   \n",
       "233                   Montserrat (UK)    Brades (de facto) Plymouth (de jure)   \n",
       "\n",
       "        population country_percentage source  is_invalid_pop_number  \n",
       "152  217,732 3,000                  —   2014                   True  \n",
       "233          449 0                NaN   2011                   True  "
      ]
     },
     "execution_count": 38,
     "metadata": {},
     "output_type": "execute_result"
    }
   ],
   "source": [
    "# I only want the lines where the population is invalid\n",
    "selected_rows = df['is_invalid_pop_number'] == True\n",
    "\n",
    "# I pass the list of booleans to the dataframe to select the rows I want\n",
    "df[selected_rows]\n",
    "\n",
    "# pick one of the invalid values and fix it"
   ]
  },
  {
   "cell_type": "markdown",
   "metadata": {},
   "source": [
    "8. **🏆 How will you solve that?** \n",
    "\n",
    "    Say we don't want to remove the two lines above, but instead, we like to keep only one of the two numbers that appear in their `population` column. How would you do that?\n",
    "\n",
    "    Write the code below that meet the following requirements:\n",
    "\n",
    "    - Create a custom function that takes a string as input. If the string is a valid number, return the number. Otherwise, choose one of the numbers and return it.\n",
    "    \n",
    "    - The function must return a number, not a string passing as a number!\n",
    "\n",
    "    - Use the `apply()` method to apply the function to the `population` column and save the results to a new column called `clean_population`.\n",
    "\n",
    "    - Ensure that the `clean_population` is of type `np.int32`"
   ]
  },
  {
   "cell_type": "code",
   "execution_count": 39,
   "metadata": {},
   "outputs": [],
   "source": [
    "def clean_pop(value):\n",
    "    if not is_invalid_number(value):\n",
    "        return int(value)\n",
    "    else:\n",
    "        return int(value.split(' ')[0].replace(',', ''))\n"
   ]
  },
  {
   "cell_type": "code",
   "execution_count": 40,
   "metadata": {},
   "outputs": [
    {
     "data": {
      "text/plain": [
       "3000"
      ]
     },
     "execution_count": 40,
     "metadata": {},
     "output_type": "execute_result"
    }
   ],
   "source": [
    "int(df[selected_rows].iloc[0]['population'].split(' ')[1].replace(',', ''))"
   ]
  },
  {
   "cell_type": "code",
   "execution_count": 41,
   "metadata": {},
   "outputs": [
    {
     "data": {
      "text/plain": [
       "0      21542000\n",
       "1      14094034\n",
       "2      13104177\n",
       "3      12691000\n",
       "4      10562088\n",
       "         ...   \n",
       "234         341\n",
       "235         134\n",
       "236          40\n",
       "237          22\n",
       "238           0\n",
       "Name: clean_population, Length: 239, dtype: int64"
      ]
     },
     "execution_count": 41,
     "metadata": {},
     "output_type": "execute_result"
    }
   ],
   "source": [
    "df['clean_population'] = df.population.apply(clean_pop)\n",
    "df['clean_population']"
   ]
  },
  {
   "cell_type": "markdown",
   "metadata": {},
   "source": [
    "9. **Calculate the average population:** Now that you have cleaned the `population` column, you can calculate the average population of the capitals by running the code below. "
   ]
  },
  {
   "cell_type": "code",
   "execution_count": 42,
   "metadata": {},
   "outputs": [
    {
     "data": {
      "text/plain": [
       "1623159.3849372384"
      ]
     },
     "execution_count": 42,
     "metadata": {},
     "output_type": "execute_result"
    }
   ],
   "source": [
    "df['clean_population'].mean()"
   ]
  },
  {
   "cell_type": "markdown",
   "metadata": {},
   "source": [
    "Or even a more complete statistical summary of the `clean_population` column:"
   ]
  },
  {
   "cell_type": "code",
   "execution_count": 43,
   "metadata": {},
   "outputs": [
    {
     "data": {
      "text/plain": [
       "count    2.390000e+02\n",
       "mean     1.623159e+06\n",
       "std      2.851528e+06\n",
       "min      0.000000e+00\n",
       "25%      7.117400e+04\n",
       "50%      6.040130e+05\n",
       "75%      1.749742e+06\n",
       "max      2.154200e+07\n",
       "Name: clean_population, dtype: float64"
      ]
     },
     "execution_count": 43,
     "metadata": {},
     "output_type": "execute_result"
    }
   ],
   "source": [
    "df['clean_population'].describe()"
   ]
  },
  {
   "cell_type": "code",
   "execution_count": 44,
   "metadata": {},
   "outputs": [
    {
     "data": {
      "text/html": [
       "<style type=\"text/css\">\n",
       "</style>\n",
       "<table id=\"T_fae0c\">\n",
       "  <thead>\n",
       "    <tr>\n",
       "      <th class=\"blank level0\" >&nbsp;</th>\n",
       "      <th id=\"T_fae0c_level0_col0\" class=\"col_heading level0 col0\" >count</th>\n",
       "      <th id=\"T_fae0c_level0_col1\" class=\"col_heading level0 col1\" >mean</th>\n",
       "      <th id=\"T_fae0c_level0_col2\" class=\"col_heading level0 col2\" >std</th>\n",
       "      <th id=\"T_fae0c_level0_col3\" class=\"col_heading level0 col3\" >min</th>\n",
       "      <th id=\"T_fae0c_level0_col4\" class=\"col_heading level0 col4\" >25%</th>\n",
       "      <th id=\"T_fae0c_level0_col5\" class=\"col_heading level0 col5\" >50%</th>\n",
       "      <th id=\"T_fae0c_level0_col6\" class=\"col_heading level0 col6\" >75%</th>\n",
       "      <th id=\"T_fae0c_level0_col7\" class=\"col_heading level0 col7\" >max</th>\n",
       "    </tr>\n",
       "  </thead>\n",
       "  <tbody>\n",
       "    <tr>\n",
       "      <th id=\"T_fae0c_level0_row0\" class=\"row_heading level0 row0\" >clean_population</th>\n",
       "      <td id=\"T_fae0c_row0_col0\" class=\"data row0 col0\" >239</td>\n",
       "      <td id=\"T_fae0c_row0_col1\" class=\"data row0 col1\" >1,623,159</td>\n",
       "      <td id=\"T_fae0c_row0_col2\" class=\"data row0 col2\" >2,851,528</td>\n",
       "      <td id=\"T_fae0c_row0_col3\" class=\"data row0 col3\" >0</td>\n",
       "      <td id=\"T_fae0c_row0_col4\" class=\"data row0 col4\" >71,174</td>\n",
       "      <td id=\"T_fae0c_row0_col5\" class=\"data row0 col5\" >604,013</td>\n",
       "      <td id=\"T_fae0c_row0_col6\" class=\"data row0 col6\" >1,749,742</td>\n",
       "      <td id=\"T_fae0c_row0_col7\" class=\"data row0 col7\" >21,542,000</td>\n",
       "    </tr>\n",
       "  </tbody>\n",
       "</table>\n"
      ],
      "text/plain": [
       "<pandas.io.formats.style.Styler at 0x19fc52dfe10>"
      ]
     },
     "execution_count": 44,
     "metadata": {},
     "output_type": "execute_result"
    }
   ],
   "source": [
    "# Or go full fancy and use the pandas style feature to format the output\n",
    "\n",
    "(\n",
    "    df['clean_population']\n",
    "    .describe()         # get the summary statistics\n",
    "    .to_frame()         # convert the output of the describe method from a series to a data frame\n",
    "    .transpose()        # transpose the data frame\n",
    "    .style\n",
    "    .format(\"{:,.0f}\") # apply the comma format to the numbers\n",
    ")"
   ]
  },
  {
   "cell_type": "markdown",
   "metadata": {},
   "source": [
    "---\n",
    "\n",
    "# Part III – Practice, practice, practice (20 min)\n",
    "\n",
    "🎯 **ACTION POINTS:**\n",
    "\n",
    "1. Pre-process the `country_percentage` column to remove the `%` sign and convert it to a float.\n",
    "\n",
    "2. Then, calculate the average percentage of the country that each capital represents."
   ]
  },
  {
   "cell_type": "code",
   "execution_count": 46,
   "metadata": {},
   "outputs": [],
   "source": [
    "def fix_country_percentage(percentage):\n",
    "    value_without_pct_sign = str(percentage).replace('&', '')\n",
    "    if value_without_pct_sign == '_':\n",
    "        return np.nan\n",
    "    else:\n",
    "        return float(value_without_pct_sign)\n",
    "    "
   ]
  },
  {
   "cell_type": "code",
   "execution_count": 48,
   "metadata": {},
   "outputs": [],
   "source": [
    "def fix_percentage(value):\n",
    "    number = str(value).replace('&', '')[0]\n",
    "\n",
    "    try:\n",
    "        number = float(number)\n",
    "        return number\n",
    "    except ValueError:\n",
    "        return np.nan"
   ]
  },
  {
   "cell_type": "code",
   "execution_count": 49,
   "metadata": {},
   "outputs": [],
   "source": [
    "df['clean_country_percentage'] = df['country_percentage'].apply(fix_percentage)"
   ]
  },
  {
   "cell_type": "code",
   "execution_count": 50,
   "metadata": {},
   "outputs": [
    {
     "data": {
      "text/html": [
       "<div>\n",
       "<style scoped>\n",
       "    .dataframe tbody tr th:only-of-type {\n",
       "        vertical-align: middle;\n",
       "    }\n",
       "\n",
       "    .dataframe tbody tr th {\n",
       "        vertical-align: top;\n",
       "    }\n",
       "\n",
       "    .dataframe thead th {\n",
       "        text-align: right;\n",
       "    }\n",
       "</style>\n",
       "<table border=\"1\" class=\"dataframe\">\n",
       "  <thead>\n",
       "    <tr style=\"text-align: right;\">\n",
       "      <th></th>\n",
       "      <th>country_dependency</th>\n",
       "      <th>capital</th>\n",
       "      <th>population</th>\n",
       "      <th>country_percentage</th>\n",
       "      <th>source</th>\n",
       "      <th>is_invalid_pop_number</th>\n",
       "      <th>clean_population</th>\n",
       "      <th>clean_country_percentage</th>\n",
       "    </tr>\n",
       "  </thead>\n",
       "  <tbody>\n",
       "    <tr>\n",
       "      <th>0</th>\n",
       "      <td>China *</td>\n",
       "      <td>Beijing</td>\n",
       "      <td>21542000</td>\n",
       "      <td>1.5%</td>\n",
       "      <td>[1] 2018</td>\n",
       "      <td>False</td>\n",
       "      <td>21542000</td>\n",
       "      <td>1.0</td>\n",
       "    </tr>\n",
       "    <tr>\n",
       "      <th>1</th>\n",
       "      <td>Japan *</td>\n",
       "      <td>Tokyo</td>\n",
       "      <td>14094034</td>\n",
       "      <td>11.3%</td>\n",
       "      <td>[2] 2023</td>\n",
       "      <td>False</td>\n",
       "      <td>14094034</td>\n",
       "      <td>1.0</td>\n",
       "    </tr>\n",
       "    <tr>\n",
       "      <th>2</th>\n",
       "      <td>Russia *</td>\n",
       "      <td>Moscow</td>\n",
       "      <td>13104177</td>\n",
       "      <td>9.0%</td>\n",
       "      <td>[3] 2023</td>\n",
       "      <td>False</td>\n",
       "      <td>13104177</td>\n",
       "      <td>9.0</td>\n",
       "    </tr>\n",
       "    <tr>\n",
       "      <th>3</th>\n",
       "      <td>DR Congo *</td>\n",
       "      <td>Kinshasa</td>\n",
       "      <td>12691000</td>\n",
       "      <td>13.2%</td>\n",
       "      <td>[4] 2017</td>\n",
       "      <td>False</td>\n",
       "      <td>12691000</td>\n",
       "      <td>1.0</td>\n",
       "    </tr>\n",
       "    <tr>\n",
       "      <th>4</th>\n",
       "      <td>Indonesia *</td>\n",
       "      <td>Jakarta</td>\n",
       "      <td>10562088</td>\n",
       "      <td>3.9%</td>\n",
       "      <td>[5] 2020</td>\n",
       "      <td>False</td>\n",
       "      <td>10562088</td>\n",
       "      <td>3.0</td>\n",
       "    </tr>\n",
       "    <tr>\n",
       "      <th>...</th>\n",
       "      <td>...</td>\n",
       "      <td>...</td>\n",
       "      <td>...</td>\n",
       "      <td>...</td>\n",
       "      <td>...</td>\n",
       "      <td>...</td>\n",
       "      <td>...</td>\n",
       "      <td>...</td>\n",
       "    </tr>\n",
       "    <tr>\n",
       "      <th>234</th>\n",
       "      <td>Norfolk Island (Australia)</td>\n",
       "      <td>Kingston</td>\n",
       "      <td>341</td>\n",
       "      <td>NaN</td>\n",
       "      <td>2015</td>\n",
       "      <td>False</td>\n",
       "      <td>341</td>\n",
       "      <td>NaN</td>\n",
       "    </tr>\n",
       "    <tr>\n",
       "      <th>235</th>\n",
       "      <td>Cocos (Keeling) Islands (Australia)</td>\n",
       "      <td>West Island</td>\n",
       "      <td>134</td>\n",
       "      <td>24.6%</td>\n",
       "      <td>2011</td>\n",
       "      <td>False</td>\n",
       "      <td>134</td>\n",
       "      <td>2.0</td>\n",
       "    </tr>\n",
       "    <tr>\n",
       "      <th>236</th>\n",
       "      <td>Pitcairn Islands (UK)</td>\n",
       "      <td>Adamstown</td>\n",
       "      <td>40</td>\n",
       "      <td>100.0%</td>\n",
       "      <td>2021</td>\n",
       "      <td>False</td>\n",
       "      <td>40</td>\n",
       "      <td>1.0</td>\n",
       "    </tr>\n",
       "    <tr>\n",
       "      <th>237</th>\n",
       "      <td>South Georgia and the South Sandwich Islands (UK)</td>\n",
       "      <td>King Edward Point</td>\n",
       "      <td>22</td>\n",
       "      <td>73.3%</td>\n",
       "      <td>2018</td>\n",
       "      <td>False</td>\n",
       "      <td>22</td>\n",
       "      <td>7.0</td>\n",
       "    </tr>\n",
       "    <tr>\n",
       "      <th>238</th>\n",
       "      <td>Palau</td>\n",
       "      <td>Ngerulmud</td>\n",
       "      <td>0</td>\n",
       "      <td>0.0%</td>\n",
       "      <td>2010</td>\n",
       "      <td>False</td>\n",
       "      <td>0</td>\n",
       "      <td>0.0</td>\n",
       "    </tr>\n",
       "  </tbody>\n",
       "</table>\n",
       "<p>239 rows × 8 columns</p>\n",
       "</div>"
      ],
      "text/plain": [
       "                                    country_dependency            capital  \\\n",
       "0                                              China *            Beijing   \n",
       "1                                              Japan *              Tokyo   \n",
       "2                                             Russia *             Moscow   \n",
       "3                                           DR Congo *           Kinshasa   \n",
       "4                                          Indonesia *            Jakarta   \n",
       "..                                                 ...                ...   \n",
       "234                         Norfolk Island (Australia)           Kingston   \n",
       "235                Cocos (Keeling) Islands (Australia)        West Island   \n",
       "236                              Pitcairn Islands (UK)          Adamstown   \n",
       "237  South Georgia and the South Sandwich Islands (UK)  King Edward Point   \n",
       "238                                              Palau          Ngerulmud   \n",
       "\n",
       "    population country_percentage    source  is_invalid_pop_number  \\\n",
       "0     21542000               1.5%  [1] 2018                  False   \n",
       "1     14094034              11.3%  [2] 2023                  False   \n",
       "2     13104177               9.0%  [3] 2023                  False   \n",
       "3     12691000              13.2%  [4] 2017                  False   \n",
       "4     10562088               3.9%  [5] 2020                  False   \n",
       "..         ...                ...       ...                    ...   \n",
       "234        341                NaN      2015                  False   \n",
       "235        134              24.6%      2011                  False   \n",
       "236         40             100.0%      2021                  False   \n",
       "237         22              73.3%      2018                  False   \n",
       "238          0               0.0%      2010                  False   \n",
       "\n",
       "     clean_population  clean_country_percentage  \n",
       "0            21542000                       1.0  \n",
       "1            14094034                       1.0  \n",
       "2            13104177                       9.0  \n",
       "3            12691000                       1.0  \n",
       "4            10562088                       3.0  \n",
       "..                ...                       ...  \n",
       "234               341                       NaN  \n",
       "235               134                       2.0  \n",
       "236                40                       1.0  \n",
       "237                22                       7.0  \n",
       "238                 0                       0.0  \n",
       "\n",
       "[239 rows x 8 columns]"
      ]
     },
     "execution_count": 50,
     "metadata": {},
     "output_type": "execute_result"
    }
   ],
   "source": [
    "df\n"
   ]
  }
 ],
 "metadata": {
  "kernelspec": {
   "display_name": "Python 3",
   "language": "python",
   "name": "python3"
  },
  "language_info": {
   "codemirror_mode": {
    "name": "ipython",
    "version": 3
   },
   "file_extension": ".py",
   "mimetype": "text/x-python",
   "name": "python",
   "nbconvert_exporter": "python",
   "pygments_lexer": "ipython3",
   "version": "3.11.5"
  },
  "orig_nbformat": 4,
  "vscode": {
   "interpreter": {
    "hash": "66a23b877595d3e158647673320c5aac91a1fe2874d6334c4fd4c069dffc5915"
   }
  }
 },
 "nbformat": 4,
 "nbformat_minor": 2
}
